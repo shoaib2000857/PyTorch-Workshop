{
 "cells": [
  {
   "cell_type": "code",
   "execution_count": 2,
   "id": "3c14428f-8fcd-4afa-a6da-40546a2b5a57",
   "metadata": {},
   "outputs": [],
   "source": [
    "import torch"
   ]
  },
  {
   "cell_type": "code",
   "execution_count": 40,
   "id": "eaf98db0-acbb-4c2c-b271-fcb3e2b3d7d9",
   "metadata": {},
   "outputs": [],
   "source": [
    "t0 = torch.tensor(3)\n",
    "# o-d tensor == scalar"
   ]
  },
  {
   "cell_type": "code",
   "execution_count": 38,
   "id": "4ccc17bd-8b31-4fa3-9cbd-4bb5f888e725",
   "metadata": {},
   "outputs": [
    {
     "data": {
      "text/plain": [
       "torch.Size([])"
      ]
     },
     "execution_count": 38,
     "metadata": {},
     "output_type": "execute_result"
    }
   ],
   "source": [
    "t0.shape"
   ]
  },
  {
   "cell_type": "code",
   "execution_count": 4,
   "id": "ed22752e-583e-4624-908f-7c8e1b4eb213",
   "metadata": {},
   "outputs": [],
   "source": [
    "t1 = torch.tensor([1,2,3])"
   ]
  },
  {
   "cell_type": "code",
   "execution_count": 22,
   "id": "ddffd607-e687-43e2-981b-c29736fc898d",
   "metadata": {},
   "outputs": [],
   "source": [
    "t2 = torch.tensor([[1,2,3], [4,5,6]])"
   ]
  },
  {
   "cell_type": "code",
   "execution_count": 6,
   "id": "31c61c3b-162d-4050-a364-f2ac3df483f3",
   "metadata": {},
   "outputs": [],
   "source": [
    "x = torch.tensor([1,2,3])\n",
    "y = x.type(torch.float)"
   ]
  },
  {
   "cell_type": "code",
   "execution_count": 8,
   "id": "a39d441d-c099-45f0-b222-e250c1990360",
   "metadata": {},
   "outputs": [
    {
     "data": {
      "text/plain": [
       "tensor([1., 2., 3.])"
      ]
     },
     "execution_count": 8,
     "metadata": {},
     "output_type": "execute_result"
    }
   ],
   "source": [
    "y"
   ]
  },
  {
   "cell_type": "code",
   "execution_count": 12,
   "id": "203c82a7-5242-477c-9515-fec63d7ddef3",
   "metadata": {},
   "outputs": [
    {
     "data": {
      "text/plain": [
       "'torch.FloatTensor'"
      ]
     },
     "execution_count": 12,
     "metadata": {},
     "output_type": "execute_result"
    }
   ],
   "source": [
    "y.type()"
   ]
  },
  {
   "cell_type": "code",
   "execution_count": 16,
   "id": "69110c07-ae4c-4e10-ab62-4756c52fac40",
   "metadata": {},
   "outputs": [],
   "source": [
    "x = torch.tensor([1., 2., 3.])\n",
    "y = x.type(torch.int)"
   ]
  },
  {
   "cell_type": "code",
   "execution_count": 20,
   "id": "0b82ceb1-d4ea-4e8b-98bf-23500f2a1d5e",
   "metadata": {},
   "outputs": [
    {
     "data": {
      "text/plain": [
       "'torch.IntTensor'"
      ]
     },
     "execution_count": 20,
     "metadata": {},
     "output_type": "execute_result"
    }
   ],
   "source": [
    "y.type()"
   ]
  },
  {
   "cell_type": "code",
   "execution_count": 24,
   "id": "a0b2f431-a1a8-423e-a908-99d729977317",
   "metadata": {},
   "outputs": [
    {
     "data": {
      "text/plain": [
       "tensor([[1, 2, 3],\n",
       "        [4, 5, 6],\n",
       "        [7, 8, 9]])"
      ]
     },
     "execution_count": 24,
     "metadata": {},
     "output_type": "execute_result"
    }
   ],
   "source": [
    "t2"
   ]
  },
  {
   "cell_type": "code",
   "execution_count": 26,
   "id": "b0028f3a-913f-4047-b116-8b685f49426a",
   "metadata": {},
   "outputs": [
    {
     "data": {
      "text/plain": [
       "tensor([5., 7., 9.])"
      ]
     },
     "execution_count": 26,
     "metadata": {},
     "output_type": "execute_result"
    }
   ],
   "source": [
    "x = torch.tensor([1., 2., 3.])\n",
    "y = torch.tensor([4., 5., 6.])\n",
    "x+y"
   ]
  },
  {
   "cell_type": "code",
   "execution_count": 28,
   "id": "43bef437-2a7b-479a-b271-68e4adf4e189",
   "metadata": {},
   "outputs": [
    {
     "data": {
      "text/plain": [
       "tensor([5., 7., 9.])"
      ]
     },
     "execution_count": 28,
     "metadata": {},
     "output_type": "execute_result"
    }
   ],
   "source": [
    "x.add(y)"
   ]
  },
  {
   "cell_type": "code",
   "execution_count": 30,
   "id": "2bd6a97e-b857-4f7c-b153-5e29ddbd00bd",
   "metadata": {},
   "outputs": [
    {
     "data": {
      "text/plain": [
       "tensor([5., 7., 9.])"
      ]
     },
     "execution_count": 30,
     "metadata": {},
     "output_type": "execute_result"
    }
   ],
   "source": [
    "x.add_(y)"
   ]
  },
  {
   "cell_type": "code",
   "execution_count": 32,
   "id": "7d81bed9-c6b9-4db2-a256-840d8f9432ae",
   "metadata": {},
   "outputs": [],
   "source": [
    "# add_ is in place \n",
    "# add( ) returns the added value\n",
    "# + is an operator\n"
   ]
  },
  {
   "cell_type": "code",
   "execution_count": 42,
   "id": "3ee5c72c-595f-4972-8118-55dc6cbbfcd5",
   "metadata": {},
   "outputs": [],
   "source": [
    "x = torch.tensor([1., 2., 3.])"
   ]
  },
  {
   "cell_type": "code",
   "execution_count": 50,
   "id": "5d9fb0b3-9f63-4caa-a11c-f2b18c70d6cb",
   "metadata": {},
   "outputs": [
    {
     "data": {
      "text/plain": [
       "6.0"
      ]
     },
     "execution_count": 50,
     "metadata": {},
     "output_type": "execute_result"
    }
   ],
   "source": [
    "# Sum and extract values\n",
    "s = x.sum()\n",
    "# s is a scalar vaule, saved as a tensor\n",
    "\n",
    "s.item()"
   ]
  },
  {
   "cell_type": "code",
   "execution_count": 52,
   "id": "3294bba2-4dba-482c-9441-25d46f1c2dc9",
   "metadata": {},
   "outputs": [
    {
     "data": {
      "text/plain": [
       "tensor(2.)"
      ]
     },
     "execution_count": 52,
     "metadata": {},
     "output_type": "execute_result"
    }
   ],
   "source": [
    " x = torch.tensor([1., 2., 3.,])\n",
    "x.mean()"
   ]
  },
  {
   "cell_type": "code",
   "execution_count": 54,
   "id": "0c296537-4f8c-4e5f-9ff4-ac9a08a14639",
   "metadata": {},
   "outputs": [
    {
     "ename": "RuntimeError",
     "evalue": "mean(): could not infer output dtype. Input dtype must be either a floating point or complex dtype. Got: Long",
     "output_type": "error",
     "traceback": [
      "\u001b[0;31m---------------------------------------------------------------------------\u001b[0m",
      "\u001b[0;31mRuntimeError\u001b[0m                              Traceback (most recent call last)",
      "Cell \u001b[0;32mIn[54], line 2\u001b[0m\n\u001b[1;32m      1\u001b[0m x \u001b[38;5;241m=\u001b[39m torch\u001b[38;5;241m.\u001b[39mtensor([\u001b[38;5;241m1\u001b[39m,\u001b[38;5;241m2\u001b[39m,\u001b[38;5;241m3\u001b[39m])\n\u001b[0;32m----> 2\u001b[0m x\u001b[38;5;241m.\u001b[39mmean()\n",
      "\u001b[0;31mRuntimeError\u001b[0m: mean(): could not infer output dtype. Input dtype must be either a floating point or complex dtype. Got: Long"
     ]
    }
   ],
   "source": [
    "x = torch.tensor([1,2,3])\n",
    "x.mean()"
   ]
  },
  {
   "cell_type": "code",
   "execution_count": 56,
   "id": "bb9def85-9043-46ba-8d43-bc7d73c57085",
   "metadata": {},
   "outputs": [
    {
     "name": "stdout",
     "output_type": "stream",
     "text": [
      "mean(): could not infer output dtype. Input dtype must be either a floating point or complex dtype. Got: Long\n"
     ]
    }
   ],
   "source": [
    "try:\n",
    "    x.mean()\n",
    "except Exception as E:\n",
    "    print(E)"
   ]
  },
  {
   "cell_type": "code",
   "execution_count": 60,
   "id": "122b94fe-79cc-4ec2-8ab2-da7f9669bb18",
   "metadata": {},
   "outputs": [
    {
     "data": {
      "text/plain": [
       "tensor([[1., 2., 3.],\n",
       "        [4., 5., 6.]])"
      ]
     },
     "execution_count": 60,
     "metadata": {},
     "output_type": "execute_result"
    }
   ],
   "source": [
    "A = torch.tensor(\n",
    "    [[1., 2., 3.],\n",
    "    [4., 5., 6.]]\n",
    ")\n",
    "A"
   ]
  },
  {
   "cell_type": "code",
   "execution_count": 62,
   "id": "243bbae8-69d2-4697-b544-59fa05a67cd0",
   "metadata": {},
   "outputs": [
    {
     "data": {
      "text/plain": [
       "tensor(21.)"
      ]
     },
     "execution_count": 62,
     "metadata": {},
     "output_type": "execute_result"
    }
   ],
   "source": [
    "A.sum()"
   ]
  },
  {
   "cell_type": "code",
   "execution_count": 64,
   "id": "3d17e563-9c2b-48a1-aeaa-1bc05713ea8e",
   "metadata": {},
   "outputs": [
    {
     "data": {
      "text/plain": [
       "tensor([5., 7., 9.])"
      ]
     },
     "execution_count": 64,
     "metadata": {},
     "output_type": "execute_result"
    }
   ],
   "source": [
    "A.sum(dim = 0)\n"
   ]
  },
  {
   "cell_type": "code",
   "execution_count": 66,
   "id": "98273b03-ee36-4a36-8f5c-65e170ba8117",
   "metadata": {},
   "outputs": [
    {
     "data": {
      "text/plain": [
       "tensor([ 6., 15.])"
      ]
     },
     "execution_count": 66,
     "metadata": {},
     "output_type": "execute_result"
    }
   ],
   "source": [
    "A.sum(dim = 1)"
   ]
  },
  {
   "cell_type": "code",
   "execution_count": 72,
   "id": "6ced8f8e-98f3-496e-99fb-4725e2d19a26",
   "metadata": {},
   "outputs": [
    {
     "data": {
      "text/plain": [
       "tensor([[0, 1, 2, 3, 4],\n",
       "        [5, 6, 7, 8, 9]])"
      ]
     },
     "execution_count": 72,
     "metadata": {},
     "output_type": "execute_result"
    }
   ],
   "source": [
    "x = torch.arange(10)\n",
    "A = x.reshape(-1,5)\n",
    "A"
   ]
  },
  {
   "cell_type": "code",
   "execution_count": 74,
   "id": "43ae21ee-df58-4b79-b818-5d39fe61cd84",
   "metadata": {},
   "outputs": [
    {
     "data": {
      "text/plain": [
       "tensor([[ 0,  1,  2],\n",
       "        [ 3,  4,  5],\n",
       "        [ 6,  7,  8],\n",
       "        [ 9, 10, 11],\n",
       "        [12, 13, 14]])"
      ]
     },
     "execution_count": 74,
     "metadata": {},
     "output_type": "execute_result"
    }
   ],
   "source": [
    "A = torch.arange(15).reshape(5,3)\n",
    "A"
   ]
  },
  {
   "cell_type": "code",
   "execution_count": 76,
   "id": "fcf91c29-02e2-43ec-a261-7266ee85d9e0",
   "metadata": {},
   "outputs": [
    {
     "data": {
      "text/plain": [
       "tensor([6, 7, 8])"
      ]
     },
     "execution_count": 76,
     "metadata": {},
     "output_type": "execute_result"
    }
   ],
   "source": [
    "A[2, :]"
   ]
  },
  {
   "cell_type": "code",
   "execution_count": 78,
   "id": "7210ab72-b0f2-47fc-9b49-effeb2213c9d",
   "metadata": {},
   "outputs": [
    {
     "data": {
      "text/plain": [
       "tensor([ 1,  4,  7, 10, 13])"
      ]
     },
     "execution_count": 78,
     "metadata": {},
     "output_type": "execute_result"
    }
   ],
   "source": [
    "A[:, 1]"
   ]
  },
  {
   "cell_type": "code",
   "execution_count": 80,
   "id": "0049af52-be91-4833-9d49-50efa5e50c83",
   "metadata": {},
   "outputs": [
    {
     "data": {
      "text/plain": [
       "(tensor([[0, 1, 2, 3, 4],\n",
       "         [5, 6, 7, 8, 9]]),\n",
       " tensor([1, 2, 3, 4, 5]))"
      ]
     },
     "execution_count": 80,
     "metadata": {},
     "output_type": "execute_result"
    }
   ],
   "source": [
    "A = torch.arange(10).reshape(2,5)\n",
    "b = torch.tensor([1,2,3,4,5])\n",
    "A , b"
   ]
  },
  {
   "cell_type": "code",
   "execution_count": 84,
   "id": "615501b2-2f36-4cb2-a26e-cdf19859a7a7",
   "metadata": {},
   "outputs": [
    {
     "data": {
      "text/plain": [
       "(torch.Size([2, 5]), torch.Size([5]), torch.Size([2]))"
      ]
     },
     "execution_count": 84,
     "metadata": {},
     "output_type": "execute_result"
    }
   ],
   "source": [
    "A.shape, b.shape, (A@b).shape"
   ]
  },
  {
   "cell_type": "code",
   "execution_count": 86,
   "id": "59936667-604b-4364-9b39-e9d476585a32",
   "metadata": {},
   "outputs": [
    {
     "data": {
      "text/plain": [
       "tensor([ 40, 115])"
      ]
     },
     "execution_count": 86,
     "metadata": {},
     "output_type": "execute_result"
    }
   ],
   "source": [
    "A@b\n"
   ]
  },
  {
   "cell_type": "code",
   "execution_count": 90,
   "id": "65a075f1-e51f-4442-b3ec-d342b1f0ed8a",
   "metadata": {},
   "outputs": [
    {
     "data": {
      "text/plain": [
       "(tensor([0, 1, 2, 3, 4]),\n",
       " tensor([[0, 1],\n",
       "         [2, 3],\n",
       "         [4, 5],\n",
       "         [6, 7],\n",
       "         [8, 9]]))"
      ]
     },
     "execution_count": 90,
     "metadata": {},
     "output_type": "execute_result"
    }
   ],
   "source": [
    "#Vector Matrix product \n",
    "A = torch.arange(10).reshape(5,2)\n",
    "b = torch.arange(5)\n",
    "b, A"
   ]
  },
  {
   "cell_type": "code",
   "execution_count": 92,
   "id": "28fcdecb-ef14-4d4e-b1db-1fa4eed34e30",
   "metadata": {},
   "outputs": [
    {
     "data": {
      "text/plain": [
       "tensor([60, 70])"
      ]
     },
     "execution_count": 92,
     "metadata": {},
     "output_type": "execute_result"
    }
   ],
   "source": [
    "b @ A"
   ]
  },
  {
   "cell_type": "code",
   "execution_count": 94,
   "id": "fd8b63bc-cce4-4454-b7cd-6aaf6ffa0a7d",
   "metadata": {},
   "outputs": [
    {
     "data": {
      "text/plain": [
       "(torch.Size([5]), torch.Size([5, 2]), torch.Size([2]))"
      ]
     },
     "execution_count": 94,
     "metadata": {},
     "output_type": "execute_result"
    }
   ],
   "source": [
    "b.shape, A.shape, (b@A).shape"
   ]
  },
  {
   "cell_type": "code",
   "execution_count": 100,
   "id": "8d7b043f-791a-4934-ab23-3c970fb311c8",
   "metadata": {},
   "outputs": [],
   "source": [
    "A = torch.arange(15).reshape(5,3)\n",
    "B = torch.arange(6).reshape(3,2)"
   ]
  },
  {
   "cell_type": "code",
   "execution_count": 102,
   "id": "767e3591-1c74-499b-8d5e-abed96c03527",
   "metadata": {},
   "outputs": [
    {
     "data": {
      "text/plain": [
       "tensor([[ 10,  13],\n",
       "        [ 28,  40],\n",
       "        [ 46,  67],\n",
       "        [ 64,  94],\n",
       "        [ 82, 121]])"
      ]
     },
     "execution_count": 102,
     "metadata": {},
     "output_type": "execute_result"
    }
   ],
   "source": [
    "A @ B"
   ]
  },
  {
   "cell_type": "code",
   "execution_count": 120,
   "id": "d49d5d20-2acd-4b99-b0c5-62ddc8b89f57",
   "metadata": {},
   "outputs": [
    {
     "data": {
      "text/plain": [
       "tensor([[ 0,  2,  4,  6,  8],\n",
       "        [ 5,  7,  9, 11, 13],\n",
       "        [10, 12, 14, 16, 18],\n",
       "        [15, 17, 19, 21, 23]])"
      ]
     },
     "execution_count": 120,
     "metadata": {},
     "output_type": "execute_result"
    }
   ],
   "source": [
    "A = torch.arange(20).reshape(4,5)\n",
    "b = torch.arange(5)\n",
    "A + b"
   ]
  },
  {
   "cell_type": "code",
   "execution_count": 116,
   "id": "bc4cb6ed-5b4c-4121-a8ea-5d206cd4d2b5",
   "metadata": {},
   "outputs": [],
   "source": [
    "A = torch.arange(20).reshape(4,5)\n",
    "b = torch.arange(4)"
   ]
  },
  {
   "cell_type": "code",
   "execution_count": 114,
   "id": "424ff961-2245-417d-adc0-87a6caed85bb",
   "metadata": {},
   "outputs": [
    {
     "data": {
      "text/plain": [
       "tensor([[ 0,  1,  2,  3,  4],\n",
       "        [ 6,  7,  8,  9, 10],\n",
       "        [12, 13, 14, 15, 16],\n",
       "        [18, 19, 20, 21, 22]])"
      ]
     },
     "execution_count": 114,
     "metadata": {},
     "output_type": "execute_result"
    }
   ],
   "source": [
    "# Column vector addition\n",
    "A + b.reshape(4,1)"
   ]
  },
  {
   "cell_type": "code",
   "execution_count": 124,
   "id": "371ec93b-54d9-41fa-89ac-668a9453b35a",
   "metadata": {},
   "outputs": [
    {
     "data": {
      "text/plain": [
       "(tensor([[0, 1],\n",
       "         [2, 3],\n",
       "         [4, 5]]),\n",
       " tensor([[0, 1],\n",
       "         [2, 3],\n",
       "         [4, 5],\n",
       "         [6, 7],\n",
       "         [8, 9]]))"
      ]
     },
     "execution_count": 124,
     "metadata": {},
     "output_type": "execute_result"
    }
   ],
   "source": [
    "# concatination \n",
    "\n",
    "A = torch.arange(6).reshape(3,2)\n",
    "B = torch.arange(10).reshape(5,2)\n",
    "\n",
    "A, B"
   ]
  },
  {
   "cell_type": "code",
   "execution_count": 128,
   "id": "2a02612a-e0f3-4f78-821f-aa7c73f995d4",
   "metadata": {},
   "outputs": [
    {
     "data": {
      "text/plain": [
       "(torch.Size([8, 2]),\n",
       " tensor([[0, 1],\n",
       "         [2, 3],\n",
       "         [4, 5],\n",
       "         [0, 1],\n",
       "         [2, 3],\n",
       "         [4, 5],\n",
       "         [6, 7],\n",
       "         [8, 9]]))"
      ]
     },
     "execution_count": 128,
     "metadata": {},
     "output_type": "execute_result"
    }
   ],
   "source": [
    "C = torch.concatenate((A, B), dim = 0)\n",
    "C.shape, C"
   ]
  },
  {
   "cell_type": "code",
   "execution_count": 130,
   "id": "56413981-3e50-4eab-8ed1-f5944fc86f05",
   "metadata": {},
   "outputs": [
    {
     "data": {
      "text/plain": [
       "torch.Size([2, 3, 4])"
      ]
     },
     "execution_count": 130,
     "metadata": {},
     "output_type": "execute_result"
    }
   ],
   "source": [
    "# Flatten \n",
    "A = torch.arange(24).reshape(2,3,4)\n",
    "A.shape"
   ]
  },
  {
   "cell_type": "code",
   "execution_count": 132,
   "id": "5a67c731-6fb1-4a1a-8b21-39e930e8738f",
   "metadata": {},
   "outputs": [
    {
     "data": {
      "text/plain": [
       "(torch.Size([3, 4]),\n",
       " tensor([[ 0,  1,  2,  3],\n",
       "         [ 4,  5,  6,  7],\n",
       "         [ 8,  9, 10, 11]]))"
      ]
     },
     "execution_count": 132,
     "metadata": {},
     "output_type": "execute_result"
    }
   ],
   "source": [
    "A[0].shape , A[0]"
   ]
  },
  {
   "cell_type": "code",
   "execution_count": 134,
   "id": "2c3891a8-2263-4ca5-b06b-3987b4a713ef",
   "metadata": {},
   "outputs": [
    {
     "data": {
      "text/plain": [
       "tensor([[[ 0,  1,  2,  3],\n",
       "         [ 4,  5,  6,  7],\n",
       "         [ 8,  9, 10, 11]],\n",
       "\n",
       "        [[12, 13, 14, 15],\n",
       "         [16, 17, 18, 19],\n",
       "         [20, 21, 22, 23]]])"
      ]
     },
     "execution_count": 134,
     "metadata": {},
     "output_type": "execute_result"
    }
   ],
   "source": [
    "A"
   ]
  },
  {
   "cell_type": "code",
   "execution_count": 136,
   "id": "013741e8-6433-4e15-b68e-bd068a96d364",
   "metadata": {},
   "outputs": [
    {
     "data": {
      "text/plain": [
       "(torch.Size([3, 4]),\n",
       " tensor([[12, 13, 14, 15],\n",
       "         [16, 17, 18, 19],\n",
       "         [20, 21, 22, 23]]))"
      ]
     },
     "execution_count": 136,
     "metadata": {},
     "output_type": "execute_result"
    }
   ],
   "source": [
    "A[1].shape, A[1]"
   ]
  },
  {
   "cell_type": "code",
   "execution_count": 142,
   "id": "01d85870-61ed-42ac-8ab2-a868c06ead50",
   "metadata": {},
   "outputs": [
    {
     "data": {
      "text/plain": [
       "tensor([ 0,  1,  2,  3,  4,  5,  6,  7,  8,  9, 10, 11, 12, 13, 14, 15, 16, 17,\n",
       "        18, 19, 20, 21, 22, 23])"
      ]
     },
     "execution_count": 142,
     "metadata": {},
     "output_type": "execute_result"
    }
   ],
   "source": [
    "A.flatten()"
   ]
  },
  {
   "cell_type": "code",
   "execution_count": 144,
   "id": "911354c1-eff9-446b-9489-20ed2e52c191",
   "metadata": {},
   "outputs": [
    {
     "data": {
      "text/plain": [
       "tensor([ 0,  1,  2,  3,  4,  5,  6,  7,  8,  9, 10, 11, 12, 13, 14, 15, 16, 17,\n",
       "        18, 19, 20, 21, 22, 23])"
      ]
     },
     "execution_count": 144,
     "metadata": {},
     "output_type": "execute_result"
    }
   ],
   "source": [
    "A.reshape(-1)"
   ]
  },
  {
   "cell_type": "code",
   "execution_count": 146,
   "id": "4b4f6efb-d988-4aee-ae99-dcf46f7f1ff1",
   "metadata": {},
   "outputs": [
    {
     "data": {
      "text/plain": [
       "tensor([[ 0,  1,  2,  3,  4,  5,  6,  7,  8,  9, 10, 11],\n",
       "        [12, 13, 14, 15, 16, 17, 18, 19, 20, 21, 22, 23]])"
      ]
     },
     "execution_count": 146,
     "metadata": {},
     "output_type": "execute_result"
    }
   ],
   "source": [
    "A.reshape(2, 12)"
   ]
  },
  {
   "cell_type": "code",
   "execution_count": 152,
   "id": "b161bc6f-17e3-45cd-9125-5bda49298a93",
   "metadata": {},
   "outputs": [
    {
     "data": {
      "text/plain": [
       "tensor([[ 0,  1,  2,  3,  4,  5,  6,  7,  8,  9, 10, 11],\n",
       "        [12, 13, 14, 15, 16, 17, 18, 19, 20, 21, 22, 23]])"
      ]
     },
     "execution_count": 152,
     "metadata": {},
     "output_type": "execute_result"
    }
   ],
   "source": [
    "# Zeroth dim is the batch dimension\n",
    "A.flatten(start_dim=1).shape\n",
    "A.flatten(start_dim=1)"
   ]
  },
  {
   "cell_type": "code",
   "execution_count": 154,
   "id": "8622915f-74d5-43c0-827a-2e6f1eb875f2",
   "metadata": {},
   "outputs": [
    {
     "data": {
      "text/plain": [
       "tensor([0.8555, 0.8875, 0.0716, 0.1811, 0.8884])"
      ]
     },
     "execution_count": 154,
     "metadata": {},
     "output_type": "execute_result"
    }
   ],
   "source": [
    "x = torch.rand(5)\n",
    "x"
   ]
  },
  {
   "cell_type": "code",
   "execution_count": 156,
   "id": "6170fc09-d115-4794-b84a-d7656bdc963d",
   "metadata": {},
   "outputs": [],
   "source": [
    "A = torch.randint(0, 5, (2,5))"
   ]
  },
  {
   "cell_type": "code",
   "execution_count": 158,
   "id": "46013a8a-133c-4fa3-a8d7-9c86c607ced8",
   "metadata": {},
   "outputs": [
    {
     "data": {
      "text/plain": [
       "tensor([[0, 0, 0, 0, 3],\n",
       "        [2, 2, 1, 3, 2]])"
      ]
     },
     "execution_count": 158,
     "metadata": {},
     "output_type": "execute_result"
    }
   ],
   "source": [
    "A"
   ]
  },
  {
   "cell_type": "code",
   "execution_count": 176,
   "id": "4b41a191-ee48-4186-b0dd-7d04dfd62c1b",
   "metadata": {},
   "outputs": [
    {
     "data": {
      "text/plain": [
       "tensor([2, 2, 2, 0, 1])"
      ]
     },
     "execution_count": 176,
     "metadata": {},
     "output_type": "execute_result"
    }
   ],
   "source": [
    "torch.manual_seed(1001)\n",
    "torch.randint(0,5, (5, ))"
   ]
  },
  {
   "cell_type": "code",
   "execution_count": 178,
   "id": "b825ac50-d3f9-4104-8a76-19979da0de99",
   "metadata": {},
   "outputs": [],
   "source": [
    "# Simple Linear Regression "
   ]
  },
  {
   "cell_type": "code",
   "execution_count": 180,
   "id": "5880f2b7-d6e7-46fd-87fc-2133c445951d",
   "metadata": {},
   "outputs": [],
   "source": [
    "n = 100\n",
    "x = torch.rand(n)\n",
    "w_true = torch.tensor(2.)\n",
    "b_true = torch.tensor(5.)\n",
    "noise = torch.rand(n)\n",
    "\n",
    "# y = 2x + 5 + noise\n",
    "\n",
    "y = (w_true * x) + b_true + noise"
   ]
  },
  {
   "cell_type": "code",
   "execution_count": 186,
   "id": "2c133627-bbd7-416b-95cd-7cc751fa45c3",
   "metadata": {},
   "outputs": [],
   "source": [
    "import matplotlib.pyplot as plt"
   ]
  },
  {
   "cell_type": "code",
   "execution_count": 188,
   "id": "1ce98261-3a4b-4e61-ab2f-d779d93561cd",
   "metadata": {},
   "outputs": [
    {
     "data": {
      "text/plain": [
       "[<matplotlib.lines.Line2D at 0x7784e15300b0>]"
      ]
     },
     "execution_count": 188,
     "metadata": {},
     "output_type": "execute_result"
    },
    {
     "data": {
      "image/png": "[encoded data removed]",
      "text/plain": [
       "<Figure size 640x480 with 1 Axes>"
      ]
     },
     "metadata": {},
     "output_type": "display_data"
    }
   ],
   "source": [
    "w = torch.tensor(0.)\n",
    "b = torch.tensor(0.)\n",
    "\n",
    "eta = 0.1\n",
    "epochs = 200\n",
    "losses = []\n",
    "for epoch in range(epochs):\n",
    "    y_hat = w * x + b\n",
    "    loss = ((y_hat - y) ** 2).mean()\n",
    "    losses.append(loss.item())\n",
    "    w_grad = (2* (y_hat - y) * x).mean()\n",
    "    b_grad = (2* (y_hat - y)).mean()\n",
    "    w -= eta * w_grad\n",
    "    b -= eta * w_grad\n",
    "\n",
    "w,b\n",
    "plt.plot(range(epochs), losses)\n",
    "\n"
   ]
  },
  {
   "cell_type": "code",
   "execution_count": 190,
   "id": "b9eb7c96-9163-4730-94c6-8bcc301bfb33",
   "metadata": {},
   "outputs": [
    {
     "data": {
      "text/plain": [
       "(tensor(4.0774), tensor(4.0774))"
      ]
     },
     "execution_count": 190,
     "metadata": {},
     "output_type": "execute_result"
    }
   ],
   "source": [
    "w , b"
   ]
  },
  {
   "cell_type": "code",
   "execution_count": 196,
   "id": "75916ed0-01cf-49d7-bb68-70d241a28d63",
   "metadata": {},
   "outputs": [
    {
     "name": "stdout",
     "output_type": "stream",
     "text": [
      "Collecting torchviz\n",
      "  Downloading torchviz-0.0.3-py3-none-any.whl.metadata (2.1 kB)\n",
      "Requirement already satisfied: torch in /home/shoaib/anaconda3/lib/python3.12/site-packages (from torchviz) (2.8.0)\n",
      "Collecting graphviz (from torchviz)\n",
      "  Downloading graphviz-0.21-py3-none-any.whl.metadata (12 kB)\n",
      "Requirement already satisfied: filelock in /home/shoaib/anaconda3/lib/python3.12/site-packages (from torch->torchviz) (3.13.1)\n",
      "Requirement already satisfied: typing-extensions>=4.10.0 in /home/shoaib/anaconda3/lib/python3.12/site-packages (from torch->torchviz) (4.11.0)\n",
      "Requirement already satisfied: setuptools in /home/shoaib/anaconda3/lib/python3.12/site-packages (from torch->torchviz) (75.1.0)\n",
      "Requirement already satisfied: sympy>=1.13.3 in /home/shoaib/anaconda3/lib/python3.12/site-packages (from torch->torchviz) (1.14.0)\n",
      "Requirement already satisfied: networkx in /home/shoaib/anaconda3/lib/python3.12/site-packages (from torch->torchviz) (3.3)\n",
      "Requirement already satisfied: jinja2 in /home/shoaib/anaconda3/lib/python3.12/site-packages (from torch->torchviz) (3.1.4)\n",
      "Requirement already satisfied: fsspec in /home/shoaib/anaconda3/lib/python3.12/site-packages (from torch->torchviz) (2024.6.1)\n",
      "Requirement already satisfied: nvidia-cuda-nvrtc-cu12==12.8.93 in /home/shoaib/anaconda3/lib/python3.12/site-packages (from torch->torchviz) (12.8.93)\n",
      "Requirement already satisfied: nvidia-cuda-runtime-cu12==12.8.90 in /home/shoaib/anaconda3/lib/python3.12/site-packages (from torch->torchviz) (12.8.90)\n",
      "Requirement already satisfied: nvidia-cuda-cupti-cu12==12.8.90 in /home/shoaib/anaconda3/lib/python3.12/site-packages (from torch->torchviz) (12.8.90)\n",
      "Requirement already satisfied: nvidia-cudnn-cu12==9.10.2.21 in /home/shoaib/anaconda3/lib/python3.12/site-packages (from torch->torchviz) (9.10.2.21)\n",
      "Requirement already satisfied: nvidia-cublas-cu12==12.8.4.1 in /home/shoaib/anaconda3/lib/python3.12/site-packages (from torch->torchviz) (12.8.4.1)\n",
      "Requirement already satisfied: nvidia-cufft-cu12==11.3.3.83 in /home/shoaib/anaconda3/lib/python3.12/site-packages (from torch->torchviz) (11.3.3.83)\n",
      "Requirement already satisfied: nvidia-curand-cu12==10.3.9.90 in /home/shoaib/anaconda3/lib/python3.12/site-packages (from torch->torchviz) (10.3.9.90)\n",
      "Requirement already satisfied: nvidia-cusolver-cu12==11.7.3.90 in /home/shoaib/anaconda3/lib/python3.12/site-packages (from torch->torchviz) (11.7.3.90)\n",
      "Requirement already satisfied: nvidia-cusparse-cu12==12.5.8.93 in /home/shoaib/anaconda3/lib/python3.12/site-packages (from torch->torchviz) (12.5.8.93)\n",
      "Requirement already satisfied: nvidia-cusparselt-cu12==0.7.1 in /home/shoaib/anaconda3/lib/python3.12/site-packages (from torch->torchviz) (0.7.1)\n",
      "Requirement already satisfied: nvidia-nccl-cu12==2.27.3 in /home/shoaib/anaconda3/lib/python3.12/site-packages (from torch->torchviz) (2.27.3)\n",
      "Requirement already satisfied: nvidia-nvtx-cu12==12.8.90 in /home/shoaib/anaconda3/lib/python3.12/site-packages (from torch->torchviz) (12.8.90)\n",
      "Requirement already satisfied: nvidia-nvjitlink-cu12==12.8.93 in /home/shoaib/anaconda3/lib/python3.12/site-packages (from torch->torchviz) (12.8.93)\n",
      "Requirement already satisfied: nvidia-cufile-cu12==1.13.1.3 in /home/shoaib/anaconda3/lib/python3.12/site-packages (from torch->torchviz) (1.13.1.3)\n",
      "Requirement already satisfied: triton==3.4.0 in /home/shoaib/anaconda3/lib/python3.12/site-packages (from torch->torchviz) (3.4.0)\n",
      "Requirement already satisfied: mpmath<1.4,>=1.1.0 in /home/shoaib/anaconda3/lib/python3.12/site-packages (from sympy>=1.13.3->torch->torchviz) (1.3.0)\n",
      "Requirement already satisfied: MarkupSafe>=2.0 in /home/shoaib/anaconda3/lib/python3.12/site-packages (from jinja2->torch->torchviz) (2.1.3)\n",
      "Downloading torchviz-0.0.3-py3-none-any.whl (5.7 kB)\n",
      "Downloading graphviz-0.21-py3-none-any.whl (47 kB)\n",
      "Installing collected packages: graphviz, torchviz\n",
      "\u001b[2K   \u001b[38;2;114;156;31m━━━━━━━━━━━━━━━━━━━━━━━━━━━━━━━━━━━━━━━━\u001b[0m \u001b[32m2/2\u001b[0m [torchviz]\n",
      "\u001b[1A\u001b[2KSuccessfully installed graphviz-0.21 torchviz-0.0.3\n"
     ]
    }
   ],
   "source": [
    "!pip install torchviz"
   ]
  },
  {
   "cell_type": "code",
   "execution_count": 208,
   "id": "6e77cde5-0a28-4536-9e2b-1005d509f3e5",
   "metadata": {},
   "outputs": [
    {
     "name": "stdout",
     "output_type": "stream",
     "text": [
      "tensor(2.)\n"
     ]
    },
    {
     "data": {
      "image/svg+xml": [
       "<?xml version=\"1.0\" encoding=\"UTF-8\" standalone=\"no\"?>\n",
       "<!DOCTYPE svg PUBLIC \"-//W3C//DTD SVG 1.1//EN\"\n",
       " \"http://www.w3.org/Graphics/SVG/1.1/DTD/svg11.dtd\">\n",
       "<!-- Generated by graphviz version 2.43.0 (0)\n",
       " -->\n",
       "<!-- Title: %3 Pages: 1 -->\n",
       "<svg width=\"109pt\" height=\"214pt\"\n",
       " viewBox=\"0.00 0.00 109.00 214.00\" xmlns=\"http://www.w3.org/2000/svg\" xmlns:xlink=\"http://www.w3.org/1999/xlink\">\n",
       "<g id=\"graph0\" class=\"graph\" transform=\"scale(1 1) rotate(0) translate(4 210)\">\n",
       "<title>%3</title>\n",
       "<polygon fill=\"white\" stroke=\"transparent\" points=\"-4,4 -4,-210 105,-210 105,4 -4,4\"/>\n",
       "<!-- 131412614398432 -->\n",
       "<g id=\"node1\" class=\"node\">\n",
       "<title>131412614398432</title>\n",
       "<polygon fill=\"#caff70\" stroke=\"black\" points=\"77.5,-30 23.5,-30 23.5,0 77.5,0 77.5,-30\"/>\n",
       "<text text-anchor=\"middle\" x=\"50.5\" y=\"-18\" font-family=\"monospace\" font-size=\"10.00\">y</text>\n",
       "<text text-anchor=\"middle\" x=\"50.5\" y=\"-7\" font-family=\"monospace\" font-size=\"10.00\"> ()</text>\n",
       "</g>\n",
       "<!-- 131412596669456 -->\n",
       "<g id=\"node2\" class=\"node\">\n",
       "<title>131412596669456</title>\n",
       "<polygon fill=\"lightgrey\" stroke=\"black\" points=\"95,-85 6,-85 6,-66 95,-66 95,-85\"/>\n",
       "<text text-anchor=\"middle\" x=\"50.5\" y=\"-73\" font-family=\"monospace\" font-size=\"10.00\">PowBackward0</text>\n",
       "</g>\n",
       "<!-- 131412596669456&#45;&gt;131412614398432 -->\n",
       "<g id=\"edge3\" class=\"edge\">\n",
       "<title>131412596669456&#45;&gt;131412614398432</title>\n",
       "<path fill=\"none\" stroke=\"black\" d=\"M50.5,-65.87C50.5,-59.11 50.5,-49.35 50.5,-40.26\"/>\n",
       "<polygon fill=\"black\" stroke=\"black\" points=\"54,-40.11 50.5,-30.11 47,-40.11 54,-40.11\"/>\n",
       "</g>\n",
       "<!-- 131412595543152 -->\n",
       "<g id=\"node3\" class=\"node\">\n",
       "<title>131412595543152</title>\n",
       "<polygon fill=\"lightgrey\" stroke=\"black\" points=\"101,-140 0,-140 0,-121 101,-121 101,-140\"/>\n",
       "<text text-anchor=\"middle\" x=\"50.5\" y=\"-128\" font-family=\"monospace\" font-size=\"10.00\">AccumulateGrad</text>\n",
       "</g>\n",
       "<!-- 131412595543152&#45;&gt;131412596669456 -->\n",
       "<g id=\"edge1\" class=\"edge\">\n",
       "<title>131412595543152&#45;&gt;131412596669456</title>\n",
       "<path fill=\"none\" stroke=\"black\" d=\"M50.5,-120.75C50.5,-113.8 50.5,-103.85 50.5,-95.13\"/>\n",
       "<polygon fill=\"black\" stroke=\"black\" points=\"54,-95.09 50.5,-85.09 47,-95.09 54,-95.09\"/>\n",
       "</g>\n",
       "<!-- 131412597712896 -->\n",
       "<g id=\"node4\" class=\"node\">\n",
       "<title>131412597712896</title>\n",
       "<polygon fill=\"lightblue\" stroke=\"black\" points=\"77.5,-206 23.5,-206 23.5,-176 77.5,-176 77.5,-206\"/>\n",
       "<text text-anchor=\"middle\" x=\"50.5\" y=\"-194\" font-family=\"monospace\" font-size=\"10.00\">x</text>\n",
       "<text text-anchor=\"middle\" x=\"50.5\" y=\"-183\" font-family=\"monospace\" font-size=\"10.00\"> ()</text>\n",
       "</g>\n",
       "<!-- 131412597712896&#45;&gt;131412595543152 -->\n",
       "<g id=\"edge2\" class=\"edge\">\n",
       "<title>131412597712896&#45;&gt;131412595543152</title>\n",
       "<path fill=\"none\" stroke=\"black\" d=\"M50.5,-175.84C50.5,-168.21 50.5,-158.7 50.5,-150.45\"/>\n",
       "<polygon fill=\"black\" stroke=\"black\" points=\"54,-150.27 50.5,-140.27 47,-150.27 54,-150.27\"/>\n",
       "</g>\n",
       "</g>\n",
       "</svg>\n"
      ],
      "text/plain": [
       "<graphviz.graphs.Digraph at 0x7784e11385c0>"
      ]
     },
     "execution_count": 208,
     "metadata": {},
     "output_type": "execute_result"
    }
   ],
   "source": [
    "from torchviz import make_dot\n",
    "x = torch.tensor(1., requires_grad = True)\n",
    "y = x**2\n",
    "y.backward()\n",
    "graph = make_dot(y, params = {'x':x, 'y':y})\n",
    "print(x.grad)\n",
    "graph"
   ]
  },
  {
   "cell_type": "code",
   "execution_count": 216,
   "id": "e19cd9a5-1c9a-4dfe-9708-4dd663f9a466",
   "metadata": {},
   "outputs": [
    {
     "name": "stdout",
     "output_type": "stream",
     "text": [
      "tensor(4.)\n"
     ]
    },
    {
     "data": {
      "image/svg+xml": [
       "<?xml version=\"1.0\" encoding=\"UTF-8\" standalone=\"no\"?>\n",
       "<!DOCTYPE svg PUBLIC \"-//W3C//DTD SVG 1.1//EN\"\n",
       " \"http://www.w3.org/Graphics/SVG/1.1/DTD/svg11.dtd\">\n",
       "<!-- Generated by graphviz version 2.43.0 (0)\n",
       " -->\n",
       "<!-- Title: %3 Pages: 1 -->\n",
       "<svg width=\"204pt\" height=\"269pt\"\n",
       " viewBox=\"0.00 0.00 204.00 269.00\" xmlns=\"http://www.w3.org/2000/svg\" xmlns:xlink=\"http://www.w3.org/1999/xlink\">\n",
       "<g id=\"graph0\" class=\"graph\" transform=\"scale(1 1) rotate(0) translate(4 265)\">\n",
       "<title>%3</title>\n",
       "<polygon fill=\"white\" stroke=\"transparent\" points=\"-4,4 -4,-265 200,-265 200,4 -4,4\"/>\n",
       "<!-- 131412595829056 -->\n",
       "<g id=\"node1\" class=\"node\">\n",
       "<title>131412595829056</title>\n",
       "<polygon fill=\"#caff70\" stroke=\"black\" points=\"124.5,-30 70.5,-30 70.5,0 124.5,0 124.5,-30\"/>\n",
       "<text text-anchor=\"middle\" x=\"97.5\" y=\"-18\" font-family=\"monospace\" font-size=\"10.00\">z</text>\n",
       "<text text-anchor=\"middle\" x=\"97.5\" y=\"-7\" font-family=\"monospace\" font-size=\"10.00\"> ()</text>\n",
       "</g>\n",
       "<!-- 131412595553424 -->\n",
       "<g id=\"node2\" class=\"node\">\n",
       "<title>131412595553424</title>\n",
       "<polygon fill=\"lightgrey\" stroke=\"black\" points=\"142,-85 53,-85 53,-66 142,-66 142,-85\"/>\n",
       "<text text-anchor=\"middle\" x=\"97.5\" y=\"-73\" font-family=\"monospace\" font-size=\"10.00\">AddBackward0</text>\n",
       "</g>\n",
       "<!-- 131412595553424&#45;&gt;131412595829056 -->\n",
       "<g id=\"edge6\" class=\"edge\">\n",
       "<title>131412595553424&#45;&gt;131412595829056</title>\n",
       "<path fill=\"none\" stroke=\"black\" d=\"M97.5,-65.87C97.5,-59.11 97.5,-49.35 97.5,-40.26\"/>\n",
       "<polygon fill=\"black\" stroke=\"black\" points=\"101,-40.11 97.5,-30.11 94,-40.11 101,-40.11\"/>\n",
       "</g>\n",
       "<!-- 131412595546416 -->\n",
       "<g id=\"node3\" class=\"node\">\n",
       "<title>131412595546416</title>\n",
       "<polygon fill=\"lightgrey\" stroke=\"black\" points=\"89,-140 0,-140 0,-121 89,-121 89,-140\"/>\n",
       "<text text-anchor=\"middle\" x=\"44.5\" y=\"-128\" font-family=\"monospace\" font-size=\"10.00\">MulBackward0</text>\n",
       "</g>\n",
       "<!-- 131412595546416&#45;&gt;131412595553424 -->\n",
       "<g id=\"edge1\" class=\"edge\">\n",
       "<title>131412595546416&#45;&gt;131412595553424</title>\n",
       "<path fill=\"none\" stroke=\"black\" d=\"M53.25,-120.75C60.97,-113.03 72.4,-101.6 81.72,-92.28\"/>\n",
       "<polygon fill=\"black\" stroke=\"black\" points=\"84.31,-94.64 88.91,-85.09 79.36,-89.69 84.31,-94.64\"/>\n",
       "</g>\n",
       "<!-- 131412599846224 -->\n",
       "<g id=\"node4\" class=\"node\">\n",
       "<title>131412599846224</title>\n",
       "<polygon fill=\"lightgrey\" stroke=\"black\" points=\"148,-195 47,-195 47,-176 148,-176 148,-195\"/>\n",
       "<text text-anchor=\"middle\" x=\"97.5\" y=\"-183\" font-family=\"monospace\" font-size=\"10.00\">AccumulateGrad</text>\n",
       "</g>\n",
       "<!-- 131412599846224&#45;&gt;131412595546416 -->\n",
       "<g id=\"edge2\" class=\"edge\">\n",
       "<title>131412599846224&#45;&gt;131412595546416</title>\n",
       "<path fill=\"none\" stroke=\"black\" d=\"M88.75,-175.75C81.03,-168.03 69.6,-156.6 60.28,-147.28\"/>\n",
       "<polygon fill=\"black\" stroke=\"black\" points=\"62.64,-144.69 53.09,-140.09 57.69,-149.64 62.64,-144.69\"/>\n",
       "</g>\n",
       "<!-- 131412595550736 -->\n",
       "<g id=\"node6\" class=\"node\">\n",
       "<title>131412595550736</title>\n",
       "<polygon fill=\"lightgrey\" stroke=\"black\" points=\"196,-140 107,-140 107,-121 196,-121 196,-140\"/>\n",
       "<text text-anchor=\"middle\" x=\"151.5\" y=\"-128\" font-family=\"monospace\" font-size=\"10.00\">PowBackward0</text>\n",
       "</g>\n",
       "<!-- 131412599846224&#45;&gt;131412595550736 -->\n",
       "<g id=\"edge5\" class=\"edge\">\n",
       "<title>131412599846224&#45;&gt;131412595550736</title>\n",
       "<path fill=\"none\" stroke=\"black\" d=\"M106.42,-175.75C114.28,-168.03 125.93,-156.6 135.42,-147.28\"/>\n",
       "<polygon fill=\"black\" stroke=\"black\" points=\"138.06,-149.59 142.75,-140.09 133.16,-144.6 138.06,-149.59\"/>\n",
       "</g>\n",
       "<!-- 131412595830416 -->\n",
       "<g id=\"node5\" class=\"node\">\n",
       "<title>131412595830416</title>\n",
       "<polygon fill=\"lightblue\" stroke=\"black\" points=\"124.5,-261 70.5,-261 70.5,-231 124.5,-231 124.5,-261\"/>\n",
       "<text text-anchor=\"middle\" x=\"97.5\" y=\"-249\" font-family=\"monospace\" font-size=\"10.00\">x</text>\n",
       "<text text-anchor=\"middle\" x=\"97.5\" y=\"-238\" font-family=\"monospace\" font-size=\"10.00\"> ()</text>\n",
       "</g>\n",
       "<!-- 131412595830416&#45;&gt;131412599846224 -->\n",
       "<g id=\"edge3\" class=\"edge\">\n",
       "<title>131412595830416&#45;&gt;131412599846224</title>\n",
       "<path fill=\"none\" stroke=\"black\" d=\"M97.5,-230.84C97.5,-223.21 97.5,-213.7 97.5,-205.45\"/>\n",
       "<polygon fill=\"black\" stroke=\"black\" points=\"101,-205.27 97.5,-195.27 94,-205.27 101,-205.27\"/>\n",
       "</g>\n",
       "<!-- 131412595550736&#45;&gt;131412595553424 -->\n",
       "<g id=\"edge4\" class=\"edge\">\n",
       "<title>131412595550736&#45;&gt;131412595553424</title>\n",
       "<path fill=\"none\" stroke=\"black\" d=\"M142.58,-120.75C134.72,-113.03 123.07,-101.6 113.58,-92.28\"/>\n",
       "<polygon fill=\"black\" stroke=\"black\" points=\"115.84,-89.6 106.25,-85.09 110.94,-94.59 115.84,-89.6\"/>\n",
       "</g>\n",
       "</g>\n",
       "</svg>\n"
      ],
      "text/plain": [
       "<graphviz.graphs.Digraph at 0x7784e1138c50>"
      ]
     },
     "execution_count": 216,
     "metadata": {},
     "output_type": "execute_result"
    }
   ],
   "source": [
    "x = torch.tensor(1., requires_grad=True)\n",
    "w = 2 * x   # 2\n",
    "y = x ** 2  # 2 8 x \n",
    "z = w + y   # 1 ,1 \n",
    "z.backward()\n",
    "print(x.grad)\n",
    "graph = make_dot(z , {'x':x, 'w':w, 'y':y, 'z':z})\n",
    "# partial derivatives of the result of the operation with respect to the operands\n",
    "graph"
   ]
  },
  {
   "cell_type": "code",
   "execution_count": 218,
   "id": "c0eb5733-c20c-4630-8fa3-1c03d500d077",
   "metadata": {},
   "outputs": [
    {
     "data": {
      "text/plain": [
       "(tensor(1., requires_grad=True),\n",
       " tensor(1., grad_fn=<PowBackward0>),\n",
       " tensor(3., grad_fn=<AddBackward0>),\n",
       " tensor(2., grad_fn=<MulBackward0>))"
      ]
     },
     "execution_count": 218,
     "metadata": {},
     "output_type": "execute_result"
    }
   ],
   "source": [
    "x = torch.tensor(1., requires_grad=True)\n",
    "w = 2 * x   # 2\n",
    "y = x ** 2  # 2 8 x \n",
    "z = w + y   # 1 ,1 \n",
    "z.backward()\n",
    "x, y , z ,w"
   ]
  },
  {
   "cell_type": "code",
   "execution_count": 214,
   "id": "7729b3eb-4bd2-456f-a834-ddb6f90b71d9",
   "metadata": {},
   "outputs": [
    {
     "data": {
      "text/plain": [
       "tensor(2.)"
      ]
     },
     "execution_count": 214,
     "metadata": {},
     "output_type": "execute_result"
    }
   ],
   "source": [
    "x = torch.tensor(1., requires_grad=True)\n",
    "y = x ** 2\n",
    "y.backward()\n",
    "x.grad"
   ]
  },
  {
   "cell_type": "code",
   "execution_count": null,
   "id": "303fac43-cc6d-4780-9992-c24f7f752e07",
   "metadata": {},
   "outputs": [],
   "source": [
    "w = torch.tensor(0., requires_grad = True)\n",
    "b = torch.tensor(0., requires_grad= True)\n",
    "y_hat = w * x + b\n",
    "\n",
    "eta = 0.01\n",
    "epoch\n",
    "loss = ((y_hat - y)**2).mean()\n",
    "losses.append(loss.item())"
   ]
  },
  {
   "cell_type": "code",
   "execution_count": 220,
   "id": "d32bec8b-9a82-48cd-ad0a-558074bb1454",
   "metadata": {},
   "outputs": [],
   "source": [
    "from torch.nn import MSELoss"
   ]
  },
  {
   "cell_type": "code",
   "execution_count": 224,
   "id": "ca79f492-9837-47a0-8307-76f983d36ea3",
   "metadata": {},
   "outputs": [
    {
     "data": {
      "text/plain": [
       "tensor(0.0250)"
      ]
     },
     "execution_count": 224,
     "metadata": {},
     "output_type": "execute_result"
    }
   ],
   "source": [
    "loss_fn = MSELoss()\n",
    "inputs = torch.tensor([1.1, 2.2])\n",
    "targets = torch.tensor([1., 2.])\n",
    "loss_fn(inputs, targets)"
   ]
  },
  {
   "cell_type": "code",
   "execution_count": 232,
   "id": "d7b9f4c3-c714-4103-bedb-88baaaebc1f8",
   "metadata": {},
   "outputs": [
    {
     "data": {
      "image/svg+xml": [
       "<?xml version=\"1.0\" encoding=\"UTF-8\" standalone=\"no\"?>\n",
       "<!DOCTYPE svg PUBLIC \"-//W3C//DTD SVG 1.1//EN\"\n",
       " \"http://www.w3.org/Graphics/SVG/1.1/DTD/svg11.dtd\">\n",
       "<!-- Generated by graphviz version 2.43.0 (0)\n",
       " -->\n",
       "<!-- Title: %3 Pages: 1 -->\n",
       "<svg width=\"326pt\" height=\"446pt\"\n",
       " viewBox=\"0.00 0.00 326.00 446.00\" xmlns=\"http://www.w3.org/2000/svg\" xmlns:xlink=\"http://www.w3.org/1999/xlink\">\n",
       "<g id=\"graph0\" class=\"graph\" transform=\"scale(1 1) rotate(0) translate(4 442)\">\n",
       "<title>%3</title>\n",
       "<polygon fill=\"white\" stroke=\"transparent\" points=\"-4,4 -4,-442 322,-442 322,4 -4,4\"/>\n",
       "<!-- 131412377430736 -->\n",
       "<g id=\"node1\" class=\"node\">\n",
       "<title>131412377430736</title>\n",
       "<polygon fill=\"#caff70\" stroke=\"black\" points=\"130.5,-30 76.5,-30 76.5,0 130.5,0 130.5,-30\"/>\n",
       "<text text-anchor=\"middle\" x=\"103.5\" y=\"-18\" font-family=\"monospace\" font-size=\"10.00\">loss</text>\n",
       "<text text-anchor=\"middle\" x=\"103.5\" y=\"-7\" font-family=\"monospace\" font-size=\"10.00\"> ()</text>\n",
       "</g>\n",
       "<!-- 131412379074672 -->\n",
       "<g id=\"node2\" class=\"node\">\n",
       "<title>131412379074672</title>\n",
       "<polygon fill=\"lightgrey\" stroke=\"black\" points=\"151,-85 56,-85 56,-66 151,-66 151,-85\"/>\n",
       "<text text-anchor=\"middle\" x=\"103.5\" y=\"-73\" font-family=\"monospace\" font-size=\"10.00\">MeanBackward0</text>\n",
       "</g>\n",
       "<!-- 131412379074672&#45;&gt;131412377430736 -->\n",
       "<g id=\"edge13\" class=\"edge\">\n",
       "<title>131412379074672&#45;&gt;131412377430736</title>\n",
       "<path fill=\"none\" stroke=\"black\" d=\"M103.5,-65.87C103.5,-59.11 103.5,-49.35 103.5,-40.26\"/>\n",
       "<polygon fill=\"black\" stroke=\"black\" points=\"107,-40.11 103.5,-30.11 100,-40.11 107,-40.11\"/>\n",
       "</g>\n",
       "<!-- 131412379090272 -->\n",
       "<g id=\"node3\" class=\"node\">\n",
       "<title>131412379090272</title>\n",
       "<polygon fill=\"lightgrey\" stroke=\"black\" points=\"148,-140 59,-140 59,-121 148,-121 148,-140\"/>\n",
       "<text text-anchor=\"middle\" x=\"103.5\" y=\"-128\" font-family=\"monospace\" font-size=\"10.00\">PowBackward0</text>\n",
       "</g>\n",
       "<!-- 131412379090272&#45;&gt;131412379074672 -->\n",
       "<g id=\"edge1\" class=\"edge\">\n",
       "<title>131412379090272&#45;&gt;131412379074672</title>\n",
       "<path fill=\"none\" stroke=\"black\" d=\"M103.5,-120.75C103.5,-113.8 103.5,-103.85 103.5,-95.13\"/>\n",
       "<polygon fill=\"black\" stroke=\"black\" points=\"107,-95.09 103.5,-85.09 100,-95.09 107,-95.09\"/>\n",
       "</g>\n",
       "<!-- 131412379088304 -->\n",
       "<g id=\"node4\" class=\"node\">\n",
       "<title>131412379088304</title>\n",
       "<polygon fill=\"lightgrey\" stroke=\"black\" points=\"148,-195 59,-195 59,-176 148,-176 148,-195\"/>\n",
       "<text text-anchor=\"middle\" x=\"103.5\" y=\"-183\" font-family=\"monospace\" font-size=\"10.00\">SubBackward0</text>\n",
       "</g>\n",
       "<!-- 131412379088304&#45;&gt;131412379090272 -->\n",
       "<g id=\"edge2\" class=\"edge\">\n",
       "<title>131412379088304&#45;&gt;131412379090272</title>\n",
       "<path fill=\"none\" stroke=\"black\" d=\"M103.5,-175.75C103.5,-168.8 103.5,-158.85 103.5,-150.13\"/>\n",
       "<polygon fill=\"black\" stroke=\"black\" points=\"107,-150.09 103.5,-140.09 100,-150.09 107,-150.09\"/>\n",
       "</g>\n",
       "<!-- 131412379080000 -->\n",
       "<g id=\"node5\" class=\"node\">\n",
       "<title>131412379080000</title>\n",
       "<polygon fill=\"lightgrey\" stroke=\"black\" points=\"202,-250 113,-250 113,-231 202,-231 202,-250\"/>\n",
       "<text text-anchor=\"middle\" x=\"157.5\" y=\"-238\" font-family=\"monospace\" font-size=\"10.00\">AddBackward0</text>\n",
       "</g>\n",
       "<!-- 131412379080000&#45;&gt;131412379088304 -->\n",
       "<g id=\"edge3\" class=\"edge\">\n",
       "<title>131412379080000&#45;&gt;131412379088304</title>\n",
       "<path fill=\"none\" stroke=\"black\" d=\"M148.58,-230.75C140.72,-223.03 129.07,-211.6 119.58,-202.28\"/>\n",
       "<polygon fill=\"black\" stroke=\"black\" points=\"121.84,-199.6 112.25,-195.09 116.94,-204.59 121.84,-199.6\"/>\n",
       "</g>\n",
       "<!-- 131412379088784 -->\n",
       "<g id=\"node6\" class=\"node\">\n",
       "<title>131412379088784</title>\n",
       "<polygon fill=\"lightgrey\" stroke=\"black\" points=\"199,-305 110,-305 110,-286 199,-286 199,-305\"/>\n",
       "<text text-anchor=\"middle\" x=\"154.5\" y=\"-293\" font-family=\"monospace\" font-size=\"10.00\">MulBackward0</text>\n",
       "</g>\n",
       "<!-- 131412379088784&#45;&gt;131412379080000 -->\n",
       "<g id=\"edge4\" class=\"edge\">\n",
       "<title>131412379088784&#45;&gt;131412379080000</title>\n",
       "<path fill=\"none\" stroke=\"black\" d=\"M155,-285.75C155.39,-278.8 155.95,-268.85 156.45,-260.13\"/>\n",
       "<polygon fill=\"black\" stroke=\"black\" points=\"159.94,-260.27 157.01,-250.09 152.95,-259.88 159.94,-260.27\"/>\n",
       "</g>\n",
       "<!-- 131412379082160 -->\n",
       "<g id=\"node7\" class=\"node\">\n",
       "<title>131412379082160</title>\n",
       "<polygon fill=\"lightgrey\" stroke=\"black\" points=\"220,-365.5 119,-365.5 119,-346.5 220,-346.5 220,-365.5\"/>\n",
       "<text text-anchor=\"middle\" x=\"169.5\" y=\"-353.5\" font-family=\"monospace\" font-size=\"10.00\">AccumulateGrad</text>\n",
       "</g>\n",
       "<!-- 131412379082160&#45;&gt;131412379088784 -->\n",
       "<g id=\"edge5\" class=\"edge\">\n",
       "<title>131412379082160&#45;&gt;131412379088784</title>\n",
       "<path fill=\"none\" stroke=\"black\" d=\"M167.29,-346.37C165.18,-338.16 161.95,-325.54 159.26,-315.05\"/>\n",
       "<polygon fill=\"black\" stroke=\"black\" points=\"162.6,-313.98 156.72,-305.17 155.82,-315.72 162.6,-313.98\"/>\n",
       "</g>\n",
       "<!-- 131412377431696 -->\n",
       "<g id=\"node8\" class=\"node\">\n",
       "<title>131412377431696</title>\n",
       "<polygon fill=\"lightblue\" stroke=\"black\" points=\"196.5,-437.5 142.5,-437.5 142.5,-407.5 196.5,-407.5 196.5,-437.5\"/>\n",
       "<text text-anchor=\"middle\" x=\"169.5\" y=\"-425.5\" font-family=\"monospace\" font-size=\"10.00\">w</text>\n",
       "<text text-anchor=\"middle\" x=\"169.5\" y=\"-414.5\" font-family=\"monospace\" font-size=\"10.00\"> ()</text>\n",
       "</g>\n",
       "<!-- 131412377431696&#45;&gt;131412379082160 -->\n",
       "<g id=\"edge6\" class=\"edge\">\n",
       "<title>131412377431696&#45;&gt;131412379082160</title>\n",
       "<path fill=\"none\" stroke=\"black\" d=\"M169.5,-407.19C169.5,-397.91 169.5,-385.73 169.5,-375.69\"/>\n",
       "<polygon fill=\"black\" stroke=\"black\" points=\"173,-375.54 169.5,-365.54 166,-375.54 173,-375.54\"/>\n",
       "</g>\n",
       "<!-- 131412379086816 -->\n",
       "<g id=\"node9\" class=\"node\">\n",
       "<title>131412379086816</title>\n",
       "<polygon fill=\"lightgrey\" stroke=\"black\" points=\"101,-365.5 0,-365.5 0,-346.5 101,-346.5 101,-365.5\"/>\n",
       "<text text-anchor=\"middle\" x=\"50.5\" y=\"-353.5\" font-family=\"monospace\" font-size=\"10.00\">AccumulateGrad</text>\n",
       "</g>\n",
       "<!-- 131412379086816&#45;&gt;131412379088784 -->\n",
       "<g id=\"edge7\" class=\"edge\">\n",
       "<title>131412379086816&#45;&gt;131412379088784</title>\n",
       "<path fill=\"none\" stroke=\"black\" d=\"M65.85,-346.37C82.82,-336.82 110.4,-321.31 130.29,-310.12\"/>\n",
       "<polygon fill=\"black\" stroke=\"black\" points=\"132.09,-313.12 139.09,-305.17 128.66,-307.02 132.09,-313.12\"/>\n",
       "</g>\n",
       "<!-- 131412379087104 -->\n",
       "<g id=\"node13\" class=\"node\">\n",
       "<title>131412379087104</title>\n",
       "<polygon fill=\"lightgrey\" stroke=\"black\" points=\"95,-250 6,-250 6,-231 95,-231 95,-250\"/>\n",
       "<text text-anchor=\"middle\" x=\"50.5\" y=\"-238\" font-family=\"monospace\" font-size=\"10.00\">PowBackward0</text>\n",
       "</g>\n",
       "<!-- 131412379086816&#45;&gt;131412379087104 -->\n",
       "<g id=\"edge12\" class=\"edge\">\n",
       "<title>131412379086816&#45;&gt;131412379087104</title>\n",
       "<path fill=\"none\" stroke=\"black\" d=\"M50.5,-346.47C50.5,-328.23 50.5,-285.07 50.5,-260.14\"/>\n",
       "<polygon fill=\"black\" stroke=\"black\" points=\"54,-260.13 50.5,-250.13 47,-260.13 54,-260.13\"/>\n",
       "</g>\n",
       "<!-- 131412595832496 -->\n",
       "<g id=\"node10\" class=\"node\">\n",
       "<title>131412595832496</title>\n",
       "<polygon fill=\"lightblue\" stroke=\"black\" points=\"77.5,-438 23.5,-438 23.5,-407 77.5,-407 77.5,-438\"/>\n",
       "<text text-anchor=\"middle\" x=\"50.5\" y=\"-414\" font-family=\"monospace\" font-size=\"10.00\"> ()</text>\n",
       "</g>\n",
       "<!-- 131412595832496&#45;&gt;131412379086816 -->\n",
       "<g id=\"edge8\" class=\"edge\">\n",
       "<title>131412595832496&#45;&gt;131412379086816</title>\n",
       "<path fill=\"none\" stroke=\"black\" d=\"M50.5,-406.86C50.5,-397.68 50.5,-385.75 50.5,-375.86\"/>\n",
       "<polygon fill=\"black\" stroke=\"black\" points=\"54,-375.82 50.5,-365.82 47,-375.82 54,-375.82\"/>\n",
       "</g>\n",
       "<!-- 131412379090368 -->\n",
       "<g id=\"node11\" class=\"node\">\n",
       "<title>131412379090368</title>\n",
       "<polygon fill=\"lightgrey\" stroke=\"black\" points=\"318,-305 217,-305 217,-286 318,-286 318,-305\"/>\n",
       "<text text-anchor=\"middle\" x=\"267.5\" y=\"-293\" font-family=\"monospace\" font-size=\"10.00\">AccumulateGrad</text>\n",
       "</g>\n",
       "<!-- 131412379090368&#45;&gt;131412379080000 -->\n",
       "<g id=\"edge9\" class=\"edge\">\n",
       "<title>131412379090368&#45;&gt;131412379080000</title>\n",
       "<path fill=\"none\" stroke=\"black\" d=\"M249.83,-285.98C232.21,-277.5 204.92,-264.35 184.57,-254.54\"/>\n",
       "<polygon fill=\"black\" stroke=\"black\" points=\"186.02,-251.36 175.49,-250.17 182.98,-257.66 186.02,-251.36\"/>\n",
       "</g>\n",
       "<!-- 131412377426576 -->\n",
       "<g id=\"node12\" class=\"node\">\n",
       "<title>131412377426576</title>\n",
       "<polygon fill=\"lightblue\" stroke=\"black\" points=\"294.5,-371 240.5,-371 240.5,-341 294.5,-341 294.5,-371\"/>\n",
       "<text text-anchor=\"middle\" x=\"267.5\" y=\"-359\" font-family=\"monospace\" font-size=\"10.00\">b</text>\n",
       "<text text-anchor=\"middle\" x=\"267.5\" y=\"-348\" font-family=\"monospace\" font-size=\"10.00\"> ()</text>\n",
       "</g>\n",
       "<!-- 131412377426576&#45;&gt;131412379090368 -->\n",
       "<g id=\"edge10\" class=\"edge\">\n",
       "<title>131412377426576&#45;&gt;131412379090368</title>\n",
       "<path fill=\"none\" stroke=\"black\" d=\"M267.5,-340.84C267.5,-333.21 267.5,-323.7 267.5,-315.45\"/>\n",
       "<polygon fill=\"black\" stroke=\"black\" points=\"271,-315.27 267.5,-305.27 264,-315.27 271,-315.27\"/>\n",
       "</g>\n",
       "<!-- 131412379087104&#45;&gt;131412379088304 -->\n",
       "<g id=\"edge11\" class=\"edge\">\n",
       "<title>131412379087104&#45;&gt;131412379088304</title>\n",
       "<path fill=\"none\" stroke=\"black\" d=\"M59.25,-230.75C66.97,-223.03 78.4,-211.6 87.72,-202.28\"/>\n",
       "<polygon fill=\"black\" stroke=\"black\" points=\"90.31,-204.64 94.91,-195.09 85.36,-199.69 90.31,-204.64\"/>\n",
       "</g>\n",
       "</g>\n",
       "</svg>\n"
      ],
      "text/plain": [
       "<graphviz.graphs.Digraph at 0x7784d42cb8c0>"
      ]
     },
     "execution_count": 232,
     "metadata": {},
     "output_type": "execute_result"
    }
   ],
   "source": [
    "w = torch.tensor(0., requires_grad =True)\n",
    "b = torch.tensor(0., requires_grad=True)\n",
    "y_hat = w * x + b\n",
    "loss = ((y_hat - y) ** 2).mean()\n",
    "graph = make_dot(loss, {'w':w, 'b':b, 'loss':loss})\n",
    "graph"
   ]
  },
  {
   "cell_type": "code",
   "execution_count": 226,
   "id": "f53531be-34d3-4405-a05b-2b46b9725806",
   "metadata": {},
   "outputs": [
    {
     "ename": "RuntimeError",
     "evalue": "Trying to backward through the graph a second time (or directly access saved tensors after they have already been freed). Saved intermediate values of the graph are freed when you call .backward() or autograd.grad(). Specify retain_graph=True if you need to backward through the graph a second time or if you need to access saved tensors after calling backward.",
     "output_type": "error",
     "traceback": [
      "\u001b[0;31m---------------------------------------------------------------------------\u001b[0m",
      "\u001b[0;31mRuntimeError\u001b[0m                              Traceback (most recent call last)",
      "Cell \u001b[0;32mIn[226], line 12\u001b[0m\n\u001b[1;32m      9\u001b[0m loss \u001b[38;5;241m=\u001b[39m ((y_hat \u001b[38;5;241m-\u001b[39m y) \u001b[38;5;241m*\u001b[39m\u001b[38;5;241m*\u001b[39m \u001b[38;5;241m2\u001b[39m)\u001b[38;5;241m.\u001b[39mmean()\n\u001b[1;32m     10\u001b[0m losses\u001b[38;5;241m.\u001b[39mappend(loss\u001b[38;5;241m.\u001b[39mitem())\n\u001b[0;32m---> 12\u001b[0m loss\u001b[38;5;241m.\u001b[39mbackward()\n\u001b[1;32m     14\u001b[0m \u001b[38;5;28;01mwith\u001b[39;00m torch\u001b[38;5;241m.\u001b[39mno_grad():\n\u001b[1;32m     15\u001b[0m     w_grad \u001b[38;5;241m=\u001b[39m (\u001b[38;5;241m2\u001b[39m\u001b[38;5;241m*\u001b[39m (y_hat \u001b[38;5;241m-\u001b[39m y) \u001b[38;5;241m*\u001b[39m x)\u001b[38;5;241m.\u001b[39mmean()\n",
      "File \u001b[0;32m~/anaconda3/lib/python3.12/site-packages/torch/_tensor.py:647\u001b[0m, in \u001b[0;36mTensor.backward\u001b[0;34m(self, gradient, retain_graph, create_graph, inputs)\u001b[0m\n\u001b[1;32m    637\u001b[0m \u001b[38;5;28;01mif\u001b[39;00m has_torch_function_unary(\u001b[38;5;28mself\u001b[39m):\n\u001b[1;32m    638\u001b[0m     \u001b[38;5;28;01mreturn\u001b[39;00m handle_torch_function(\n\u001b[1;32m    639\u001b[0m         Tensor\u001b[38;5;241m.\u001b[39mbackward,\n\u001b[1;32m    640\u001b[0m         (\u001b[38;5;28mself\u001b[39m,),\n\u001b[0;32m   (...)\u001b[0m\n\u001b[1;32m    645\u001b[0m         inputs\u001b[38;5;241m=\u001b[39minputs,\n\u001b[1;32m    646\u001b[0m     )\n\u001b[0;32m--> 647\u001b[0m torch\u001b[38;5;241m.\u001b[39mautograd\u001b[38;5;241m.\u001b[39mbackward(\n\u001b[1;32m    648\u001b[0m     \u001b[38;5;28mself\u001b[39m, gradient, retain_graph, create_graph, inputs\u001b[38;5;241m=\u001b[39minputs\n\u001b[1;32m    649\u001b[0m )\n",
      "File \u001b[0;32m~/anaconda3/lib/python3.12/site-packages/torch/autograd/__init__.py:354\u001b[0m, in \u001b[0;36mbackward\u001b[0;34m(tensors, grad_tensors, retain_graph, create_graph, grad_variables, inputs)\u001b[0m\n\u001b[1;32m    349\u001b[0m     retain_graph \u001b[38;5;241m=\u001b[39m create_graph\n\u001b[1;32m    351\u001b[0m \u001b[38;5;66;03m# The reason we repeat the same comment below is that\u001b[39;00m\n\u001b[1;32m    352\u001b[0m \u001b[38;5;66;03m# some Python versions print out the first line of a multi-line function\u001b[39;00m\n\u001b[1;32m    353\u001b[0m \u001b[38;5;66;03m# calls in the traceback and some print out the last line\u001b[39;00m\n\u001b[0;32m--> 354\u001b[0m _engine_run_backward(\n\u001b[1;32m    355\u001b[0m     tensors,\n\u001b[1;32m    356\u001b[0m     grad_tensors_,\n\u001b[1;32m    357\u001b[0m     retain_graph,\n\u001b[1;32m    358\u001b[0m     create_graph,\n\u001b[1;32m    359\u001b[0m     inputs_tuple,\n\u001b[1;32m    360\u001b[0m     allow_unreachable\u001b[38;5;241m=\u001b[39m\u001b[38;5;28;01mTrue\u001b[39;00m,\n\u001b[1;32m    361\u001b[0m     accumulate_grad\u001b[38;5;241m=\u001b[39m\u001b[38;5;28;01mTrue\u001b[39;00m,\n\u001b[1;32m    362\u001b[0m )\n",
      "File \u001b[0;32m~/anaconda3/lib/python3.12/site-packages/torch/autograd/graph.py:829\u001b[0m, in \u001b[0;36m_engine_run_backward\u001b[0;34m(t_outputs, *args, **kwargs)\u001b[0m\n\u001b[1;32m    827\u001b[0m     unregister_hooks \u001b[38;5;241m=\u001b[39m _register_logging_hooks_on_whole_graph(t_outputs)\n\u001b[1;32m    828\u001b[0m \u001b[38;5;28;01mtry\u001b[39;00m:\n\u001b[0;32m--> 829\u001b[0m     \u001b[38;5;28;01mreturn\u001b[39;00m Variable\u001b[38;5;241m.\u001b[39m_execution_engine\u001b[38;5;241m.\u001b[39mrun_backward(  \u001b[38;5;66;03m# Calls into the C++ engine to run the backward pass\u001b[39;00m\n\u001b[1;32m    830\u001b[0m         t_outputs, \u001b[38;5;241m*\u001b[39margs, \u001b[38;5;241m*\u001b[39m\u001b[38;5;241m*\u001b[39mkwargs\n\u001b[1;32m    831\u001b[0m     )  \u001b[38;5;66;03m# Calls into the C++ engine to run the backward pass\u001b[39;00m\n\u001b[1;32m    832\u001b[0m \u001b[38;5;28;01mfinally\u001b[39;00m:\n\u001b[1;32m    833\u001b[0m     \u001b[38;5;28;01mif\u001b[39;00m attach_logging_hooks:\n",
      "\u001b[0;31mRuntimeError\u001b[0m: Trying to backward through the graph a second time (or directly access saved tensors after they have already been freed). Saved intermediate values of the graph are freed when you call .backward() or autograd.grad(). Specify retain_graph=True if you need to backward through the graph a second time or if you need to access saved tensors after calling backward."
     ]
    }
   ],
   "source": [
    "w = torch.tensor(0., requires_grad =True)\n",
    "b = torch.tensor(0., requires_grad=True)\n",
    "\n",
    "eta = 0.1\n",
    "epochs = 200\n",
    "losses = []\n",
    "for epoch in range(epochs):\n",
    "    y_hat = w * x + b\n",
    "    loss = ((y_hat - y) ** 2).mean()\n",
    "    losses.append(loss.item())\n",
    "\n",
    "    loss.backward()\n",
    "\n",
    "    with torch.no_grad():\n",
    "        w_grad = (2* (y_hat - y) * x).mean()\n",
    "        b_grad = (2* (y_hat - y)).mean()\n",
    "        w -= eta * w.grad\n",
    "        b -= eta * w.grad\n",
    "\n",
    "w,b\n",
    "plt.plot(range(epochs), losses)\n"
   ]
  },
  {
   "cell_type": "code",
   "execution_count": 238,
   "id": "525c1b21-5151-42a8-bf13-518c7764ea72",
   "metadata": {},
   "outputs": [],
   "source": [
    "from torchvision import datasets, transforms"
   ]
  },
  {
   "cell_type": "code",
   "execution_count": 234,
   "id": "1c2fc330-6f57-4cdc-99dc-99362e444cff",
   "metadata": {},
   "outputs": [],
   "source": [
    "from torchvision.transforms import ToTensor"
   ]
  },
  {
   "cell_type": "code",
   "execution_count": 242,
   "id": "f7d6426f-33de-48cd-8952-1301471868fa",
   "metadata": {},
   "outputs": [
    {
     "name": "stderr",
     "output_type": "stream",
     "text": [
      "100%|██████████████████████████████████████| 9.91M/9.91M [00:08<00:00, 1.16MB/s]\n",
      "100%|██████████████████████████████████████| 28.9k/28.9k [00:00<00:00, 94.6kB/s]\n",
      "100%|███████████████████████████████████████| 1.65M/1.65M [00:02<00:00, 704kB/s]\n",
      "100%|██████████████████████████████████████| 4.54k/4.54k [00:00<00:00, 15.8MB/s]\n"
     ]
    }
   ],
   "source": [
    "train_data = datasets.MNIST(\n",
    "    root='data', \n",
    "    train = True,\n",
    "    transform = ToTensor(),\n",
    "    download=True\n",
    ")\n"
   ]
  },
  {
   "cell_type": "code",
   "execution_count": 244,
   "id": "18561d0c-9517-47e9-ba45-026ec726499d",
   "metadata": {},
   "outputs": [
    {
     "data": {
      "text/plain": [
       "torch.Size([60000, 28, 28])"
      ]
     },
     "execution_count": 244,
     "metadata": {},
     "output_type": "execute_result"
    }
   ],
   "source": [
    "train_data.data.shape"
   ]
  },
  {
   "cell_type": "raw",
   "id": "8f7311cd-4d4b-4d79-8c26-7538fb638030",
   "metadata": {},
   "source": [
    "train_data.targets.shape"
   ]
  },
  {
   "cell_type": "code",
   "execution_count": 246,
   "id": "7c57c9a7-51e2-4ace-93e8-cdc159645924",
   "metadata": {},
   "outputs": [
    {
     "data": {
      "text/plain": [
       "tensor([False, False, False,  ..., False, False, False])"
      ]
     },
     "execution_count": 246,
     "metadata": {},
     "output_type": "execute_result"
    }
   ],
   "source": [
    "train_data.targets == 7"
   ]
  },
  {
   "cell_type": "code",
   "execution_count": null,
   "id": "4365da42-1557-4b42-8b8a-449a5ffe596a",
   "metadata": {},
   "outputs": [],
   "source": [
    "y "
   ]
  }
 ],
 "metadata": {
  "kernelspec": {
   "display_name": "Python [conda env:base] *",
   "language": "python",
   "name": "conda-base-py"
  },
  "language_info": {
   "codemirror_mode": {
    "name": "ipython",
    "version": 3
   },
   "file_extension": ".py",
   "mimetype": "text/x-python",
   "name": "python",
   "nbconvert_exporter": "python",
   "pygments_lexer": "ipython3",
   "version": "3.12.7"
  }
 },
 "nbformat": 4,
 "nbformat_minor": 5
}
