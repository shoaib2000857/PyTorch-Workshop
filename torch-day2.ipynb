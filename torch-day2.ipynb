{
 "cells": [
  {
   "cell_type": "code",
   "execution_count": 23,
   "id": "e7e1bfea-1981-4430-8891-a2b4955108ea",
   "metadata": {},
   "outputs": [],
   "source": [
    "import torch"
   ]
  },
  {
   "cell_type": "code",
   "execution_count": 25,
   "id": "622a7fa7-48d3-40e6-8df7-500902f03bcf",
   "metadata": {},
   "outputs": [],
   "source": [
    "import torch.nn as nn"
   ]
  },
  {
   "cell_type": "code",
   "execution_count": 27,
   "id": "c4c2cdd2-0121-473b-b853-8eb1ca174559",
   "metadata": {},
   "outputs": [
    {
     "data": {
      "text/plain": [
       "Linear(in_features=5, out_features=10, bias=True)"
      ]
     },
     "execution_count": 27,
     "metadata": {},
     "output_type": "execute_result"
    }
   ],
   "source": [
    "linear = nn.Linear(in_features=5, out_features=10)\n",
    "# Shape of weight matrix -> out_features x in_features\n",
    "# shape of bias vector is out_vecots\n",
    "linear"
   ]
  },
  {
   "cell_type": "code",
   "execution_count": 33,
   "id": "ae524fba-0c6f-4bd8-b526-a975ec86f77d",
   "metadata": {},
   "outputs": [
    {
     "data": {
      "text/plain": [
       "torch.Size([20, 5])"
      ]
     },
     "execution_count": 33,
     "metadata": {},
     "output_type": "execute_result"
    }
   ],
   "source": [
    "X = torch.rand(20,5)\n",
    "X.shape"
   ]
  },
  {
   "cell_type": "code",
   "execution_count": 35,
   "id": "b2610a11-344e-4bc1-98a4-3820c2bfbe5c",
   "metadata": {},
   "outputs": [
    {
     "data": {
      "text/plain": [
       "torch.Size([20, 10])"
      ]
     },
     "execution_count": 35,
     "metadata": {},
     "output_type": "execute_result"
    }
   ],
   "source": [
    "out = linear(X)\n",
    "out.shape"
   ]
  },
  {
   "cell_type": "code",
   "execution_count": 37,
   "id": "0aba5670-74ad-493d-9e71-28557f56c775",
   "metadata": {},
   "outputs": [
    {
     "name": "stdout",
     "output_type": "stream",
     "text": [
      "torch.Size([10, 5])\n",
      "torch.Size([10])\n"
     ]
    }
   ],
   "source": [
    "for param in linear.parameters():\n",
    "    print(param.shape)"
   ]
  },
  {
   "cell_type": "code",
   "execution_count": 39,
   "id": "18dcb5d0-6169-4444-a619-9bf9be92d6b9",
   "metadata": {},
   "outputs": [
    {
     "name": "stdout",
     "output_type": "stream",
     "text": [
      "weight torch.Size([10, 5])\n",
      "bias torch.Size([10])\n"
     ]
    }
   ],
   "source": [
    "for name, param in linear.named_parameters():\n",
    "    print(name, param.shape)"
   ]
  },
  {
   "cell_type": "code",
   "execution_count": 41,
   "id": "e92afebb-a8cb-4de1-8778-43005b652337",
   "metadata": {},
   "outputs": [
    {
     "data": {
      "text/plain": [
       "(torch.Size([10, 5]), torch.Size([10]))"
      ]
     },
     "execution_count": 41,
     "metadata": {},
     "output_type": "execute_result"
    }
   ],
   "source": [
    "linear.weight.shape, linear.bias.shape"
   ]
  },
  {
   "cell_type": "code",
   "execution_count": 60,
   "id": "b2b4118f-1be2-4441-b19e-d929daabf49d",
   "metadata": {},
   "outputs": [
    {
     "data": {
      "text/plain": [
       "torch.Size([20, 10])"
      ]
     },
     "execution_count": 60,
     "metadata": {},
     "output_type": "execute_result"
    }
   ],
   "source": [
    "# X @ W.T + b\n",
    "X.shape, linear.weight.T.shape\n",
    "\n",
    "out_manual = (X @ linear.weight.T) + linear.bias\n",
    "out_manual.shape"
   ]
  },
  {
   "cell_type": "code",
   "execution_count": 64,
   "id": "3946b17f-eaeb-4656-9b04-f28ca25a83b4",
   "metadata": {},
   "outputs": [
    {
     "data": {
      "text/plain": [
       "torch.Size([20, 10])"
      ]
     },
     "execution_count": 64,
     "metadata": {},
     "output_type": "execute_result"
    }
   ],
   "source": [
    "out = linear(X)\n",
    "out.shape"
   ]
  },
  {
   "cell_type": "code",
   "execution_count": 66,
   "id": "b71f20cb-7749-4ee2-bead-2726e5045dc9",
   "metadata": {},
   "outputs": [
    {
     "data": {
      "text/plain": [
       "True"
      ]
     },
     "execution_count": 66,
     "metadata": {},
     "output_type": "execute_result"
    }
   ],
   "source": [
    "torch.equal(out_manual, out)"
   ]
  },
  {
   "cell_type": "code",
   "execution_count": 77,
   "id": "a17f2d22-91cb-4159-a558-860784a9cfad",
   "metadata": {},
   "outputs": [
    {
     "data": {
      "text/plain": [
       "tensor([[-4.8792e-01, -5.3151e-01,  7.4281e-02, -2.3709e-01,  6.3959e-02,\n",
       "         -1.8158e-01,  6.1461e-01, -8.3676e-01, -4.8168e-01, -2.2141e-01],\n",
       "        [-4.1673e-01, -3.6243e-01,  8.9866e-02, -5.1026e-02,  2.2654e-01,\n",
       "          7.5885e-04,  1.0814e+00, -1.0876e+00, -4.0192e-01, -5.4506e-01],\n",
       "        [ 7.4326e-02, -4.5583e-02, -7.0835e-02,  2.2786e-01,  3.6968e-01,\n",
       "         -1.5767e-01,  1.0974e+00, -6.1390e-01, -3.1708e-01, -1.9847e-01],\n",
       "        [-4.1361e-01, -3.6324e-01,  1.3079e-01, -1.2391e-01,  1.8119e-01,\n",
       "         -2.9943e-02,  7.4598e-01, -8.7068e-01, -4.7354e-01, -4.1994e-01],\n",
       "        [-3.2407e-01, -5.1693e-01, -8.9830e-02, -1.4757e-01,  1.0036e-01,\n",
       "         -9.6673e-02,  9.9670e-01, -9.3348e-01, -4.7494e-01, -2.3679e-01],\n",
       "        [-6.0226e-01, -4.0709e-01,  5.1654e-02, -3.0211e-01,  2.9760e-02,\n",
       "          2.8462e-02,  8.3342e-01, -1.1335e+00, -4.0538e-01, -4.9701e-01],\n",
       "        [-2.9532e-01, -5.5688e-01, -3.4405e-02, -3.9346e-02,  1.8199e-01,\n",
       "         -2.1062e-01,  1.0480e+00, -9.0769e-01, -4.5229e-01, -2.1039e-01],\n",
       "        [-1.1975e-01, -2.6499e-01,  9.5339e-02,  1.2704e-01,  3.3940e-01,\n",
       "         -1.9539e-01,  8.2843e-01, -6.0539e-01, -4.3801e-01, -2.2583e-01],\n",
       "        [-2.6828e-01, -9.8628e-02,  2.3172e-01,  1.0919e-01,  3.7814e-01,\n",
       "         -1.7234e-02,  8.4971e-01, -7.9706e-01, -3.7979e-01, -5.4943e-01],\n",
       "        [-1.7691e-01, -2.4260e-01, -1.4969e-01, -2.3545e-01,  2.2700e-02,\n",
       "         -3.8975e-02,  5.6695e-01, -5.6039e-01, -4.9104e-01, -5.1565e-02],\n",
       "        [-4.3722e-01, -1.7040e-01,  4.5082e-02, -1.4904e-01,  1.1602e-01,\n",
       "         -1.1963e-01,  7.9213e-01, -9.3791e-01, -2.6433e-01, -3.6999e-01],\n",
       "        [-3.0602e-01, -1.4710e-01,  2.0683e-01,  4.2687e-02,  3.0180e-01,\n",
       "         -1.6280e-01,  6.8360e-01, -7.1211e-01, -3.4765e-01, -3.7736e-01],\n",
       "        [-1.0835e-01, -4.1429e-01,  3.4719e-02,  1.0040e-01,  3.2750e-01,\n",
       "         -6.5827e-02,  1.0108e+00, -7.1754e-01, -5.5253e-01, -2.9371e-01],\n",
       "        [-1.6275e-01, -3.4853e-01,  6.0784e-02,  6.3708e-02,  2.7567e-01,\n",
       "         -2.5779e-01,  7.7945e-01, -6.0746e-01, -4.4092e-01, -1.3921e-01],\n",
       "        [-1.4402e-01, -2.9931e-01,  1.2441e-01,  2.4601e-01,  4.2071e-01,\n",
       "         -2.9385e-01,  1.0847e+00, -7.6524e-01, -3.4172e-01, -2.9500e-01],\n",
       "        [-5.1892e-01, -2.4856e-01,  5.0219e-02, -2.6549e-01,  6.2418e-02,\n",
       "          9.1565e-02,  7.8980e-01, -1.0446e+00, -3.8909e-01, -5.1847e-01],\n",
       "        [-1.4111e-01, -1.7394e-01, -9.9978e-02, -1.8489e-01,  9.1658e-02,\n",
       "          9.1942e-02,  6.1670e-01, -5.7319e-01, -5.3366e-01, -1.9198e-01],\n",
       "        [-1.0588e-01, -3.5281e-01, -2.2438e-01, -1.9576e-01,  5.1340e-02,\n",
       "          5.7071e-02,  8.2149e-01, -6.5501e-01, -5.7206e-01, -1.0166e-01],\n",
       "        [-1.7957e-01, -4.0137e-01, -1.4997e-01, -1.2970e-01,  8.8961e-02,\n",
       "         -1.5788e-01,  8.2700e-01, -6.8939e-01, -4.6588e-01, -4.9661e-02],\n",
       "        [-1.4672e-01, -2.2864e-01, -9.3527e-02,  5.4862e-03,  2.1224e-01,\n",
       "         -6.1051e-02,  1.0577e+00, -8.1897e-01, -3.8258e-01, -2.7309e-01]],\n",
       "       grad_fn=<AddmmBackward0>)"
      ]
     },
     "execution_count": 77,
     "metadata": {},
     "output_type": "execute_result"
    }
   ],
   "source": [
    "linear(X)\n",
    "linear.__call__(X)\n",
    "linear.forward(X)\n",
    "\n",
    "# Callable function nn -> linear -> __call__ -> forward"
   ]
  },
  {
   "cell_type": "code",
   "execution_count": 91,
   "id": "41ad8b87-ead4-47f6-93f9-31b6fc7af248",
   "metadata": {},
   "outputs": [
    {
     "data": {
      "text/plain": [
       "ReLU()"
      ]
     },
     "execution_count": 91,
     "metadata": {},
     "output_type": "execute_result"
    }
   ],
   "source": [
    "relu = nn.ReLU()\n",
    "relu"
   ]
  },
  {
   "cell_type": "code",
   "execution_count": 99,
   "id": "9550b51c-437d-4657-b5b3-b7213dd5bf84",
   "metadata": {},
   "outputs": [
    {
     "data": {
      "text/plain": [
       "tensor([1., 0., 3., 0.])"
      ]
     },
     "execution_count": 99,
     "metadata": {},
     "output_type": "execute_result"
    }
   ],
   "source": [
    "list(relu.named_parameters())\n",
    "\n",
    "x = torch.tensor([1., -2., 3., -4.])\n",
    "relu(x)"
   ]
  },
  {
   "cell_type": "code",
   "execution_count": 101,
   "id": "37f1eb69-6c55-4fc5-b04e-631db3ceaa18",
   "metadata": {},
   "outputs": [
    {
     "data": {
      "text/plain": [
       "tensor([[0.2119, 0.5761, 0.2119],\n",
       "        [0.2119, 0.2119, 0.5761]])"
      ]
     },
     "execution_count": 101,
     "metadata": {},
     "output_type": "execute_result"
    }
   ],
   "source": [
    "# Softmax\n",
    "# Softmax along dim \n",
    "\n",
    "soft = nn.Softmax(dim=1)\n",
    "\n",
    "X = torch.tensor([\n",
    "    [1., 2., 1.],\n",
    "    [2., 2., 3.]\n",
    "])\n",
    "out = soft(X)\n",
    "out"
   ]
  },
  {
   "cell_type": "code",
   "execution_count": 105,
   "id": "01687ca3-a695-4343-87a3-9afce55f59c9",
   "metadata": {},
   "outputs": [
    {
     "data": {
      "text/plain": [
       "tensor([1, 2])"
      ]
     },
     "execution_count": 105,
     "metadata": {},
     "output_type": "execute_result"
    }
   ],
   "source": [
    "y_hat = out.argmax(dim=1)\n",
    "y_hat"
   ]
  },
  {
   "cell_type": "code",
   "execution_count": 113,
   "id": "eb4bdc30-8194-4332-817a-0fbc8bb346b7",
   "metadata": {},
   "outputs": [],
   "source": [
    "loss_fn = nn.CrossEntropyLoss()\n",
    "# y is the true tables\n",
    "# loss_fn(y_hat, y)\n",
    "#loss_fn(inputs, targets)\n",
    "# inputs, targets\n",
    "\n",
    "# inputs need to be logits (pre-softmax values, pre-activation at the output layes)\n",
    "# targets have to be scalars and not one hot encoded "
   ]
  },
  {
   "cell_type": "code",
   "execution_count": 115,
   "id": "6c1213e9-093c-411c-a914-63f7108aaab2",
   "metadata": {},
   "outputs": [
    {
     "data": {
      "text/plain": [
       "(torch.Size([2, 3]), torch.Size([2]))"
      ]
     },
     "execution_count": 115,
     "metadata": {},
     "output_type": "execute_result"
    }
   ],
   "source": [
    "y = torch.tensor([0,1])\n",
    "logits = torch.tensor([\n",
    "    [1., 3., 4.],\n",
    "    [2., 5., 1.]\n",
    "])\n",
    "logits.shape, y.shape"
   ]
  },
  {
   "cell_type": "code",
   "execution_count": 126,
   "id": "45e4a749-c8a1-46d7-950d-793ac89e6f53",
   "metadata": {},
   "outputs": [
    {
     "data": {
      "text/plain": [
       "tensor([[0.0351, 0.2595, 0.7054],\n",
       "        [0.0466, 0.9362, 0.0171]])"
      ]
     },
     "execution_count": 126,
     "metadata": {},
     "output_type": "execute_result"
    }
   ],
   "source": [
    "prob = soft(logits)\n",
    "prob"
   ]
  },
  {
   "cell_type": "code",
   "execution_count": 132,
   "id": "b008b2e8-8af9-4585-9b4e-4af348aa6665",
   "metadata": {},
   "outputs": [
    {
     "data": {
      "text/plain": [
       "tensor(1.7074)"
      ]
     },
     "execution_count": 132,
     "metadata": {},
     "output_type": "execute_result"
    }
   ],
   "source": [
    "(-torch.log(prob[0,0]) - torch.log(prob[1,1])) / 2"
   ]
  },
  {
   "cell_type": "code",
   "execution_count": 130,
   "id": "9b319400-4e3d-4fec-8b58-96fd9cf1ef2e",
   "metadata": {},
   "outputs": [
    {
     "data": {
      "text/plain": [
       "tensor(1.7074)"
      ]
     },
     "execution_count": 130,
     "metadata": {},
     "output_type": "execute_result"
    }
   ],
   "source": [
    "loss_fn = nn.CrossEntropyLoss()\n",
    "loss_fn(logits, y)"
   ]
  },
  {
   "cell_type": "code",
   "execution_count": 134,
   "id": "542cc6f0-e352-44a6-9ed7-6c666ecd796d",
   "metadata": {},
   "outputs": [],
   "source": [
    "# Cross entropy coverts into softmax, then computes loss"
   ]
  },
  {
   "cell_type": "code",
   "execution_count": 136,
   "id": "ca9d63a1-d907-4e3f-b496-805ad687518f",
   "metadata": {},
   "outputs": [],
   "source": [
    "# Optimizers"
   ]
  },
  {
   "cell_type": "code",
   "execution_count": 142,
   "id": "a917fc0d-57b2-40e0-97b9-ca59e8f6724f",
   "metadata": {},
   "outputs": [],
   "source": [
    "from torch.optim import Adam # we also have many more adagrad etc etc etc a lot "
   ]
  },
  {
   "cell_type": "code",
   "execution_count": null,
   "id": "306dcd01-d824-4614-8ace-64a69a03ed8e",
   "metadata": {},
   "outputs": [],
   "source": [
    "# Dataset"
   ]
  },
  {
   "cell_type": "code",
   "execution_count": 151,
   "id": "4a03408b-007c-411d-b754-dc3882431415",
   "metadata": {},
   "outputs": [],
   "source": [
    "from torchvision import datasets\n",
    "train_data = datasets.MNIST(\n",
    "    root='data',\n",
    "    download=True,\n",
    "    train=True\n",
    ")\n",
    "test_data = datasets.MNIST(\n",
    "    root='data',\n",
    "    download=True,\n",
    "    train=False\n",
    ")"
   ]
  },
  {
   "cell_type": "code",
   "execution_count": 155,
   "id": "53dc403c-50ae-4eb5-8adb-8584a1423eb9",
   "metadata": {},
   "outputs": [],
   "source": [
    "from torchvision.transforms import ToTensor\n",
    "\n",
    "train_data = datasets.MNIST(\n",
    "    root='data',\n",
    "    train=True,\n",
    "    transform=ToTensor()\n",
    ")\n",
    "test_data = datasets.MNIST(\n",
    "    root='data',\n",
    "    train=False,\n",
    "    transform=ToTensor()\n",
    ")\n"
   ]
  },
  {
   "cell_type": "code",
   "execution_count": 157,
   "id": "dc31c8ef-dd32-41a0-a1df-2901efb68180",
   "metadata": {},
   "outputs": [],
   "source": [
    "from torch.utils.data import DataLoader\n"
   ]
  },
  {
   "cell_type": "code",
   "execution_count": null,
   "id": "ec9ceafb-7837-4d92-bee1-7633827d8f77",
   "metadata": {},
   "outputs": [],
   "source": []
  },
  {
   "cell_type": "code",
   "execution_count": null,
   "id": "df002d8b-f9dc-4ab6-89a2-02532f50e307",
   "metadata": {},
   "outputs": [],
   "source": []
  },
  {
   "cell_type": "markdown",
   "id": "bc4bb3c8-32d7-4e9a-98f3-e7bffb8acdd1",
   "metadata": {},
   "source": [
    "## Neural Network (Feed forward Network)"
   ]
  },
  {
   "cell_type": "code",
   "execution_count": 145,
   "id": "34b97e64-cffd-47fd-9e11-8161fabe1b74",
   "metadata": {},
   "outputs": [],
   "source": [
    "flatten = nn.Flatten()"
   ]
  },
  {
   "cell_type": "code",
   "execution_count": 161,
   "id": "c8447fcc-b623-4b23-8571-646ab1c3a08a",
   "metadata": {},
   "outputs": [
    {
     "data": {
      "text/plain": [
       "(torch.Size([64, 1, 28, 28]), torch.Size([64]))"
      ]
     },
     "execution_count": 161,
     "metadata": {},
     "output_type": "execute_result"
    }
   ],
   "source": [
    "train_loader = DataLoader(train_data, batch_size=64)\n",
    "test_loader = DataLoader(test_data, batch_size=64)\n",
    "\n",
    "X, y = next(iter(train_loader))\n",
    "X.shape, y.shape"
   ]
  },
  {
   "cell_type": "code",
   "execution_count": null,
   "id": "e4570f7d-f7e6-4dd2-b790-6c8f98619254",
   "metadata": {},
   "outputs": [],
   "source": [
    "# One hidden layer (fully connected layer)\n",
    "# 784 features as input\n",
    "# 256 neurons in the hidden layer\n"
   ]
  },
  {
   "cell_type": "code",
   "execution_count": 181,
   "id": "2641e984-5c19-4e5a-b4a2-9830d6901ad7",
   "metadata": {},
   "outputs": [
    {
     "data": {
      "text/plain": [
       "ANN(\n",
       "  (flatten): Flatten(start_dim=1, end_dim=-1)\n",
       "  (linear): Linear(in_features=784, out_features=256, bias=True)\n",
       "  (relu): ReLU()\n",
       "  (output): Linear(in_features=256, out_features=10, bias=True)\n",
       ")"
      ]
     },
     "execution_count": 181,
     "metadata": {},
     "output_type": "execute_result"
    }
   ],
   "source": [
    "#nn.Module is a parent class\n",
    "#Every class in nn is written in this\n",
    "\n",
    "class ANN(nn.Module):\n",
    "    def __init__(self):\n",
    "        super().__init__()\n",
    "        self.flatten = nn.Flatten()\n",
    "        self.linear = nn.Linear(\n",
    "            in_features=784, out_features=256\n",
    "        )\n",
    "        self.relu = nn.ReLU()\n",
    "        self.output = nn.Linear(\n",
    "            in_features=256, out_features=10\n",
    "        )\n",
    "    def forward(self, X):\n",
    "        X = self.flatten(X)\n",
    "        X = self.linear(X)\n",
    "        X = self.relu(X)\n",
    "        X = self.output(X)\n",
    "        return X\n",
    "\n",
    "model = ANN()\n",
    "model\n",
    "        \n",
    "        "
   ]
  },
  {
   "cell_type": "code",
   "execution_count": null,
   "id": "ec51aa06-ace4-4b66-b600-ba11f322a074",
   "metadata": {},
   "outputs": [],
   "source": [
    "from torchviz import make_dot\n",
    "graph = make_dot(model, dict(model.named_parameters()))"
   ]
  },
  {
   "cell_type": "code",
   "execution_count": 183,
   "id": "aa61ce8a-0bc6-4299-bb82-a29dc3f10a9f",
   "metadata": {},
   "outputs": [
    {
     "name": "stdout",
     "output_type": "stream",
     "text": [
      "torch.Size([64, 1, 28, 28])\n",
      "torch.Size([64, 10])\n"
     ]
    },
    {
     "data": {
      "text/plain": [
       "tensor([ 0.0562, -0.0557,  0.0684,  0.0436, -0.0612,  0.0182,  0.0400,  0.0977,\n",
       "         0.0014,  0.0081], grad_fn=<SelectBackward0>)"
      ]
     },
     "execution_count": 183,
     "metadata": {},
     "output_type": "execute_result"
    }
   ],
   "source": [
    "print(X.shape)\n",
    "out = model(X)\n",
    "print(out.shape)\n",
    "out[0]"
   ]
  },
  {
   "cell_type": "code",
   "execution_count": 189,
   "id": "3d477a90-54da-4778-91e3-ac95c0feee94",
   "metadata": {},
   "outputs": [
    {
     "data": {
      "text/plain": [
       "torch.Size([64, 10])"
      ]
     },
     "execution_count": 189,
     "metadata": {},
     "output_type": "execute_result"
    }
   ],
   "source": [
    "l1 = relu(X.flatten(start_dim=1) @ model.linear.weight.T + model.linear.bias)\n",
    "l2 = l1 @ model.output.weight.T + model.output.bias\n",
    "l2.shape"
   ]
  },
  {
   "cell_type": "code",
   "execution_count": 195,
   "id": "8fd4831a-386f-4d3c-a453-3a5890a62e0a",
   "metadata": {},
   "outputs": [
    {
     "data": {
      "text/plain": [
       "False"
      ]
     },
     "execution_count": 195,
     "metadata": {},
     "output_type": "execute_result"
    }
   ],
   "source": [
    "torch.allclose(model(X), l2)"
   ]
  },
  {
   "cell_type": "code",
   "execution_count": 197,
   "id": "cd5c7ebc-9c65-4a22-8ebb-2fb48b5b07ac",
   "metadata": {},
   "outputs": [
    {
     "data": {
      "text/plain": [
       "torch.Size([64, 1, 28, 28])"
      ]
     },
     "execution_count": 197,
     "metadata": {},
     "output_type": "execute_result"
    }
   ],
   "source": [
    "X.shape"
   ]
  },
  {
   "cell_type": "code",
   "execution_count": null,
   "id": "7cca9205-84c7-48f7-9651-5fcefd20a69d",
   "metadata": {},
   "outputs": [],
   "source": [
    "# Network achitecture and the model\n",
    "# Train loop\n",
    "# Test loop\n",
    "# Main body -> optimixer, loss function and the network"
   ]
  },
  {
   "cell_type": "code",
   "execution_count": 219,
   "id": "c268ddb3-0b8d-4d78-8168-0a5604973b1b",
   "metadata": {},
   "outputs": [
    {
     "data": {
      "text/plain": [
       "Adam (\n",
       "Parameter Group 0\n",
       "    amsgrad: False\n",
       "    betas: (0.9, 0.999)\n",
       "    capturable: False\n",
       "    decoupled_weight_decay: False\n",
       "    differentiable: False\n",
       "    eps: 1e-08\n",
       "    foreach: None\n",
       "    fused: None\n",
       "    lr: 0.001\n",
       "    maximize: False\n",
       "    weight_decay: 0\n",
       ")"
      ]
     },
     "execution_count": 219,
     "metadata": {},
     "output_type": "execute_result"
    }
   ],
   "source": [
    "optim = Adam(model.parameters(), lr=0.001)\n",
    "optim"
   ]
  },
  {
   "cell_type": "code",
   "execution_count": 313,
   "id": "afc34c76-87ab-4516-b0e8-01a0c9767362",
   "metadata": {},
   "outputs": [],
   "source": [
    "loss_fn = nn.CrossEntropyLoss()"
   ]
  },
  {
   "cell_type": "code",
   "execution_count": 315,
   "id": "6fc462e4-73bf-40cf-a9e9-87020ec6d81e",
   "metadata": {},
   "outputs": [],
   "source": [
    "def train_loop(train_loader, model, loss_fn, optim):\n",
    "    model.train() #Training mode ex if had dropout, behaviour is diff in inference and taining sits in nn.Module\n",
    "    for batch , (X,y) in enumerate(train_loader):\n",
    "        logits = model(X)\n",
    "        loss = loss_fn(logits, y)\n",
    "        loss.backward()\n",
    "        optim.step()\n",
    "        optim.zero_grad()\n",
    "        if batch % 100 == 0:\n",
    "            print(f'Train loss after batch {batch} is {loss}')\n",
    "        "
   ]
  },
  {
   "cell_type": "code",
   "execution_count": 317,
   "id": "cf068a69-8a77-484a-bfb7-6308dc798c24",
   "metadata": {},
   "outputs": [],
   "source": [
    "def test_loop(test_loader, model):\n",
    "    model.eval() # evaluation model\n",
    "    correct = 0\n",
    "    with torch.no_grad():\n",
    "        for (X,y) in test_loader:\n",
    "            logits = model(X)\n",
    "            y_hat = logits.argmax(dim=1)\n",
    "            correct += (y == y_hat).type(torch.float).sum().item()\n",
    "    size = len(test_loader.dataset)\n",
    "    acc = correct / size\n",
    "    print(f'Accuracy = {acc:2f}')"
   ]
  },
  {
   "cell_type": "code",
   "execution_count": 319,
   "id": "c0527661-797f-4ecb-9b3b-d219de574ad6",
   "metadata": {},
   "outputs": [
    {
     "data": {
      "text/plain": [
       "2.0"
      ]
     },
     "execution_count": 319,
     "metadata": {},
     "output_type": "execute_result"
    }
   ],
   "source": [
    "# Accuracy\n",
    "y = torch.tensor([1,0,2,3])\n",
    "y_hat = torch.tensor([0,0,1,3])\n",
    "(y==y_hat).type(torch.float).sum().item()"
   ]
  },
  {
   "cell_type": "code",
   "execution_count": 321,
   "id": "a9262dce-9c09-462a-bcc3-549ba1a2e20c",
   "metadata": {},
   "outputs": [
    {
     "name": "stdout",
     "output_type": "stream",
     "text": [
      "Epoch 1\n",
      "Train loss after batch 0 is 2.3000376224517822\n",
      "Train loss after batch 100 is 0.3493567705154419\n",
      "Train loss after batch 200 is 0.24096514284610748\n",
      "Train loss after batch 300 is 0.3039598762989044\n",
      "Train loss after batch 400 is 0.19645355641841888\n",
      "Train loss after batch 500 is 0.31847232580184937\n",
      "Train loss after batch 600 is 0.12883853912353516\n",
      "Train loss after batch 700 is 0.2998109757900238\n",
      "Train loss after batch 800 is 0.2750183045864105\n",
      "Train loss after batch 900 is 0.25479719042778015\n",
      "Accuracy = 0.949100\n",
      "Epoch 2\n",
      "Train loss after batch 0 is 0.11117018759250641\n",
      "Train loss after batch 100 is 0.1634422391653061\n",
      "Train loss after batch 200 is 0.08927381038665771\n",
      "Train loss after batch 300 is 0.1443706750869751\n",
      "Train loss after batch 400 is 0.10377676039934158\n",
      "Train loss after batch 500 is 0.22948257625102997\n",
      "Train loss after batch 600 is 0.06143096461892128\n",
      "Train loss after batch 700 is 0.20988981425762177\n",
      "Train loss after batch 800 is 0.17398162186145782\n",
      "Train loss after batch 900 is 0.17601023614406586\n",
      "Accuracy = 0.961800\n",
      "Epoch 3\n",
      "Train loss after batch 0 is 0.06645970791578293\n",
      "Train loss after batch 100 is 0.11876606941223145\n",
      "Train loss after batch 200 is 0.07743192464113235\n",
      "Train loss after batch 300 is 0.06708633899688721\n",
      "Train loss after batch 400 is 0.06569565087556839\n",
      "Train loss after batch 500 is 0.14119014143943787\n",
      "Train loss after batch 600 is 0.03634565696120262\n",
      "Train loss after batch 700 is 0.1355772316455841\n",
      "Train loss after batch 800 is 0.11084815859794617\n",
      "Train loss after batch 900 is 0.12608249485492706\n",
      "Accuracy = 0.968300\n",
      "Epoch 4\n",
      "Train loss after batch 0 is 0.039868295192718506\n",
      "Train loss after batch 100 is 0.08501625061035156\n",
      "Train loss after batch 200 is 0.07214623689651489\n",
      "Train loss after batch 300 is 0.05187949910759926\n",
      "Train loss after batch 400 is 0.047303542494773865\n",
      "Train loss after batch 500 is 0.11414198577404022\n",
      "Train loss after batch 600 is 0.02621750719845295\n",
      "Train loss after batch 700 is 0.09120608866214752\n",
      "Train loss after batch 800 is 0.07948826998472214\n",
      "Train loss after batch 900 is 0.0768468901515007\n",
      "Accuracy = 0.970400\n",
      "Epoch 5\n",
      "Train loss after batch 0 is 0.02534610591828823\n",
      "Train loss after batch 100 is 0.05055850371718407\n",
      "Train loss after batch 200 is 0.06480604410171509\n",
      "Train loss after batch 300 is 0.03976353630423546\n",
      "Train loss after batch 400 is 0.03574715554714203\n",
      "Train loss after batch 500 is 0.09023737907409668\n",
      "Train loss after batch 600 is 0.025279980152845383\n",
      "Train loss after batch 700 is 0.05854535102844238\n",
      "Train loss after batch 800 is 0.07329018414020538\n",
      "Train loss after batch 900 is 0.04332221299409866\n",
      "Accuracy = 0.969900\n"
     ]
    }
   ],
   "source": [
    "model = ANN()\n",
    "loss_fn = nn.CrossEntropyLoss()\n",
    "optim = Adam(model.parameters(), lr=0.001)\n",
    "epochs = 5\n",
    "\n",
    "for epoch in range(epochs):\n",
    "    print(f'Epoch {epoch + 1}')\n",
    "    train_loop(train_loader, model, loss_fn, optim)\n",
    "    test_loop(test_loader, model)\n",
    "    "
   ]
  },
  {
   "cell_type": "code",
   "execution_count": 243,
   "id": "37b01beb-18be-4653-b0b0-2cb9ef20be67",
   "metadata": {},
   "outputs": [],
   "source": [
    "torch.save(model.state_dict(), 'ann.pt')"
   ]
  },
  {
   "cell_type": "code",
   "execution_count": 245,
   "id": "9304c842-0856-4dde-846b-3440895434b2",
   "metadata": {},
   "outputs": [
    {
     "data": {
      "text/plain": [
       "ANN(\n",
       "  (flatten): Flatten(start_dim=1, end_dim=-1)\n",
       "  (linear): Linear(in_features=784, out_features=256, bias=True)\n",
       "  (relu): ReLU()\n",
       "  (output): Linear(in_features=256, out_features=10, bias=True)\n",
       ")"
      ]
     },
     "execution_count": 245,
     "metadata": {},
     "output_type": "execute_result"
    }
   ],
   "source": [
    "model = ANN()\n",
    "state_dict = torch.load('ann.pt')\n",
    "model.load_state_dict(state_dict)\n",
    "model"
   ]
  },
  {
   "cell_type": "code",
   "execution_count": 253,
   "id": "6eb111f1-d957-4e70-916f-57fd94f11344",
   "metadata": {},
   "outputs": [
    {
     "name": "stdout",
     "output_type": "stream",
     "text": [
      "CUDA available: True\n",
      "Current device index: 0\n",
      "Device name: NVIDIA GeForce RTX 4060 Laptop GPU\n"
     ]
    }
   ],
   "source": [
    "print(\"CUDA available:\", torch.cuda.is_available())\n",
    "print(\"Current device index:\", torch.cuda.current_device())\n",
    "print(\"Device name:\", torch.cuda.get_device_name(torch.cuda.current_device()))"
   ]
  },
  {
   "cell_type": "code",
   "execution_count": 257,
   "id": "6b485f90-8801-4692-9e13-49da2669c377",
   "metadata": {},
   "outputs": [
    {
     "name": "stdout",
     "output_type": "stream",
     "text": [
      "Using device: cuda\n"
     ]
    },
    {
     "data": {
      "text/plain": [
       "device(type='cpu')"
      ]
     },
     "execution_count": 257,
     "metadata": {},
     "output_type": "execute_result"
    }
   ],
   "source": [
    "device = torch.device(\"cuda\" if torch.cuda.is_available() else \"cpu\")\n",
    "print(\"Using device:\", device)\n",
    "next(model.parameters()).device\n"
   ]
  },
  {
   "cell_type": "code",
   "execution_count": 261,
   "id": "b6e83075-3f01-48ef-920b-3d2785a17580",
   "metadata": {},
   "outputs": [
    {
     "name": "stdout",
     "output_type": "stream",
     "text": [
      "272 ms ± 2.23 ms per loop (mean ± std. dev. of 7 runs, 1 loop each)\n"
     ]
    }
   ],
   "source": [
    "# cpu \n",
    "\n",
    "n = 4096\n",
    "cpu_a = torch.rand(n, n, device='cpu')\n",
    "cpu_b = torch.rand(n, n, device='cpu')\n",
    "\n",
    "%timeit cpu_a @ cpu_b"
   ]
  },
  {
   "cell_type": "code",
   "execution_count": 277,
   "id": "47e2edae-1d1f-4e5c-ba0e-04627bf978cb",
   "metadata": {},
   "outputs": [
    {
     "name": "stdout",
     "output_type": "stream",
     "text": [
      "18.7 ms ± 116 μs per loop (mean ± std. dev. of 7 runs, 100 loops each)\n"
     ]
    }
   ],
   "source": [
    "n = 4096\n",
    "gpu_a = torch.rand(n, n, device='cuda')\n",
    "gpu_b = torch.rand(n, n, device='cuda')\n",
    "\n",
    "_ = gpu_a @ gpu_b\n",
    "torch.cuda.synchronize()\n",
    "\n",
    "%timeit gpu_a @ gpu_b; torch.cuda.synchronize()"
   ]
  },
  {
   "cell_type": "code",
   "execution_count": 345,
   "id": "a2466133-5991-4c2a-b75c-3683ef713d23",
   "metadata": {},
   "outputs": [],
   "source": [
    "model_gpu = ANN().to(device)\n",
    "loss_fn = nn.CrossEntropyLoss()\n",
    "optim = Adam(model_gpu.parameters(), lr=0.001)"
   ]
  },
  {
   "cell_type": "code",
   "execution_count": 347,
   "id": "5cc69228-abfc-44db-ad49-dc0405870722",
   "metadata": {},
   "outputs": [
    {
     "data": {
      "text/plain": [
       "'cuda'"
      ]
     },
     "execution_count": 347,
     "metadata": {},
     "output_type": "execute_result"
    }
   ],
   "source": [
    "torch.accelerator.current_accelerator().type"
   ]
  },
  {
   "cell_type": "code",
   "execution_count": 349,
   "id": "154bb7bb-ea84-4a73-b40c-60e6b62ac3ae",
   "metadata": {},
   "outputs": [],
   "source": [
    "def train_loop(train_loader, model, loss_fn, optim):\n",
    "    model_gpu.train() #Training mode ex if had dropout, behaviour is diff in inference and taining sits in nn.Module\n",
    "    for batch , (X,y) in enumerate(train_loader):\n",
    "        X, y = X.to('cuda'), y.to('cuda')\n",
    "        logits = model_gpu(X)\n",
    "        loss = loss_fn(logits, y)\n",
    "        loss.backward()\n",
    "        optim.step()\n",
    "        optim.zero_grad()\n",
    "        if batch % 100 == 0:\n",
    "            print(f'Train loss after batch {batch} is {loss}')"
   ]
  },
  {
   "cell_type": "code",
   "execution_count": 351,
   "id": "b9a0c5c8-9854-48cb-9eb6-853421437b08",
   "metadata": {},
   "outputs": [],
   "source": [
    "def test_loop(test_loader, model):\n",
    "    model_gpu.eval() # evaluation model\n",
    "    correct = 0\n",
    "    with torch.no_grad():\n",
    "        for (X,y) in test_loader:\n",
    "            X,y = X.to('cuda'), y.to('cuda')\n",
    "            logits = model_gpu(X)\n",
    "            y_hat = logits.argmax(dim=1)\n",
    "            correct += (y == y_hat).type(torch.float).sum().item()\n",
    "    size = len(test_loader.dataset)\n",
    "    acc = correct / size\n",
    "    print(f'Accuracy = {acc:2f}')"
   ]
  },
  {
   "cell_type": "code",
   "execution_count": 353,
   "id": "68ad4eda-1a61-4a09-a548-da71b1cda258",
   "metadata": {},
   "outputs": [
    {
     "name": "stdout",
     "output_type": "stream",
     "text": [
      "Epoch 1\n",
      "Train loss after batch 0 is 2.320020914077759\n",
      "Train loss after batch 100 is 0.3497430086135864\n",
      "Train loss after batch 200 is 0.23960629105567932\n",
      "Train loss after batch 300 is 0.3004227876663208\n",
      "Train loss after batch 400 is 0.2133026272058487\n",
      "Train loss after batch 500 is 0.3042697310447693\n",
      "Train loss after batch 600 is 0.11724309623241425\n",
      "Train loss after batch 700 is 0.3406587243080139\n",
      "Train loss after batch 800 is 0.2766916751861572\n",
      "Train loss after batch 900 is 0.2601388692855835\n",
      "Accuracy = 0.949600\n",
      "Epoch 2\n",
      "Train loss after batch 0 is 0.10758005082607269\n",
      "Train loss after batch 100 is 0.18372699618339539\n",
      "Train loss after batch 200 is 0.07920433580875397\n",
      "Train loss after batch 300 is 0.16368842124938965\n",
      "Train loss after batch 400 is 0.1206219494342804\n",
      "Train loss after batch 500 is 0.18216821551322937\n",
      "Train loss after batch 600 is 0.048081882297992706\n",
      "Train loss after batch 700 is 0.2282228022813797\n",
      "Train loss after batch 800 is 0.17721177637577057\n",
      "Train loss after batch 900 is 0.16937202215194702\n",
      "Accuracy = 0.963100\n",
      "Epoch 3\n",
      "Train loss after batch 0 is 0.05765514075756073\n",
      "Train loss after batch 100 is 0.14431962370872498\n",
      "Train loss after batch 200 is 0.06399279832839966\n",
      "Train loss after batch 300 is 0.07705304026603699\n",
      "Train loss after batch 400 is 0.08536778390407562\n",
      "Train loss after batch 500 is 0.12041983008384705\n",
      "Train loss after batch 600 is 0.03156784921884537\n",
      "Train loss after batch 700 is 0.1561959683895111\n",
      "Train loss after batch 800 is 0.10100263357162476\n",
      "Train loss after batch 900 is 0.10138586163520813\n",
      "Accuracy = 0.967400\n",
      "Epoch 4\n",
      "Train loss after batch 0 is 0.03975382074713707\n",
      "Train loss after batch 100 is 0.10697813332080841\n",
      "Train loss after batch 200 is 0.056910205632448196\n",
      "Train loss after batch 300 is 0.04062366858124733\n",
      "Train loss after batch 400 is 0.056445084512233734\n",
      "Train loss after batch 500 is 0.08694151788949966\n",
      "Train loss after batch 600 is 0.02041250467300415\n",
      "Train loss after batch 700 is 0.10268836468458176\n",
      "Train loss after batch 800 is 0.06661095470190048\n",
      "Train loss after batch 900 is 0.06001199036836624\n",
      "Accuracy = 0.971700\n",
      "Epoch 5\n",
      "Train loss after batch 0 is 0.03565727174282074\n",
      "Train loss after batch 100 is 0.0779096782207489\n",
      "Train loss after batch 200 is 0.05044522136449814\n",
      "Train loss after batch 300 is 0.021384507417678833\n",
      "Train loss after batch 400 is 0.04438386857509613\n",
      "Train loss after batch 500 is 0.07994407415390015\n",
      "Train loss after batch 600 is 0.017782997339963913\n",
      "Train loss after batch 700 is 0.06609803438186646\n",
      "Train loss after batch 800 is 0.06055036932229996\n",
      "Train loss after batch 900 is 0.03750333935022354\n",
      "Accuracy = 0.974500\n"
     ]
    }
   ],
   "source": [
    "model_gpu = ANN().to('cuda')\n",
    "loss_fn = nn.CrossEntropyLoss()\n",
    "optim = Adam(model_gpu.parameters(), lr=0.001)\n",
    "epochs = 5\n",
    "\n",
    "for epoch in range(epochs):\n",
    "    print(f'Epoch {epoch + 1}')\n",
    "    train_loop(train_loader, model_gpu, loss_fn, optim)\n",
    "    test_loop(test_loader, model_gpu)\n"
   ]
  },
  {
   "cell_type": "code",
   "execution_count": 359,
   "id": "45f4bebf-ff75-4afa-bf05-9c9c7ecef1a3",
   "metadata": {},
   "outputs": [
    {
     "name": "stdout",
     "output_type": "stream",
     "text": [
      "True label: 7\n",
      "Predicted label: 7\n"
     ]
    },
    {
     "data": {
      "image/png": "[encoded data removed]",
      "text/plain": [
       "<Figure size 640x480 with 1 Axes>"
      ]
     },
     "metadata": {},
     "output_type": "display_data"
    }
   ],
   "source": [
    "model_gpu.eval()\n",
    "\n",
    "X, y = test_data[0]      # first image + true label\n",
    "print(\"True label:\", y)\n",
    "X = X.unsqueeze(0)  # add batch dimension & move to GPU\n",
    "with torch.no_grad():\n",
    "    logits = model(X)\n",
    "    pred = logits.argmax(dim=1).item()\n",
    "print(\"Predicted label:\", pred)\n",
    "import matplotlib.pyplot as plt\n",
    "\n",
    "plt.imshow(test_data[0][0].squeeze(), cmap=\"gray\")\n",
    "plt.title(f\"Predicted: {pred}, True: {y}\")\n",
    "plt.show()\n"
   ]
  },
  {
   "cell_type": "code",
   "execution_count": 361,
   "id": "6ed58166-1374-45e1-b778-5c8b0edeb553",
   "metadata": {},
   "outputs": [
    {
     "name": "stdout",
     "output_type": "stream",
     "text": [
      "True label: 2\n",
      "Predicted label: 2\n"
     ]
    },
    {
     "data": {
      "image/png": "[encoded data removed]",
      "text/plain": [
       "<Figure size 640x480 with 1 Axes>"
      ]
     },
     "metadata": {},
     "output_type": "display_data"
    }
   ],
   "source": [
    "model_gpu.eval()\n",
    "\n",
    "X, y = test_data[1]      # first image + true label\n",
    "print(\"True label:\", y)\n",
    "X = X.unsqueeze(0)  # add batch dimension & move to GPU\n",
    "with torch.no_grad():\n",
    "    logits = model(X)\n",
    "    pred = logits.argmax(dim=1).item()\n",
    "print(\"Predicted label:\", pred)\n",
    "import matplotlib.pyplot as plt\n",
    "\n",
    "plt.imshow(test_data[1][0].squeeze(), cmap=\"gray\")\n",
    "plt.title(f\"Predicted: {pred}, True: {y}\")\n",
    "plt.show()\n"
   ]
  },
  {
   "cell_type": "code",
   "execution_count": null,
   "id": "a23d2b20-676b-4e2c-9f3c-14acba9e5c3f",
   "metadata": {},
   "outputs": [],
   "source": []
  }
 ],
 "metadata": {
  "kernelspec": {
   "display_name": "Python [conda env:base] *",
   "language": "python",
   "name": "conda-base-py"
  },
  "language_info": {
   "codemirror_mode": {
    "name": "ipython",
    "version": 3
   },
   "file_extension": ".py",
   "mimetype": "text/x-python",
   "name": "python",
   "nbconvert_exporter": "python",
   "pygments_lexer": "ipython3",
   "version": "3.12.7"
  }
 },
 "nbformat": 4,
 "nbformat_minor": 5
}
