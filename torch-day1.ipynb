{
 "cells": [
  {
   "cell_type": "code",
   "execution_count": 2,
   "id": "3c14428f-8fcd-4afa-a6da-40546a2b5a57",
   "metadata": {},
   "outputs": [],
   "source": [
    "import torch"
   ]
  },
  {
   "cell_type": "code",
   "execution_count": 40,
   "id": "eaf98db0-acbb-4c2c-b271-fcb3e2b3d7d9",
   "metadata": {},
   "outputs": [],
   "source": [
    "t0 = torch.tensor(3)\n",
    "# o-d tensor == scalar"
   ]
  },
  {
   "cell_type": "code",
   "execution_count": 38,
   "id": "4ccc17bd-8b31-4fa3-9cbd-4bb5f888e725",
   "metadata": {},
   "outputs": [
    {
     "data": {
      "text/plain": [
       "torch.Size([])"
      ]
     },
     "execution_count": 38,
     "metadata": {},
     "output_type": "execute_result"
    }
   ],
   "source": [
    "t0.shape"
   ]
  },
  {
   "cell_type": "code",
   "execution_count": 4,
   "id": "ed22752e-583e-4624-908f-7c8e1b4eb213",
   "metadata": {},
   "outputs": [],
   "source": [
    "t1 = torch.tensor([1,2,3])"
   ]
  },
  {
   "cell_type": "code",
   "execution_count": 22,
   "id": "ddffd607-e687-43e2-981b-c29736fc898d",
   "metadata": {},
   "outputs": [],
   "source": [
    "t2 = torch.tensor([[1,2,3], [4,5,6]])"
   ]
  },
  {
   "cell_type": "code",
   "execution_count": 6,
   "id": "31c61c3b-162d-4050-a364-f2ac3df483f3",
   "metadata": {},
   "outputs": [],
   "source": [
    "x = torch.tensor([1,2,3])\n",
    "y = x.type(torch.float)"
   ]
  },
  {
   "cell_type": "code",
   "execution_count": 8,
   "id": "a39d441d-c099-45f0-b222-e250c1990360",
   "metadata": {},
   "outputs": [
    {
     "data": {
      "text/plain": [
       "tensor([1., 2., 3.])"
      ]
     },
     "execution_count": 8,
     "metadata": {},
     "output_type": "execute_result"
    }
   ],
   "source": [
    "y"
   ]
  },
  {
   "cell_type": "code",
   "execution_count": 12,
   "id": "203c82a7-5242-477c-9515-fec63d7ddef3",
   "metadata": {},
   "outputs": [
    {
     "data": {
      "text/plain": [
       "'torch.FloatTensor'"
      ]
     },
     "execution_count": 12,
     "metadata": {},
     "output_type": "execute_result"
    }
   ],
   "source": [
    "y.type()"
   ]
  },
  {
   "cell_type": "code",
   "execution_count": 16,
   "id": "69110c07-ae4c-4e10-ab62-4756c52fac40",
   "metadata": {},
   "outputs": [],
   "source": [
    "x = torch.tensor([1., 2., 3.])\n",
    "y = x.type(torch.int)"
   ]
  },
  {
   "cell_type": "code",
   "execution_count": 20,
   "id": "0b82ceb1-d4ea-4e8b-98bf-23500f2a1d5e",
   "metadata": {},
   "outputs": [
    {
     "data": {
      "text/plain": [
       "'torch.IntTensor'"
      ]
     },
     "execution_count": 20,
     "metadata": {},
     "output_type": "execute_result"
    }
   ],
   "source": [
    "y.type()"
   ]
  },
  {
   "cell_type": "code",
   "execution_count": 24,
   "id": "a0b2f431-a1a8-423e-a908-99d729977317",
   "metadata": {},
   "outputs": [
    {
     "data": {
      "text/plain": [
       "tensor([[1, 2, 3],\n",
       "        [4, 5, 6],\n",
       "        [7, 8, 9]])"
      ]
     },
     "execution_count": 24,
     "metadata": {},
     "output_type": "execute_result"
    }
   ],
   "source": [
    "t2"
   ]
  },
  {
   "cell_type": "code",
   "execution_count": 26,
   "id": "b0028f3a-913f-4047-b116-8b685f49426a",
   "metadata": {},
   "outputs": [
    {
     "data": {
      "text/plain": [
       "tensor([5., 7., 9.])"
      ]
     },
     "execution_count": 26,
     "metadata": {},
     "output_type": "execute_result"
    }
   ],
   "source": [
    "x = torch.tensor([1., 2., 3.])\n",
    "y = torch.tensor([4., 5., 6.])\n",
    "x+y"
   ]
  },
  {
   "cell_type": "code",
   "execution_count": 28,
   "id": "43bef437-2a7b-479a-b271-68e4adf4e189",
   "metadata": {},
   "outputs": [
    {
     "data": {
      "text/plain": [
       "tensor([5., 7., 9.])"
      ]
     },
     "execution_count": 28,
     "metadata": {},
     "output_type": "execute_result"
    }
   ],
   "source": [
    "x.add(y)"
   ]
  },
  {
   "cell_type": "code",
   "execution_count": 30,
   "id": "2bd6a97e-b857-4f7c-b153-5e29ddbd00bd",
   "metadata": {},
   "outputs": [
    {
     "data": {
      "text/plain": [
       "tensor([5., 7., 9.])"
      ]
     },
     "execution_count": 30,
     "metadata": {},
     "output_type": "execute_result"
    }
   ],
   "source": [
    "x.add_(y)"
   ]
  },
  {
   "cell_type": "code",
   "execution_count": 32,
   "id": "7d81bed9-c6b9-4db2-a256-840d8f9432ae",
   "metadata": {},
   "outputs": [],
   "source": [
    "# add_ is in place \n",
    "# add( ) returns the added value\n",
    "# + is an operator\n"
   ]
  },
  {
   "cell_type": "code",
   "execution_count": 42,
   "id": "3ee5c72c-595f-4972-8118-55dc6cbbfcd5",
   "metadata": {},
   "outputs": [],
   "source": [
    "x = torch.tensor([1., 2., 3.])"
   ]
  },
  {
   "cell_type": "code",
   "execution_count": 50,
   "id": "5d9fb0b3-9f63-4caa-a11c-f2b18c70d6cb",
   "metadata": {},
   "outputs": [
    {
     "data": {
      "text/plain": [
       "6.0"
      ]
     },
     "execution_count": 50,
     "metadata": {},
     "output_type": "execute_result"
    }
   ],
   "source": [
    "# Sum and extract values\n",
    "s = x.sum()\n",
    "# s is a scalar vaule, saved as a tensor\n",
    "\n",
    "s.item()"
   ]
  },
  {
   "cell_type": "code",
   "execution_count": 52,
   "id": "3294bba2-4dba-482c-9441-25d46f1c2dc9",
   "metadata": {},
   "outputs": [
    {
     "data": {
      "text/plain": [
       "tensor(2.)"
      ]
     },
     "execution_count": 52,
     "metadata": {},
     "output_type": "execute_result"
    }
   ],
   "source": [
    " x = torch.tensor([1., 2., 3.,])\n",
    "x.mean()"
   ]
  },
  {
   "cell_type": "code",
   "execution_count": 54,
   "id": "0c296537-4f8c-4e5f-9ff4-ac9a08a14639",
   "metadata": {},
   "outputs": [
    {
     "ename": "RuntimeError",
     "evalue": "mean(): could not infer output dtype. Input dtype must be either a floating point or complex dtype. Got: Long",
     "output_type": "error",
     "traceback": [
      "\u001b[0;31m---------------------------------------------------------------------------\u001b[0m",
      "\u001b[0;31mRuntimeError\u001b[0m                              Traceback (most recent call last)",
      "Cell \u001b[0;32mIn[54], line 2\u001b[0m\n\u001b[1;32m      1\u001b[0m x \u001b[38;5;241m=\u001b[39m torch\u001b[38;5;241m.\u001b[39mtensor([\u001b[38;5;241m1\u001b[39m,\u001b[38;5;241m2\u001b[39m,\u001b[38;5;241m3\u001b[39m])\n\u001b[0;32m----> 2\u001b[0m x\u001b[38;5;241m.\u001b[39mmean()\n",
      "\u001b[0;31mRuntimeError\u001b[0m: mean(): could not infer output dtype. Input dtype must be either a floating point or complex dtype. Got: Long"
     ]
    }
   ],
   "source": [
    "x = torch.tensor([1,2,3])\n",
    "x.mean()"
   ]
  },
  {
   "cell_type": "code",
   "execution_count": 56,
   "id": "bb9def85-9043-46ba-8d43-bc7d73c57085",
   "metadata": {},
   "outputs": [
    {
     "name": "stdout",
     "output_type": "stream",
     "text": [
      "mean(): could not infer output dtype. Input dtype must be either a floating point or complex dtype. Got: Long\n"
     ]
    }
   ],
   "source": [
    "try:\n",
    "    x.mean()\n",
    "except Exception as E:\n",
    "    print(E)"
   ]
  },
  {
   "cell_type": "code",
   "execution_count": 60,
   "id": "122b94fe-79cc-4ec2-8ab2-da7f9669bb18",
   "metadata": {},
   "outputs": [
    {
     "data": {
      "text/plain": [
       "tensor([[1., 2., 3.],\n",
       "        [4., 5., 6.]])"
      ]
     },
     "execution_count": 60,
     "metadata": {},
     "output_type": "execute_result"
    }
   ],
   "source": [
    "A = torch.tensor(\n",
    "    [[1., 2., 3.],\n",
    "    [4., 5., 6.]]\n",
    ")\n",
    "A"
   ]
  },
  {
   "cell_type": "code",
   "execution_count": 62,
   "id": "243bbae8-69d2-4697-b544-59fa05a67cd0",
   "metadata": {},
   "outputs": [
    {
     "data": {
      "text/plain": [
       "tensor(21.)"
      ]
     },
     "execution_count": 62,
     "metadata": {},
     "output_type": "execute_result"
    }
   ],
   "source": [
    "A.sum()"
   ]
  },
  {
   "cell_type": "code",
   "execution_count": 64,
   "id": "3d17e563-9c2b-48a1-aeaa-1bc05713ea8e",
   "metadata": {},
   "outputs": [
    {
     "data": {
      "text/plain": [
       "tensor([5., 7., 9.])"
      ]
     },
     "execution_count": 64,
     "metadata": {},
     "output_type": "execute_result"
    }
   ],
   "source": [
    "A.sum(dim = 0)\n"
   ]
  },
  {
   "cell_type": "code",
   "execution_count": 66,
   "id": "98273b03-ee36-4a36-8f5c-65e170ba8117",
   "metadata": {},
   "outputs": [
    {
     "data": {
      "text/plain": [
       "tensor([ 6., 15.])"
      ]
     },
     "execution_count": 66,
     "metadata": {},
     "output_type": "execute_result"
    }
   ],
   "source": [
    "A.sum(dim = 1)"
   ]
  },
  {
   "cell_type": "code",
   "execution_count": 72,
   "id": "6ced8f8e-98f3-496e-99fb-4725e2d19a26",
   "metadata": {},
   "outputs": [
    {
     "data": {
      "text/plain": [
       "tensor([[0, 1, 2, 3, 4],\n",
       "        [5, 6, 7, 8, 9]])"
      ]
     },
     "execution_count": 72,
     "metadata": {},
     "output_type": "execute_result"
    }
   ],
   "source": [
    "x = torch.arange(10)\n",
    "A = x.reshape(-1,5)\n",
    "A"
   ]
  },
  {
   "cell_type": "code",
   "execution_count": 74,
   "id": "43ae21ee-df58-4b79-b818-5d39fe61cd84",
   "metadata": {},
   "outputs": [
    {
     "data": {
      "text/plain": [
       "tensor([[ 0,  1,  2],\n",
       "        [ 3,  4,  5],\n",
       "        [ 6,  7,  8],\n",
       "        [ 9, 10, 11],\n",
       "        [12, 13, 14]])"
      ]
     },
     "execution_count": 74,
     "metadata": {},
     "output_type": "execute_result"
    }
   ],
   "source": [
    "A = torch.arange(15).reshape(5,3)\n",
    "A"
   ]
  },
  {
   "cell_type": "code",
   "execution_count": 76,
   "id": "fcf91c29-02e2-43ec-a261-7266ee85d9e0",
   "metadata": {},
   "outputs": [
    {
     "data": {
      "text/plain": [
       "tensor([6, 7, 8])"
      ]
     },
     "execution_count": 76,
     "metadata": {},
     "output_type": "execute_result"
    }
   ],
   "source": [
    "A[2, :]"
   ]
  },
  {
   "cell_type": "code",
   "execution_count": 78,
   "id": "7210ab72-b0f2-47fc-9b49-effeb2213c9d",
   "metadata": {},
   "outputs": [
    {
     "data": {
      "text/plain": [
       "tensor([ 1,  4,  7, 10, 13])"
      ]
     },
     "execution_count": 78,
     "metadata": {},
     "output_type": "execute_result"
    }
   ],
   "source": [
    "A[:, 1]"
   ]
  },
  {
   "cell_type": "code",
   "execution_count": 80,
   "id": "0049af52-be91-4833-9d49-50efa5e50c83",
   "metadata": {},
   "outputs": [
    {
     "data": {
      "text/plain": [
       "(tensor([[0, 1, 2, 3, 4],\n",
       "         [5, 6, 7, 8, 9]]),\n",
       " tensor([1, 2, 3, 4, 5]))"
      ]
     },
     "execution_count": 80,
     "metadata": {},
     "output_type": "execute_result"
    }
   ],
   "source": [
    "A = torch.arange(10).reshape(2,5)\n",
    "b = torch.tensor([1,2,3,4,5])\n",
    "A , b"
   ]
  },
  {
   "cell_type": "code",
   "execution_count": 84,
   "id": "615501b2-2f36-4cb2-a26e-cdf19859a7a7",
   "metadata": {},
   "outputs": [
    {
     "data": {
      "text/plain": [
       "(torch.Size([2, 5]), torch.Size([5]), torch.Size([2]))"
      ]
     },
     "execution_count": 84,
     "metadata": {},
     "output_type": "execute_result"
    }
   ],
   "source": [
    "A.shape, b.shape, (A@b).shape"
   ]
  },
  {
   "cell_type": "code",
   "execution_count": 86,
   "id": "59936667-604b-4364-9b39-e9d476585a32",
   "metadata": {},
   "outputs": [
    {
     "data": {
      "text/plain": [
       "tensor([ 40, 115])"
      ]
     },
     "execution_count": 86,
     "metadata": {},
     "output_type": "execute_result"
    }
   ],
   "source": [
    "A@b\n"
   ]
  },
  {
   "cell_type": "code",
   "execution_count": 90,
   "id": "65a075f1-e51f-4442-b3ec-d342b1f0ed8a",
   "metadata": {},
   "outputs": [
    {
     "data": {
      "text/plain": [
       "(tensor([0, 1, 2, 3, 4]),\n",
       " tensor([[0, 1],\n",
       "         [2, 3],\n",
       "         [4, 5],\n",
       "         [6, 7],\n",
       "         [8, 9]]))"
      ]
     },
     "execution_count": 90,
     "metadata": {},
     "output_type": "execute_result"
    }
   ],
   "source": [
    "#Vector Matrix product \n",
    "A = torch.arange(10).reshape(5,2)\n",
    "b = torch.arange(5)\n",
    "b, A"
   ]
  },
  {
   "cell_type": "code",
   "execution_count": 92,
   "id": "28fcdecb-ef14-4d4e-b1db-1fa4eed34e30",
   "metadata": {},
   "outputs": [
    {
     "data": {
      "text/plain": [
       "tensor([60, 70])"
      ]
     },
     "execution_count": 92,
     "metadata": {},
     "output_type": "execute_result"
    }
   ],
   "source": [
    "b @ A"
   ]
  },
  {
   "cell_type": "code",
   "execution_count": 94,
   "id": "fd8b63bc-cce4-4454-b7cd-6aaf6ffa0a7d",
   "metadata": {},
   "outputs": [
    {
     "data": {
      "text/plain": [
       "(torch.Size([5]), torch.Size([5, 2]), torch.Size([2]))"
      ]
     },
     "execution_count": 94,
     "metadata": {},
     "output_type": "execute_result"
    }
   ],
   "source": [
    "b.shape, A.shape, (b@A).shape"
   ]
  },
  {
   "cell_type": "code",
   "execution_count": 100,
   "id": "8d7b043f-791a-4934-ab23-3c970fb311c8",
   "metadata": {},
   "outputs": [],
   "source": [
    "A = torch.arange(15).reshape(5,3)\n",
    "B = torch.arange(6).reshape(3,2)"
   ]
  },
  {
   "cell_type": "code",
   "execution_count": 102,
   "id": "767e3591-1c74-499b-8d5e-abed96c03527",
   "metadata": {},
   "outputs": [
    {
     "data": {
      "text/plain": [
       "tensor([[ 10,  13],\n",
       "        [ 28,  40],\n",
       "        [ 46,  67],\n",
       "        [ 64,  94],\n",
       "        [ 82, 121]])"
      ]
     },
     "execution_count": 102,
     "metadata": {},
     "output_type": "execute_result"
    }
   ],
   "source": [
    "A @ B"
   ]
  },
  {
   "cell_type": "code",
   "execution_count": 120,
   "id": "d49d5d20-2acd-4b99-b0c5-62ddc8b89f57",
   "metadata": {},
   "outputs": [
    {
     "data": {
      "text/plain": [
       "tensor([[ 0,  2,  4,  6,  8],\n",
       "        [ 5,  7,  9, 11, 13],\n",
       "        [10, 12, 14, 16, 18],\n",
       "        [15, 17, 19, 21, 23]])"
      ]
     },
     "execution_count": 120,
     "metadata": {},
     "output_type": "execute_result"
    }
   ],
   "source": [
    "A = torch.arange(20).reshape(4,5)\n",
    "b = torch.arange(5)\n",
    "A + b"
   ]
  },
  {
   "cell_type": "code",
   "execution_count": 116,
   "id": "bc4cb6ed-5b4c-4121-a8ea-5d206cd4d2b5",
   "metadata": {},
   "outputs": [],
   "source": [
    "A = torch.arange(20).reshape(4,5)\n",
    "b = torch.arange(4)"
   ]
  },
  {
   "cell_type": "code",
   "execution_count": 114,
   "id": "424ff961-2245-417d-adc0-87a6caed85bb",
   "metadata": {},
   "outputs": [
    {
     "data": {
      "text/plain": [
       "tensor([[ 0,  1,  2,  3,  4],\n",
       "        [ 6,  7,  8,  9, 10],\n",
       "        [12, 13, 14, 15, 16],\n",
       "        [18, 19, 20, 21, 22]])"
      ]
     },
     "execution_count": 114,
     "metadata": {},
     "output_type": "execute_result"
    }
   ],
   "source": [
    "# Column vector addition\n",
    "A + b.reshape(4,1)"
   ]
  },
  {
   "cell_type": "code",
   "execution_count": 124,
   "id": "371ec93b-54d9-41fa-89ac-668a9453b35a",
   "metadata": {},
   "outputs": [
    {
     "data": {
      "text/plain": [
       "(tensor([[0, 1],\n",
       "         [2, 3],\n",
       "         [4, 5]]),\n",
       " tensor([[0, 1],\n",
       "         [2, 3],\n",
       "         [4, 5],\n",
       "         [6, 7],\n",
       "         [8, 9]]))"
      ]
     },
     "execution_count": 124,
     "metadata": {},
     "output_type": "execute_result"
    }
   ],
   "source": [
    "# concatination \n",
    "\n",
    "A = torch.arange(6).reshape(3,2)\n",
    "B = torch.arange(10).reshape(5,2)\n",
    "\n",
    "A, B"
   ]
  },
  {
   "cell_type": "code",
   "execution_count": 128,
   "id": "2a02612a-e0f3-4f78-821f-aa7c73f995d4",
   "metadata": {},
   "outputs": [
    {
     "data": {
      "text/plain": [
       "(torch.Size([8, 2]),\n",
       " tensor([[0, 1],\n",
       "         [2, 3],\n",
       "         [4, 5],\n",
       "         [0, 1],\n",
       "         [2, 3],\n",
       "         [4, 5],\n",
       "         [6, 7],\n",
       "         [8, 9]]))"
      ]
     },
     "execution_count": 128,
     "metadata": {},
     "output_type": "execute_result"
    }
   ],
   "source": [
    "C = torch.concatenate((A, B), dim = 0)\n",
    "C.shape, C"
   ]
  },
  {
   "cell_type": "code",
   "execution_count": 130,
   "id": "56413981-3e50-4eab-8ed1-f5944fc86f05",
   "metadata": {},
   "outputs": [
    {
     "data": {
      "text/plain": [
       "torch.Size([2, 3, 4])"
      ]
     },
     "execution_count": 130,
     "metadata": {},
     "output_type": "execute_result"
    }
   ],
   "source": [
    "# Flatten \n",
    "A = torch.arange(24).reshape(2,3,4)\n",
    "A.shape"
   ]
  },
  {
   "cell_type": "code",
   "execution_count": 132,
   "id": "5a67c731-6fb1-4a1a-8b21-39e930e8738f",
   "metadata": {},
   "outputs": [
    {
     "data": {
      "text/plain": [
       "(torch.Size([3, 4]),\n",
       " tensor([[ 0,  1,  2,  3],\n",
       "         [ 4,  5,  6,  7],\n",
       "         [ 8,  9, 10, 11]]))"
      ]
     },
     "execution_count": 132,
     "metadata": {},
     "output_type": "execute_result"
    }
   ],
   "source": [
    "A[0].shape , A[0]"
   ]
  },
  {
   "cell_type": "code",
   "execution_count": 134,
   "id": "2c3891a8-2263-4ca5-b06b-3987b4a713ef",
   "metadata": {},
   "outputs": [
    {
     "data": {
      "text/plain": [
       "tensor([[[ 0,  1,  2,  3],\n",
       "         [ 4,  5,  6,  7],\n",
       "         [ 8,  9, 10, 11]],\n",
       "\n",
       "        [[12, 13, 14, 15],\n",
       "         [16, 17, 18, 19],\n",
       "         [20, 21, 22, 23]]])"
      ]
     },
     "execution_count": 134,
     "metadata": {},
     "output_type": "execute_result"
    }
   ],
   "source": [
    "A"
   ]
  },
  {
   "cell_type": "code",
   "execution_count": 136,
   "id": "013741e8-6433-4e15-b68e-bd068a96d364",
   "metadata": {},
   "outputs": [
    {
     "data": {
      "text/plain": [
       "(torch.Size([3, 4]),\n",
       " tensor([[12, 13, 14, 15],\n",
       "         [16, 17, 18, 19],\n",
       "         [20, 21, 22, 23]]))"
      ]
     },
     "execution_count": 136,
     "metadata": {},
     "output_type": "execute_result"
    }
   ],
   "source": [
    "A[1].shape, A[1]"
   ]
  },
  {
   "cell_type": "code",
   "execution_count": 142,
   "id": "01d85870-61ed-42ac-8ab2-a868c06ead50",
   "metadata": {},
   "outputs": [
    {
     "data": {
      "text/plain": [
       "tensor([ 0,  1,  2,  3,  4,  5,  6,  7,  8,  9, 10, 11, 12, 13, 14, 15, 16, 17,\n",
       "        18, 19, 20, 21, 22, 23])"
      ]
     },
     "execution_count": 142,
     "metadata": {},
     "output_type": "execute_result"
    }
   ],
   "source": [
    "A.flatten()"
   ]
  },
  {
   "cell_type": "code",
   "execution_count": 144,
   "id": "911354c1-eff9-446b-9489-20ed2e52c191",
   "metadata": {},
   "outputs": [
    {
     "data": {
      "text/plain": [
       "tensor([ 0,  1,  2,  3,  4,  5,  6,  7,  8,  9, 10, 11, 12, 13, 14, 15, 16, 17,\n",
       "        18, 19, 20, 21, 22, 23])"
      ]
     },
     "execution_count": 144,
     "metadata": {},
     "output_type": "execute_result"
    }
   ],
   "source": [
    "A.reshape(-1)"
   ]
  },
  {
   "cell_type": "code",
   "execution_count": 146,
   "id": "4b4f6efb-d988-4aee-ae99-dcf46f7f1ff1",
   "metadata": {},
   "outputs": [
    {
     "data": {
      "text/plain": [
       "tensor([[ 0,  1,  2,  3,  4,  5,  6,  7,  8,  9, 10, 11],\n",
       "        [12, 13, 14, 15, 16, 17, 18, 19, 20, 21, 22, 23]])"
      ]
     },
     "execution_count": 146,
     "metadata": {},
     "output_type": "execute_result"
    }
   ],
   "source": [
    "A.reshape(2, 12)"
   ]
  },
  {
   "cell_type": "code",
   "execution_count": 152,
   "id": "b161bc6f-17e3-45cd-9125-5bda49298a93",
   "metadata": {},
   "outputs": [
    {
     "data": {
      "text/plain": [
       "tensor([[ 0,  1,  2,  3,  4,  5,  6,  7,  8,  9, 10, 11],\n",
       "        [12, 13, 14, 15, 16, 17, 18, 19, 20, 21, 22, 23]])"
      ]
     },
     "execution_count": 152,
     "metadata": {},
     "output_type": "execute_result"
    }
   ],
   "source": [
    "# Zeroth dim is the batch dimension\n",
    "A.flatten(start_dim=1).shape\n",
    "A.flatten(start_dim=1)"
   ]
  },
  {
   "cell_type": "code",
   "execution_count": 154,
   "id": "8622915f-74d5-43c0-827a-2e6f1eb875f2",
   "metadata": {},
   "outputs": [
    {
     "data": {
      "text/plain": [
       "tensor([0.8555, 0.8875, 0.0716, 0.1811, 0.8884])"
      ]
     },
     "execution_count": 154,
     "metadata": {},
     "output_type": "execute_result"
    }
   ],
   "source": [
    "x = torch.rand(5)\n",
    "x"
   ]
  },
  {
   "cell_type": "code",
   "execution_count": 156,
   "id": "6170fc09-d115-4794-b84a-d7656bdc963d",
   "metadata": {},
   "outputs": [],
   "source": [
    "A = torch.randint(0, 5, (2,5))"
   ]
  },
  {
   "cell_type": "code",
   "execution_count": 158,
   "id": "46013a8a-133c-4fa3-a8d7-9c86c607ced8",
   "metadata": {},
   "outputs": [
    {
     "data": {
      "text/plain": [
       "tensor([[0, 0, 0, 0, 3],\n",
       "        [2, 2, 1, 3, 2]])"
      ]
     },
     "execution_count": 158,
     "metadata": {},
     "output_type": "execute_result"
    }
   ],
   "source": [
    "A"
   ]
  },
  {
   "cell_type": "code",
   "execution_count": 176,
   "id": "4b41a191-ee48-4186-b0dd-7d04dfd62c1b",
   "metadata": {},
   "outputs": [
    {
     "data": {
      "text/plain": [
       "tensor([2, 2, 2, 0, 1])"
      ]
     },
     "execution_count": 176,
     "metadata": {},
     "output_type": "execute_result"
    }
   ],
   "source": [
    "torch.manual_seed(1001)\n",
    "torch.randint(0,5, (5, ))"
   ]
  },
  {
   "cell_type": "code",
   "execution_count": 178,
   "id": "b825ac50-d3f9-4104-8a76-19979da0de99",
   "metadata": {},
   "outputs": [],
   "source": [
    "# Simple Linear Regression "
   ]
  },
  {
   "cell_type": "code",
   "execution_count": 180,
   "id": "5880f2b7-d6e7-46fd-87fc-2133c445951d",
   "metadata": {},
   "outputs": [],
   "source": [
    "n = 100\n",
    "x = torch.rand(n)\n",
    "w_true = torch.tensor(2.)\n",
    "b_true = torch.tensor(5.)\n",
    "noise = torch.rand(n)\n",
    "\n",
    "# y = 2x + 5 + noise\n",
    "\n",
    "y = (w_true * x) + b_true + noise"
   ]
  },
  {
   "cell_type": "code",
   "execution_count": 186,
   "id": "2c133627-bbd7-416b-95cd-7cc751fa45c3",
   "metadata": {},
   "outputs": [],
   "source": [
    "import matplotlib.pyplot as plt"
   ]
  },
  {
   "cell_type": "code",
   "execution_count": 188,
   "id": "1ce98261-3a4b-4e61-ab2f-d779d93561cd",
   "metadata": {},
   "outputs": [
    {
     "data": {
      "text/plain": [
       "[<matplotlib.lines.Line2D at 0x7784e15300b0>]"
      ]
     },
     "execution_count": 188,
     "metadata": {},
     "output_type": "execute_result"
    },
    {
     "data": {
      "image/png": "[encoded data removed]",
      "text/plain": [
       "<Figure size 640x480 with 1 Axes>"
      ]
     },
     "metadata": {},
     "output_type": "display_data"
    }
   ],
   "source": [
    "w = torch.tensor(0.)\n",
    "b = torch.tensor(0.)\n",
    "\n",
    "eta = 0.1\n",
    "epochs = 200\n",
    "losses = []\n",
    "for epoch in range(epochs):\n",
    "    y_hat = w * x + b\n",
    "    loss = ((y_hat - y) ** 2).mean()\n",
    "    losses.append(loss.item())\n",
    "    w_grad = (2* (y_hat - y) * x).mean()\n",
    "    b_grad = (2* (y_hat - y)).mean()\n",
    "    w -= eta * w_grad\n",
    "    b -= eta * w_grad\n",
    "\n",
    "w,b\n",
    "plt.plot(range(epochs), losses)\n",
    "\n"
   ]
  },
  {
   "cell_type": "code",
   "execution_count": 190,
   "id": "b9eb7c96-9163-4730-94c6-8bcc301bfb33",
   "metadata": {},
   "outputs": [
    {
     "data": {
      "text/plain": [
       "(tensor(4.0774), tensor(4.0774))"
      ]
     },
     "execution_count": 190,
     "metadata": {},
     "output_type": "execute_result"
    }
   ],
   "source": [
    "w , b"
   ]
  },
  {
   "cell_type": "code",
   "execution_count": 196,
   "id": "75916ed0-01cf-49d7-bb68-70d241a28d63",
   "metadata": {},
   "outputs": [
    {
     "name": "stdout",
     "output_type": "stream",
     "text": [
      "Collecting torchviz\n",
      "  Downloading torchviz-0.0.3-py3-none-any.whl.metadata (2.1 kB)\n",
      "Requirement already satisfied: torch in /home/shoaib/anaconda3/lib/python3.12/site-packages (from torchviz) (2.8.0)\n",
      "Collecting graphviz (from torchviz)\n",
      "  Downloading graphviz-0.21-py3-none-any.whl.metadata (12 kB)\n",
      "Requirement already satisfied: filelock in /home/shoaib/anaconda3/lib/python3.12/site-packages (from torch->torchviz) (3.13.1)\n",
      "Requirement already satisfied: typing-extensions>=4.10.0 in /home/shoaib/anaconda3/lib/python3.12/site-packages (from torch->torchviz) (4.11.0)\n",
      "Requirement already satisfied: setuptools in /home/shoaib/anaconda3/lib/python3.12/site-packages (from torch->torchviz) (75.1.0)\n",
      "Requirement already satisfied: sympy>=1.13.3 in /home/shoaib/anaconda3/lib/python3.12/site-packages (from torch->torchviz) (1.14.0)\n",
      "Requirement already satisfied: networkx in /home/shoaib/anaconda3/lib/python3.12/site-packages (from torch->torchviz) (3.3)\n",
      "Requirement already satisfied: jinja2 in /home/shoaib/anaconda3/lib/python3.12/site-packages (from torch->torchviz) (3.1.4)\n",
      "Requirement already satisfied: fsspec in /home/shoaib/anaconda3/lib/python3.12/site-packages (from torch->torchviz) (2024.6.1)\n",
      "Requirement already satisfied: nvidia-cuda-nvrtc-cu12==12.8.93 in /home/shoaib/anaconda3/lib/python3.12/site-packages (from torch->torchviz) (12.8.93)\n",
      "Requirement already satisfied: nvidia-cuda-runtime-cu12==12.8.90 in /home/shoaib/anaconda3/lib/python3.12/site-packages (from torch->torchviz) (12.8.90)\n",
      "Requirement already satisfied: nvidia-cuda-cupti-cu12==12.8.90 in /home/shoaib/anaconda3/lib/python3.12/site-packages (from torch->torchviz) (12.8.90)\n",
      "Requirement already satisfied: nvidia-cudnn-cu12==9.10.2.21 in /home/shoaib/anaconda3/lib/python3.12/site-packages (from torch->torchviz) (9.10.2.21)\n",
      "Requirement already satisfied: nvidia-cublas-cu12==12.8.4.1 in /home/shoaib/anaconda3/lib/python3.12/site-packages (from torch->torchviz) (12.8.4.1)\n",
      "Requirement already satisfied: nvidia-cufft-cu12==11.3.3.83 in /home/shoaib/anaconda3/lib/python3.12/site-packages (from torch->torchviz) (11.3.3.83)\n",
      "Requirement already satisfied: nvidia-curand-cu12==10.3.9.90 in /home/shoaib/anaconda3/lib/python3.12/site-packages (from torch->torchviz) (10.3.9.90)\n",
      "Requirement already satisfied: nvidia-cusolver-cu12==11.7.3.90 in /home/shoaib/anaconda3/lib/python3.12/site-packages (from torch->torchviz) (11.7.3.90)\n",
      "Requirement already satisfied: nvidia-cusparse-cu12==12.5.8.93 in /home/shoaib/anaconda3/lib/python3.12/site-packages (from torch->torchviz) (12.5.8.93)\n",
      "Requirement already satisfied: nvidia-cusparselt-cu12==0.7.1 in /home/shoaib/anaconda3/lib/python3.12/site-packages (from torch->torchviz) (0.7.1)\n",
      "Requirement already satisfied: nvidia-nccl-cu12==2.27.3 in /home/shoaib/anaconda3/lib/python3.12/site-packages (from torch->torchviz) (2.27.3)\n",
      "Requirement already satisfied: nvidia-nvtx-cu12==12.8.90 in /home/shoaib/anaconda3/lib/python3.12/site-packages (from torch->torchviz) (12.8.90)\n",
      "Requirement already satisfied: nvidia-nvjitlink-cu12==12.8.93 in /home/shoaib/anaconda3/lib/python3.12/site-packages (from torch->torchviz) (12.8.93)\n",
      "Requirement already satisfied: nvidia-cufile-cu12==1.13.1.3 in /home/shoaib/anaconda3/lib/python3.12/site-packages (from torch->torchviz) (1.13.1.3)\n",
      "Requirement already satisfied: triton==3.4.0 in /home/shoaib/anaconda3/lib/python3.12/site-packages (from torch->torchviz) (3.4.0)\n",
      "Requirement already satisfied: mpmath<1.4,>=1.1.0 in /home/shoaib/anaconda3/lib/python3.12/site-packages (from sympy>=1.13.3->torch->torchviz) (1.3.0)\n",
      "Requirement already satisfied: MarkupSafe>=2.0 in /home/shoaib/anaconda3/lib/python3.12/site-packages (from jinja2->torch->torchviz) (2.1.3)\n",
      "Downloading torchviz-0.0.3-py3-none-any.whl (5.7 kB)\n",
      "Downloading graphviz-0.21-py3-none-any.whl (47 kB)\n",
      "Installing collected packages: graphviz, torchviz\n",
      "\u001b[2K   \u001b[38;2;114;156;31m━━━━━━━━━━━━━━━━━━━━━━━━━━━━━━━━━━━━━━━━\u001b[0m \u001b[32m2/2\u001b[0m [torchviz]\n",
      "\u001b[1A\u001b[2KSuccessfully installed graphviz-0.21 torchviz-0.0.3\n"
     ]
    }
   ],
   "source": [
    "!pip install torchviz"
   ]
  },
  {
   "cell_type": "code",
   "execution_count": 208,
   "id": "6e77cde5-0a28-4536-9e2b-1005d509f3e5",
   "metadata": {},
   "outputs": [
    {
     "name": "stdout",
     "output_type": "stream",
     "text": [
      "tensor(2.)\n"
     ]
    },
    {
     "data": {
      "image/svg+xml": [
       "<?xml version=\"1.0\" encoding=\"UTF-8\" standalone=\"no\"?>\n",
       "<!DOCTYPE svg PUBLIC \"-//W3C//DTD SVG 1.1//EN\"\n",
       " \"http://www.w3.org/Graphics/SVG/1.1/DTD/svg11.dtd\">\n",
       "<!-- Generated by graphviz version 2.43.0 (0)\n",
       " -->\n",
       "<!-- Title: %3 Pages: 1 -->\n",
       "<svg width=\"109pt\" height=\"214pt\"\n",
       " viewBox=\"0.00 0.00 109.00 214.00\" xmlns=\"http://www.w3.org/2000/svg\" xmlns:xlink=\"http://www.w3.org/1999/xlink\">\n",
       "<g id=\"graph0\" class=\"graph\" transform=\"scale(1 1) rotate(0) translate(4 210)\">\n",
       "<title>%3</title>\n",
       "<polygon fill=\"white\" stroke=\"transparent\" points=\"-4,4 -4,-210 105,-210 105,4 -4,4\"/>\n",
       "<!-- 131412614398432 -->\n",
       "<g id=\"node1\" class=\"node\">\n",
       "<title>131412614398432</title>\n",
       "<polygon fill=\"#caff70\" stroke=\"black\" points=\"77.5,-30 23.5,-30 23.5,0 77.5,0 77.5,-30\"/>\n",
       "<text text-anchor=\"middle\" x=\"50.5\" y=\"-18\" font-family=\"monospace\" font-size=\"10.00\">y</text>\n",
       "<text text-anchor=\"middle\" x=\"50.5\" y=\"-7\" font-family=\"monospace\" font-size=\"10.00\"> ()</text>\n",
       "</g>\n",
       "<!-- 131412596669456 -->\n",
       "<g id=\"node2\" class=\"node\">\n",
       "<title>131412596669456</title>\n",
       "<polygon fill=\"lightgrey\" stroke=\"black\" points=\"95,-85 6,-85 6,-66 95,-66 95,-85\"/>\n",
       "<text text-anchor=\"middle\" x=\"50.5\" y=\"-73\" font-family=\"monospace\" font-size=\"10.00\">PowBackward0</text>\n",
       "</g>\n",
       "<!-- 131412596669456&#45;&gt;131412614398432 -->\n",
       "<g id=\"edge3\" class=\"edge\">\n",
       "<title>131412596669456&#45;&gt;131412614398432</title>\n",
       "<path fill=\"none\" stroke=\"black\" d=\"M50.5,-65.87C50.5,-59.11 50.5,-49.35 50.5,-40.26\"/>\n",
       "<polygon fill=\"black\" stroke=\"black\" points=\"54,-40.11 50.5,-30.11 47,-40.11 54,-40.11\"/>\n",
       "</g>\n",
       "<!-- 131412595543152 -->\n",
       "<g id=\"node3\" class=\"node\">\n",
       "<title>131412595543152</title>\n",
       "<polygon fill=\"lightgrey\" stroke=\"black\" points=\"101,-140 0,-140 0,-121 101,-121 101,-140\"/>\n",
       "<text text-anchor=\"middle\" x=\"50.5\" y=\"-128\" font-family=\"monospace\" font-size=\"10.00\">AccumulateGrad</text>\n",
       "</g>\n",
       "<!-- 131412595543152&#45;&gt;131412596669456 -->\n",
       "<g id=\"edge1\" class=\"edge\">\n",
       "<title>131412595543152&#45;&gt;131412596669456</title>\n",
       "<path fill=\"none\" stroke=\"black\" d=\"M50.5,-120.75C50.5,-113.8 50.5,-103.85 50.5,-95.13\"/>\n",
       "<polygon fill=\"black\" stroke=\"black\" points=\"54,-95.09 50.5,-85.09 47,-95.09 54,-95.09\"/>\n",
       "</g>\n",
       "<!-- 131412597712896 -->\n",
       "<g id=\"node4\" class=\"node\">\n",
       "<title>131412597712896</title>\n",
       "<polygon fill=\"lightblue\" stroke=\"black\" points=\"77.5,-206 23.5,-206 23.5,-176 77.5,-176 77.5,-206\"/>\n",
       "<text text-anchor=\"middle\" x=\"50.5\" y=\"-194\" font-family=\"monospace\" font-size=\"10.00\">x</text>\n",
       "<text text-anchor=\"middle\" x=\"50.5\" y=\"-183\" font-family=\"monospace\" font-size=\"10.00\"> ()</text>\n",
       "</g>\n",
       "<!-- 131412597712896&#45;&gt;131412595543152 -->\n",
       "<g id=\"edge2\" class=\"edge\">\n",
       "<title>131412597712896&#45;&gt;131412595543152</title>\n",
       "<path fill=\"none\" stroke=\"black\" d=\"M50.5,-175.84C50.5,-168.21 50.5,-158.7 50.5,-150.45\"/>\n",
       "<polygon fill=\"black\" stroke=\"black\" points=\"54,-150.27 50.5,-140.27 47,-150.27 54,-150.27\"/>\n",
       "</g>\n",
       "</g>\n",
       "</svg>\n"
      ],
      "text/plain": [
       "<graphviz.graphs.Digraph at 0x7784e11385c0>"
      ]
     },
     "execution_count": 208,
     "metadata": {},
     "output_type": "execute_result"
    }
   ],
   "source": [
    "from torchviz import make_dot\n",
    "x = torch.tensor(1., requires_grad = True)\n",
    "y = x**2\n",
    "y.backward()\n",
    "graph = make_dot(y, params = {'x':x, 'y':y})\n",
    "print(x.grad)\n",
    "graph"
   ]
  },
  {
   "cell_type": "code",
   "execution_count": 216,
   "id": "e19cd9a5-1c9a-4dfe-9708-4dd663f9a466",
   "metadata": {},
   "outputs": [
    {
     "name": "stdout",
     "output_type": "stream",
     "text": [
      "tensor(4.)\n"
     ]
    },
    {
     "data": {
      "image/svg+xml": [
       "<?xml version=\"1.0\" encoding=\"UTF-8\" standalone=\"no\"?>\n",
       "<!DOCTYPE svg PUBLIC \"-//W3C//DTD SVG 1.1//EN\"\n",
       " \"http://www.w3.org/Graphics/SVG/1.1/DTD/svg11.dtd\">\n",
       "<!-- Generated by graphviz version 2.43.0 (0)\n",
       " -->\n",
       "<!-- Title: %3 Pages: 1 -->\n",
       "<svg width=\"204pt\" height=\"269pt\"\n",
       " viewBox=\"0.00 0.00 204.00 269.00\" xmlns=\"http://www.w3.org/2000/svg\" xmlns:xlink=\"http://www.w3.org/1999/xlink\">\n",
       "<g id=\"graph0\" class=\"graph\" transform=\"scale(1 1) rotate(0) translate(4 265)\">\n",
       "<title>%3</title>\n",
       "<polygon fill=\"white\" stroke=\"transparent\" points=\"-4,4 -4,-265 200,-265 200,4 -4,4\"/>\n",
       "<!-- 131412595829056 -->\n",
       "<g id=\"node1\" class=\"node\">\n",
       "<title>131412595829056</title>\n",
       "<polygon fill=\"#caff70\" stroke=\"black\" points=\"124.5,-30 70.5,-30 70.5,0 124.5,0 124.5,-30\"/>\n",
       "<text text-anchor=\"middle\" x=\"97.5\" y=\"-18\" font-family=\"monospace\" font-size=\"10.00\">z</text>\n",
       "<text text-anchor=\"middle\" x=\"97.5\" y=\"-7\" font-family=\"monospace\" font-size=\"10.00\"> ()</text>\n",
       "</g>\n",
       "<!-- 131412595553424 -->\n",
       "<g id=\"node2\" class=\"node\">\n",
       "<title>131412595553424</title>\n",
       "<polygon fill=\"lightgrey\" stroke=\"black\" points=\"142,-85 53,-85 53,-66 142,-66 142,-85\"/>\n",
       "<text text-anchor=\"middle\" x=\"97.5\" y=\"-73\" font-family=\"monospace\" font-size=\"10.00\">AddBackward0</text>\n",
       "</g>\n",
       "<!-- 131412595553424&#45;&gt;131412595829056 -->\n",
       "<g id=\"edge6\" class=\"edge\">\n",
       "<title>131412595553424&#45;&gt;131412595829056</title>\n",
       "<path fill=\"none\" stroke=\"black\" d=\"M97.5,-65.87C97.5,-59.11 97.5,-49.35 97.5,-40.26\"/>\n",
       "<polygon fill=\"black\" stroke=\"black\" points=\"101,-40.11 97.5,-30.11 94,-40.11 101,-40.11\"/>\n",
       "</g>\n",
       "<!-- 131412595546416 -->\n",
       "<g id=\"node3\" class=\"node\">\n",
       "<title>131412595546416</title>\n",
       "<polygon fill=\"lightgrey\" stroke=\"black\" points=\"89,-140 0,-140 0,-121 89,-121 89,-140\"/>\n",
       "<text text-anchor=\"middle\" x=\"44.5\" y=\"-128\" font-family=\"monospace\" font-size=\"10.00\">MulBackward0</text>\n",
       "</g>\n",
       "<!-- 131412595546416&#45;&gt;131412595553424 -->\n",
       "<g id=\"edge1\" class=\"edge\">\n",
       "<title>131412595546416&#45;&gt;131412595553424</title>\n",
       "<path fill=\"none\" stroke=\"black\" d=\"M53.25,-120.75C60.97,-113.03 72.4,-101.6 81.72,-92.28\"/>\n",
       "<polygon fill=\"black\" stroke=\"black\" points=\"84.31,-94.64 88.91,-85.09 79.36,-89.69 84.31,-94.64\"/>\n",
       "</g>\n",
       "<!-- 131412599846224 -->\n",
       "<g id=\"node4\" class=\"node\">\n",
       "<title>131412599846224</title>\n",
       "<polygon fill=\"lightgrey\" stroke=\"black\" points=\"148,-195 47,-195 47,-176 148,-176 148,-195\"/>\n",
       "<text text-anchor=\"middle\" x=\"97.5\" y=\"-183\" font-family=\"monospace\" font-size=\"10.00\">AccumulateGrad</text>\n",
       "</g>\n",
       "<!-- 131412599846224&#45;&gt;131412595546416 -->\n",
       "<g id=\"edge2\" class=\"edge\">\n",
       "<title>131412599846224&#45;&gt;131412595546416</title>\n",
       "<path fill=\"none\" stroke=\"black\" d=\"M88.75,-175.75C81.03,-168.03 69.6,-156.6 60.28,-147.28\"/>\n",
       "<polygon fill=\"black\" stroke=\"black\" points=\"62.64,-144.69 53.09,-140.09 57.69,-149.64 62.64,-144.69\"/>\n",
       "</g>\n",
       "<!-- 131412595550736 -->\n",
       "<g id=\"node6\" class=\"node\">\n",
       "<title>131412595550736</title>\n",
       "<polygon fill=\"lightgrey\" stroke=\"black\" points=\"196,-140 107,-140 107,-121 196,-121 196,-140\"/>\n",
       "<text text-anchor=\"middle\" x=\"151.5\" y=\"-128\" font-family=\"monospace\" font-size=\"10.00\">PowBackward0</text>\n",
       "</g>\n",
       "<!-- 131412599846224&#45;&gt;131412595550736 -->\n",
       "<g id=\"edge5\" class=\"edge\">\n",
       "<title>131412599846224&#45;&gt;131412595550736</title>\n",
       "<path fill=\"none\" stroke=\"black\" d=\"M106.42,-175.75C114.28,-168.03 125.93,-156.6 135.42,-147.28\"/>\n",
       "<polygon fill=\"black\" stroke=\"black\" points=\"138.06,-149.59 142.75,-140.09 133.16,-144.6 138.06,-149.59\"/>\n",
       "</g>\n",
       "<!-- 131412595830416 -->\n",
       "<g id=\"node5\" class=\"node\">\n",
       "<title>131412595830416</title>\n",
       "<polygon fill=\"lightblue\" stroke=\"black\" points=\"124.5,-261 70.5,-261 70.5,-231 124.5,-231 124.5,-261\"/>\n",
       "<text text-anchor=\"middle\" x=\"97.5\" y=\"-249\" font-family=\"monospace\" font-size=\"10.00\">x</text>\n",
       "<text text-anchor=\"middle\" x=\"97.5\" y=\"-238\" font-family=\"monospace\" font-size=\"10.00\"> ()</text>\n",
       "</g>\n",
       "<!-- 131412595830416&#45;&gt;131412599846224 -->\n",
       "<g id=\"edge3\" class=\"edge\">\n",
       "<title>131412595830416&#45;&gt;131412599846224</title>\n",
       "<path fill=\"none\" stroke=\"black\" d=\"M97.5,-230.84C97.5,-223.21 97.5,-213.7 97.5,-205.45\"/>\n",
       "<polygon fill=\"black\" stroke=\"black\" points=\"101,-205.27 97.5,-195.27 94,-205.27 101,-205.27\"/>\n",
       "</g>\n",
       "<!-- 131412595550736&#45;&gt;131412595553424 -->\n",
       "<g id=\"edge4\" class=\"edge\">\n",
       "<title>131412595550736&#45;&gt;131412595553424</title>\n",
       "<path fill=\"none\" stroke=\"black\" d=\"M142.58,-120.75C134.72,-113.03 123.07,-101.6 113.58,-92.28\"/>\n",
       "<polygon fill=\"black\" stroke=\"black\" points=\"115.84,-89.6 106.25,-85.09 110.94,-94.59 115.84,-89.6\"/>\n",
       "</g>\n",
       "</g>\n",
       "</svg>\n"
      ],
      "text/plain": [
       "<graphviz.graphs.Digraph at 0x7784e1138c50>"
      ]
     },
     "execution_count": 216,
     "metadata": {},
     "output_type": "execute_result"
    }
   ],
   "source": [
    "x = torch.tensor(1., requires_grad=True)\n",
    "w = 2 * x   # 2\n",
    "y = x ** 2  # 2 8 x \n",
    "z = w + y   # 1 ,1 \n",
    "z.backward()\n",
    "print(x.grad)\n",
    "graph = make_dot(z , {'x':x, 'w':w, 'y':y, 'z':z})\n",
    "# partial derivatives of the result of the operation with respect to the operands\n",
    "graph"
   ]
  },
  {
   "cell_type": "code",
   "execution_count": 218,
   "id": "c0eb5733-c20c-4630-8fa3-1c03d500d077",
   "metadata": {},
   "outputs": [
    {
     "data": {
      "text/plain": [
       "(tensor(1., requires_grad=True),\n",
       " tensor(1., grad_fn=<PowBackward0>),\n",
       " tensor(3., grad_fn=<AddBackward0>),\n",
       " tensor(2., grad_fn=<MulBackward0>))"
      ]
     },
     "execution_count": 218,
     "metadata": {},
     "output_type": "execute_result"
    }
   ],
   "source": [
    "x = torch.tensor(1., requires_grad=True)\n",
    "w = 2 * x   # 2\n",
    "y = x ** 2  # 2 8 x \n",
    "z = w + y   # 1 ,1 \n",
    "z.backward()\n",
    "x, y , z ,w"
   ]
  },
  {
   "cell_type": "code",
   "execution_count": 271,
   "id": "7729b3eb-4bd2-456f-a834-ddb6f90b71d9",
   "metadata": {},
   "outputs": [
    {
     "data": {
      "text/plain": [
       "tensor(2.)"
      ]
     },
     "execution_count": 271,
     "metadata": {},
     "output_type": "execute_result"
    }
   ],
   "source": [
    "x = torch.tensor(1., requires_grad=True)\n",
    "y = x ** 2\n",
    "y.backward()\n",
    "x.grad"
   ]
  },
  {
   "cell_type": "code",
   "execution_count": 273,
   "id": "303fac43-cc6d-4780-9992-c24f7f752e07",
   "metadata": {},
   "outputs": [],
   "source": [
    "w = torch.tensor(0., requires_grad = True)\n",
    "b = torch.tensor(0., requires_grad= True)\n",
    "y_hat = w * x + b\n",
    "\n",
    "eta = 0.01\n",
    "epoch\n",
    "loss = ((y_hat - y)**2).mean()\n",
    "losses.append(loss.item())"
   ]
  },
  {
   "cell_type": "code",
   "execution_count": 275,
   "id": "d32bec8b-9a82-48cd-ad0a-558074bb1454",
   "metadata": {},
   "outputs": [],
   "source": [
    "from torch.nn import MSELoss"
   ]
  },
  {
   "cell_type": "code",
   "execution_count": 277,
   "id": "ca79f492-9837-47a0-8307-76f983d36ea3",
   "metadata": {},
   "outputs": [
    {
     "data": {
      "text/plain": [
       "tensor(0.0250)"
      ]
     },
     "execution_count": 277,
     "metadata": {},
     "output_type": "execute_result"
    }
   ],
   "source": [
    "loss_fn = MSELoss()\n",
    "inputs = torch.tensor([1.1, 2.2])\n",
    "targets = torch.tensor([1., 2.])\n",
    "loss_fn(inputs, targets)"
   ]
  },
  {
   "cell_type": "code",
   "execution_count": 285,
   "id": "57609c88-8cc5-4e2c-96d2-754ee9d37b8b",
   "metadata": {},
   "outputs": [
    {
     "data": {
      "text/plain": [
       "(torch.Size([100]), torch.Size([100]))"
      ]
     },
     "execution_count": 285,
     "metadata": {},
     "output_type": "execute_result"
    }
   ],
   "source": [
    "# Preparing Data\n",
    "n = 100\n",
    "x = torch.randn(n)\n",
    "w_true = torch.tensor(2.)\n",
    "b_true = torch.tensor(5.)\n",
    "noise = torch.randn(n)\n",
    "# y = 2x + 5 + noise\n",
    "y = (w_true * x + b_true) + noise\n",
    "x.shape, y.shape"
   ]
  },
  {
   "cell_type": "code",
   "execution_count": 289,
   "id": "d7b9f4c3-c714-4103-bedb-88baaaebc1f8",
   "metadata": {},
   "outputs": [
    {
     "data": {
      "image/svg+xml": [
       "<?xml version=\"1.0\" encoding=\"UTF-8\" standalone=\"no\"?>\n",
       "<!DOCTYPE svg PUBLIC \"-//W3C//DTD SVG 1.1//EN\"\n",
       " \"http://www.w3.org/Graphics/SVG/1.1/DTD/svg11.dtd\">\n",
       "<!-- Generated by graphviz version 2.43.0 (0)\n",
       " -->\n",
       "<!-- Title: %3 Pages: 1 -->\n",
       "<svg width=\"222pt\" height=\"445pt\"\n",
       " viewBox=\"0.00 0.00 222.00 445.00\" xmlns=\"http://www.w3.org/2000/svg\" xmlns:xlink=\"http://www.w3.org/1999/xlink\">\n",
       "<g id=\"graph0\" class=\"graph\" transform=\"scale(1 1) rotate(0) translate(4 441)\">\n",
       "<title>%3</title>\n",
       "<polygon fill=\"white\" stroke=\"transparent\" points=\"-4,4 -4,-441 218,-441 218,4 -4,4\"/>\n",
       "<!-- 131412108314656 -->\n",
       "<g id=\"node1\" class=\"node\">\n",
       "<title>131412108314656</title>\n",
       "<polygon fill=\"#caff70\" stroke=\"black\" points=\"133.5,-30 79.5,-30 79.5,0 133.5,0 133.5,-30\"/>\n",
       "<text text-anchor=\"middle\" x=\"106.5\" y=\"-18\" font-family=\"monospace\" font-size=\"10.00\">loss</text>\n",
       "<text text-anchor=\"middle\" x=\"106.5\" y=\"-7\" font-family=\"monospace\" font-size=\"10.00\"> ()</text>\n",
       "</g>\n",
       "<!-- 131412108082672 -->\n",
       "<g id=\"node2\" class=\"node\">\n",
       "<title>131412108082672</title>\n",
       "<polygon fill=\"lightgrey\" stroke=\"black\" points=\"154,-85 59,-85 59,-66 154,-66 154,-85\"/>\n",
       "<text text-anchor=\"middle\" x=\"106.5\" y=\"-73\" font-family=\"monospace\" font-size=\"10.00\">MeanBackward0</text>\n",
       "</g>\n",
       "<!-- 131412108082672&#45;&gt;131412108314656 -->\n",
       "<g id=\"edge9\" class=\"edge\">\n",
       "<title>131412108082672&#45;&gt;131412108314656</title>\n",
       "<path fill=\"none\" stroke=\"black\" d=\"M106.5,-65.87C106.5,-59.11 106.5,-49.35 106.5,-40.26\"/>\n",
       "<polygon fill=\"black\" stroke=\"black\" points=\"110,-40.11 106.5,-30.11 103,-40.11 110,-40.11\"/>\n",
       "</g>\n",
       "<!-- 131412108080224 -->\n",
       "<g id=\"node3\" class=\"node\">\n",
       "<title>131412108080224</title>\n",
       "<polygon fill=\"lightgrey\" stroke=\"black\" points=\"151,-140 62,-140 62,-121 151,-121 151,-140\"/>\n",
       "<text text-anchor=\"middle\" x=\"106.5\" y=\"-128\" font-family=\"monospace\" font-size=\"10.00\">PowBackward0</text>\n",
       "</g>\n",
       "<!-- 131412108080224&#45;&gt;131412108082672 -->\n",
       "<g id=\"edge1\" class=\"edge\">\n",
       "<title>131412108080224&#45;&gt;131412108082672</title>\n",
       "<path fill=\"none\" stroke=\"black\" d=\"M106.5,-120.75C106.5,-113.8 106.5,-103.85 106.5,-95.13\"/>\n",
       "<polygon fill=\"black\" stroke=\"black\" points=\"110,-95.09 106.5,-85.09 103,-95.09 110,-95.09\"/>\n",
       "</g>\n",
       "<!-- 131412108082048 -->\n",
       "<g id=\"node4\" class=\"node\">\n",
       "<title>131412108082048</title>\n",
       "<polygon fill=\"lightgrey\" stroke=\"black\" points=\"151,-195 62,-195 62,-176 151,-176 151,-195\"/>\n",
       "<text text-anchor=\"middle\" x=\"106.5\" y=\"-183\" font-family=\"monospace\" font-size=\"10.00\">SubBackward0</text>\n",
       "</g>\n",
       "<!-- 131412108082048&#45;&gt;131412108080224 -->\n",
       "<g id=\"edge2\" class=\"edge\">\n",
       "<title>131412108082048&#45;&gt;131412108080224</title>\n",
       "<path fill=\"none\" stroke=\"black\" d=\"M106.5,-175.75C106.5,-168.8 106.5,-158.85 106.5,-150.13\"/>\n",
       "<polygon fill=\"black\" stroke=\"black\" points=\"110,-150.09 106.5,-140.09 103,-150.09 110,-150.09\"/>\n",
       "</g>\n",
       "<!-- 131412108071200 -->\n",
       "<g id=\"node5\" class=\"node\">\n",
       "<title>131412108071200</title>\n",
       "<polygon fill=\"lightgrey\" stroke=\"black\" points=\"151,-250 62,-250 62,-231 151,-231 151,-250\"/>\n",
       "<text text-anchor=\"middle\" x=\"106.5\" y=\"-238\" font-family=\"monospace\" font-size=\"10.00\">AddBackward0</text>\n",
       "</g>\n",
       "<!-- 131412108071200&#45;&gt;131412108082048 -->\n",
       "<g id=\"edge3\" class=\"edge\">\n",
       "<title>131412108071200&#45;&gt;131412108082048</title>\n",
       "<path fill=\"none\" stroke=\"black\" d=\"M106.5,-230.75C106.5,-223.8 106.5,-213.85 106.5,-205.13\"/>\n",
       "<polygon fill=\"black\" stroke=\"black\" points=\"110,-205.09 106.5,-195.09 103,-205.09 110,-205.09\"/>\n",
       "</g>\n",
       "<!-- 131412108070576 -->\n",
       "<g id=\"node6\" class=\"node\">\n",
       "<title>131412108070576</title>\n",
       "<polygon fill=\"lightgrey\" stroke=\"black\" points=\"95,-305 6,-305 6,-286 95,-286 95,-305\"/>\n",
       "<text text-anchor=\"middle\" x=\"50.5\" y=\"-293\" font-family=\"monospace\" font-size=\"10.00\">MulBackward0</text>\n",
       "</g>\n",
       "<!-- 131412108070576&#45;&gt;131412108071200 -->\n",
       "<g id=\"edge4\" class=\"edge\">\n",
       "<title>131412108070576&#45;&gt;131412108071200</title>\n",
       "<path fill=\"none\" stroke=\"black\" d=\"M59.5,-285.98C67.69,-278.23 80.01,-266.58 89.97,-257.14\"/>\n",
       "<polygon fill=\"black\" stroke=\"black\" points=\"92.48,-259.59 97.34,-250.17 87.67,-254.5 92.48,-259.59\"/>\n",
       "</g>\n",
       "<!-- 131412108076528 -->\n",
       "<g id=\"node7\" class=\"node\">\n",
       "<title>131412108076528</title>\n",
       "<polygon fill=\"lightgrey\" stroke=\"black\" points=\"101,-365.5 0,-365.5 0,-346.5 101,-346.5 101,-365.5\"/>\n",
       "<text text-anchor=\"middle\" x=\"50.5\" y=\"-353.5\" font-family=\"monospace\" font-size=\"10.00\">AccumulateGrad</text>\n",
       "</g>\n",
       "<!-- 131412108076528&#45;&gt;131412108070576 -->\n",
       "<g id=\"edge5\" class=\"edge\">\n",
       "<title>131412108076528&#45;&gt;131412108070576</title>\n",
       "<path fill=\"none\" stroke=\"black\" d=\"M50.5,-346.37C50.5,-338.25 50.5,-325.81 50.5,-315.39\"/>\n",
       "<polygon fill=\"black\" stroke=\"black\" points=\"54,-315.17 50.5,-305.17 47,-315.17 54,-315.17\"/>\n",
       "</g>\n",
       "<!-- 131412108688944 -->\n",
       "<g id=\"node8\" class=\"node\">\n",
       "<title>131412108688944</title>\n",
       "<polygon fill=\"lightblue\" stroke=\"black\" points=\"77.5,-437 23.5,-437 23.5,-407 77.5,-407 77.5,-437\"/>\n",
       "<text text-anchor=\"middle\" x=\"50.5\" y=\"-425\" font-family=\"monospace\" font-size=\"10.00\">w</text>\n",
       "<text text-anchor=\"middle\" x=\"50.5\" y=\"-414\" font-family=\"monospace\" font-size=\"10.00\"> ()</text>\n",
       "</g>\n",
       "<!-- 131412108688944&#45;&gt;131412108076528 -->\n",
       "<g id=\"edge6\" class=\"edge\">\n",
       "<title>131412108688944&#45;&gt;131412108076528</title>\n",
       "<path fill=\"none\" stroke=\"black\" d=\"M50.5,-406.8C50.5,-397.7 50.5,-385.79 50.5,-375.9\"/>\n",
       "<polygon fill=\"black\" stroke=\"black\" points=\"54,-375.84 50.5,-365.84 47,-375.84 54,-375.84\"/>\n",
       "</g>\n",
       "<!-- 131412108082192 -->\n",
       "<g id=\"node9\" class=\"node\">\n",
       "<title>131412108082192</title>\n",
       "<polygon fill=\"lightgrey\" stroke=\"black\" points=\"214,-305 113,-305 113,-286 214,-286 214,-305\"/>\n",
       "<text text-anchor=\"middle\" x=\"163.5\" y=\"-293\" font-family=\"monospace\" font-size=\"10.00\">AccumulateGrad</text>\n",
       "</g>\n",
       "<!-- 131412108082192&#45;&gt;131412108071200 -->\n",
       "<g id=\"edge7\" class=\"edge\">\n",
       "<title>131412108082192&#45;&gt;131412108071200</title>\n",
       "<path fill=\"none\" stroke=\"black\" d=\"M154.34,-285.98C146,-278.23 133.47,-266.58 123.32,-257.14\"/>\n",
       "<polygon fill=\"black\" stroke=\"black\" points=\"125.53,-254.42 115.82,-250.17 120.76,-259.54 125.53,-254.42\"/>\n",
       "</g>\n",
       "<!-- 131412108722416 -->\n",
       "<g id=\"node10\" class=\"node\">\n",
       "<title>131412108722416</title>\n",
       "<polygon fill=\"lightblue\" stroke=\"black\" points=\"190.5,-371 136.5,-371 136.5,-341 190.5,-341 190.5,-371\"/>\n",
       "<text text-anchor=\"middle\" x=\"163.5\" y=\"-359\" font-family=\"monospace\" font-size=\"10.00\">b</text>\n",
       "<text text-anchor=\"middle\" x=\"163.5\" y=\"-348\" font-family=\"monospace\" font-size=\"10.00\"> ()</text>\n",
       "</g>\n",
       "<!-- 131412108722416&#45;&gt;131412108082192 -->\n",
       "<g id=\"edge8\" class=\"edge\">\n",
       "<title>131412108722416&#45;&gt;131412108082192</title>\n",
       "<path fill=\"none\" stroke=\"black\" d=\"M163.5,-340.84C163.5,-333.21 163.5,-323.7 163.5,-315.45\"/>\n",
       "<polygon fill=\"black\" stroke=\"black\" points=\"167,-315.27 163.5,-305.27 160,-315.27 167,-315.27\"/>\n",
       "</g>\n",
       "</g>\n",
       "</svg>\n"
      ],
      "text/plain": [
       "<graphviz.graphs.Digraph at 0x7784c4055880>"
      ]
     },
     "execution_count": 289,
     "metadata": {},
     "output_type": "execute_result"
    }
   ],
   "source": [
    "w = torch.tensor(0., requires_grad =True)\n",
    "b = torch.tensor(0., requires_grad=True)\n",
    "y_hat = w * x + b\n",
    "loss = ((y_hat - y) ** 2).mean()\n",
    "graph = make_dot(loss, {'w':w, 'b':b, 'loss':loss})\n",
    "graph"
   ]
  },
  {
   "cell_type": "code",
   "execution_count": 293,
   "id": "f53531be-34d3-4405-a05b-2b46b9725806",
   "metadata": {},
   "outputs": [
    {
     "data": {
      "text/plain": [
       "[<matplotlib.lines.Line2D at 0x7784c40fc770>]"
      ]
     },
     "execution_count": 293,
     "metadata": {},
     "output_type": "execute_result"
    },
    {
     "data": {
      "image/png": "[encoded data removed]",
      "text/plain": [
       "<Figure size 640x480 with 1 Axes>"
      ]
     },
     "metadata": {},
     "output_type": "display_data"
    }
   ],
   "source": [
    "w = torch.tensor(0., requires_grad =True)\n",
    "b = torch.tensor(0., requires_grad=True)\n",
    "\n",
    "eta = 0.1\n",
    "epochs = 200\n",
    "losses = []\n",
    "for epoch in range(epochs):\n",
    "    y_hat = w * x + b\n",
    "    loss = ((y_hat - y) ** 2).mean()\n",
    "    losses.append(loss.item())\n",
    "\n",
    "    loss.backward()\n",
    "    loss.\n",
    "\n",
    "    with torch.no_grad():\n",
    "        w_grad = (2* (y_hat - y) * x).mean()\n",
    "        b_grad = (2* (y_hat - y)).mean()\n",
    "        w -= eta * w.grad\n",
    "        b -= eta * w.grad\n",
    "\n",
    "w,b\n",
    "plt.plot(range(epochs), losses)\n"
   ]
  },
  {
   "cell_type": "code",
   "execution_count": 299,
   "id": "d35dd723-8e9b-4482-99c6-455708646f5f",
   "metadata": {},
   "outputs": [
    {
     "data": {
      "text/plain": [
       "0.025000011548399925"
      ]
     },
     "execution_count": 299,
     "metadata": {},
     "output_type": "execute_result"
    }
   ],
   "source": [
    "loss_fn = MSELoss()\n",
    "# loss_fn is an object of class MSELoss\n",
    "# loss_fn(inputs, targets)\n",
    "inputs = torch.tensor([1., 2.])\n",
    "targets = torch.tensor([1.1, 2.2])\n",
    "loss_fn(inputs, targets).item()"
   ]
  },
  {
   "cell_type": "code",
   "execution_count": 301,
   "id": "93256aa8-964f-49e9-a993-579ca0abad11",
   "metadata": {},
   "outputs": [
    {
     "name": "stdout",
     "output_type": "stream",
     "text": [
      "tensor(2.0302, requires_grad=True) tensor(5.0172, requires_grad=True)\n"
     ]
    },
    {
     "data": {
      "image/png": "[encoded data removed]",
      "text/plain": [
       "<Figure size 640x480 with 1 Axes>"
      ]
     },
     "metadata": {},
     "output_type": "display_data"
    }
   ],
   "source": [
    "# Train model\n",
    "w = torch.tensor(0., requires_grad=True)\n",
    "b = torch.tensor(0., requires_grad=True)\n",
    "eta = 0.01\n",
    "epochs = 200\n",
    "losses = [ ]\n",
    "\n",
    "for epoch in range(epochs):\n",
    "    # Forward\n",
    "    y_hat = w * x + b\n",
    "    loss = loss_fn(y_hat, y)\n",
    "    losses.append(loss.item())\n",
    "\n",
    "    # Backward\n",
    "    loss.backward()\n",
    "\n",
    "    # context manager\n",
    "    with torch.no_grad():\n",
    "        # do not track gradients\n",
    "        # do not disturb the computational graph\n",
    "        w -= eta * w.grad\n",
    "        b -= eta * b.grad\n",
    "\n",
    "    w.grad.zero_()\n",
    "    b.grad.zero_()\n",
    "\n",
    "print(w, b)\n",
    "plt.plot(range(epochs), losses);"
   ]
  },
  {
   "cell_type": "code",
   "execution_count": 303,
   "id": "525c1b21-5151-42a8-bf13-518c7764ea72",
   "metadata": {},
   "outputs": [],
   "source": [
    "from torchvision import datasets"
   ]
  },
  {
   "cell_type": "code",
   "execution_count": 297,
   "id": "1c2fc330-6f57-4cdc-99dc-99362e444cff",
   "metadata": {},
   "outputs": [],
   "source": [
    "from torchvision.transforms import ToTensor"
   ]
  },
  {
   "cell_type": "code",
   "execution_count": 305,
   "id": "f7d6426f-33de-48cd-8952-1301471868fa",
   "metadata": {},
   "outputs": [],
   "source": [
    "train_data = datasets.MNIST(\n",
    "    root='data',\n",
    "    download=True,\n",
    "    train=True\n",
    ")\n",
    "test_data = datasets.MNIST(\n",
    "    root='data',\n",
    "    download=True,\n",
    "    train=False\n",
    ")\n"
   ]
  },
  {
   "cell_type": "code",
   "execution_count": 307,
   "id": "2fb8312f-417f-4fec-bfb8-53211b4c296e",
   "metadata": {},
   "outputs": [
    {
     "data": {
      "text/plain": [
       "Dataset MNIST\n",
       "    Number of datapoints: 10000\n",
       "    Root location: data\n",
       "    Split: Test"
      ]
     },
     "execution_count": 307,
     "metadata": {},
     "output_type": "execute_result"
    }
   ],
   "source": [
    "test_data"
   ]
  },
  {
   "cell_type": "code",
   "execution_count": 244,
   "id": "18561d0c-9517-47e9-ba45-026ec726499d",
   "metadata": {},
   "outputs": [
    {
     "data": {
      "text/plain": [
       "torch.Size([60000, 28, 28])"
      ]
     },
     "execution_count": 244,
     "metadata": {},
     "output_type": "execute_result"
    }
   ],
   "source": [
    "train_data.data.shape"
   ]
  },
  {
   "cell_type": "code",
   "execution_count": 309,
   "id": "326b91e1-fe8f-42a5-87ae-486e6f4d213c",
   "metadata": {},
   "outputs": [
    {
     "data": {
      "text/plain": [
       "(60000, 10000)"
      ]
     },
     "execution_count": 309,
     "metadata": {},
     "output_type": "execute_result"
    }
   ],
   "source": [
    "len(train_data), len(test_data)"
   ]
  },
  {
   "cell_type": "raw",
   "id": "8f7311cd-4d4b-4d79-8c26-7538fb638030",
   "metadata": {},
   "source": [
    "train_data.targets.shape"
   ]
  },
  {
   "cell_type": "code",
   "execution_count": 311,
   "id": "55421836-0208-4d14-a406-d6afcc5434e7",
   "metadata": {},
   "outputs": [
    {
     "data": {
      "text/plain": [
       "(<PIL.Image.Image image mode=L size=28x28>, 5)"
      ]
     },
     "execution_count": 311,
     "metadata": {},
     "output_type": "execute_result"
    }
   ],
   "source": [
    "# Subscritable or indexable\n",
    "img, label = train_data[0]\n",
    "img, label"
   ]
  },
  {
   "cell_type": "code",
   "execution_count": 246,
   "id": "7c57c9a7-51e2-4ace-93e8-cdc159645924",
   "metadata": {},
   "outputs": [
    {
     "data": {
      "text/plain": [
       "tensor([False, False, False,  ..., False, False, False])"
      ]
     },
     "execution_count": 246,
     "metadata": {},
     "output_type": "execute_result"
    }
   ],
   "source": [
    "train_data.targets == 7"
   ]
  },
  {
   "cell_type": "code",
   "execution_count": 313,
   "id": "a602d96f-448a-49c7-ba88-5b3fe66fd6e2",
   "metadata": {},
   "outputs": [],
   "source": [
    "from torchvision.transforms import ToTensor\n"
   ]
  },
  {
   "cell_type": "code",
   "execution_count": 315,
   "id": "d46f6c1f-6b45-4b75-a490-5cef4e61a75b",
   "metadata": {},
   "outputs": [
    {
     "data": {
      "text/plain": [
       "(tensor([[[0.0000, 0.0000, 0.0000, 0.0000, 0.0000, 0.0000, 0.0000, 0.0000,\n",
       "           0.0000, 0.0000, 0.0000, 0.0000, 0.0000, 0.0000, 0.0000, 0.0000,\n",
       "           0.0000, 0.0000, 0.0000, 0.0000, 0.0000, 0.0000, 0.0000, 0.0000,\n",
       "           0.0000, 0.0000, 0.0000, 0.0000],\n",
       "          [0.0000, 0.0000, 0.0000, 0.0000, 0.0000, 0.0000, 0.0000, 0.0000,\n",
       "           0.0000, 0.0000, 0.0000, 0.0000, 0.0000, 0.0000, 0.0000, 0.0000,\n",
       "           0.0000, 0.0000, 0.0000, 0.0000, 0.0000, 0.0000, 0.0000, 0.0000,\n",
       "           0.0000, 0.0000, 0.0000, 0.0000],\n",
       "          [0.0000, 0.0000, 0.0000, 0.0000, 0.0000, 0.0000, 0.0000, 0.0000,\n",
       "           0.0000, 0.0000, 0.0000, 0.0000, 0.0000, 0.0000, 0.0000, 0.0000,\n",
       "           0.0000, 0.0000, 0.0000, 0.0000, 0.0000, 0.0000, 0.0000, 0.0000,\n",
       "           0.0000, 0.0000, 0.0000, 0.0000],\n",
       "          [0.0000, 0.0000, 0.0000, 0.0000, 0.0000, 0.0000, 0.0000, 0.0000,\n",
       "           0.0000, 0.0000, 0.0000, 0.0000, 0.0000, 0.0000, 0.0000, 0.0000,\n",
       "           0.0000, 0.0000, 0.0000, 0.0000, 0.0000, 0.0000, 0.0000, 0.0000,\n",
       "           0.0000, 0.0000, 0.0000, 0.0000],\n",
       "          [0.0000, 0.0000, 0.0000, 0.0000, 0.0000, 0.0000, 0.0000, 0.0000,\n",
       "           0.0000, 0.0000, 0.0000, 0.0000, 0.0000, 0.0000, 0.0000, 0.0000,\n",
       "           0.0000, 0.0000, 0.0000, 0.0000, 0.0000, 0.0000, 0.0000, 0.0000,\n",
       "           0.0000, 0.0000, 0.0000, 0.0000],\n",
       "          [0.0000, 0.0000, 0.0000, 0.0000, 0.0000, 0.0000, 0.0000, 0.0000,\n",
       "           0.0000, 0.0000, 0.0000, 0.0000, 0.0118, 0.0706, 0.0706, 0.0706,\n",
       "           0.4941, 0.5333, 0.6863, 0.1020, 0.6510, 1.0000, 0.9686, 0.4980,\n",
       "           0.0000, 0.0000, 0.0000, 0.0000],\n",
       "          [0.0000, 0.0000, 0.0000, 0.0000, 0.0000, 0.0000, 0.0000, 0.0000,\n",
       "           0.1176, 0.1412, 0.3686, 0.6039, 0.6667, 0.9922, 0.9922, 0.9922,\n",
       "           0.9922, 0.9922, 0.8824, 0.6745, 0.9922, 0.9490, 0.7647, 0.2510,\n",
       "           0.0000, 0.0000, 0.0000, 0.0000],\n",
       "          [0.0000, 0.0000, 0.0000, 0.0000, 0.0000, 0.0000, 0.0000, 0.1922,\n",
       "           0.9333, 0.9922, 0.9922, 0.9922, 0.9922, 0.9922, 0.9922, 0.9922,\n",
       "           0.9922, 0.9843, 0.3647, 0.3216, 0.3216, 0.2196, 0.1529, 0.0000,\n",
       "           0.0000, 0.0000, 0.0000, 0.0000],\n",
       "          [0.0000, 0.0000, 0.0000, 0.0000, 0.0000, 0.0000, 0.0000, 0.0706,\n",
       "           0.8588, 0.9922, 0.9922, 0.9922, 0.9922, 0.9922, 0.7765, 0.7137,\n",
       "           0.9686, 0.9451, 0.0000, 0.0000, 0.0000, 0.0000, 0.0000, 0.0000,\n",
       "           0.0000, 0.0000, 0.0000, 0.0000],\n",
       "          [0.0000, 0.0000, 0.0000, 0.0000, 0.0000, 0.0000, 0.0000, 0.0000,\n",
       "           0.3137, 0.6118, 0.4196, 0.9922, 0.9922, 0.8039, 0.0431, 0.0000,\n",
       "           0.1686, 0.6039, 0.0000, 0.0000, 0.0000, 0.0000, 0.0000, 0.0000,\n",
       "           0.0000, 0.0000, 0.0000, 0.0000],\n",
       "          [0.0000, 0.0000, 0.0000, 0.0000, 0.0000, 0.0000, 0.0000, 0.0000,\n",
       "           0.0000, 0.0549, 0.0039, 0.6039, 0.9922, 0.3529, 0.0000, 0.0000,\n",
       "           0.0000, 0.0000, 0.0000, 0.0000, 0.0000, 0.0000, 0.0000, 0.0000,\n",
       "           0.0000, 0.0000, 0.0000, 0.0000],\n",
       "          [0.0000, 0.0000, 0.0000, 0.0000, 0.0000, 0.0000, 0.0000, 0.0000,\n",
       "           0.0000, 0.0000, 0.0000, 0.5451, 0.9922, 0.7451, 0.0078, 0.0000,\n",
       "           0.0000, 0.0000, 0.0000, 0.0000, 0.0000, 0.0000, 0.0000, 0.0000,\n",
       "           0.0000, 0.0000, 0.0000, 0.0000],\n",
       "          [0.0000, 0.0000, 0.0000, 0.0000, 0.0000, 0.0000, 0.0000, 0.0000,\n",
       "           0.0000, 0.0000, 0.0000, 0.0431, 0.7451, 0.9922, 0.2745, 0.0000,\n",
       "           0.0000, 0.0000, 0.0000, 0.0000, 0.0000, 0.0000, 0.0000, 0.0000,\n",
       "           0.0000, 0.0000, 0.0000, 0.0000],\n",
       "          [0.0000, 0.0000, 0.0000, 0.0000, 0.0000, 0.0000, 0.0000, 0.0000,\n",
       "           0.0000, 0.0000, 0.0000, 0.0000, 0.1373, 0.9451, 0.8824, 0.6275,\n",
       "           0.4235, 0.0039, 0.0000, 0.0000, 0.0000, 0.0000, 0.0000, 0.0000,\n",
       "           0.0000, 0.0000, 0.0000, 0.0000],\n",
       "          [0.0000, 0.0000, 0.0000, 0.0000, 0.0000, 0.0000, 0.0000, 0.0000,\n",
       "           0.0000, 0.0000, 0.0000, 0.0000, 0.0000, 0.3176, 0.9412, 0.9922,\n",
       "           0.9922, 0.4667, 0.0980, 0.0000, 0.0000, 0.0000, 0.0000, 0.0000,\n",
       "           0.0000, 0.0000, 0.0000, 0.0000],\n",
       "          [0.0000, 0.0000, 0.0000, 0.0000, 0.0000, 0.0000, 0.0000, 0.0000,\n",
       "           0.0000, 0.0000, 0.0000, 0.0000, 0.0000, 0.0000, 0.1765, 0.7294,\n",
       "           0.9922, 0.9922, 0.5882, 0.1059, 0.0000, 0.0000, 0.0000, 0.0000,\n",
       "           0.0000, 0.0000, 0.0000, 0.0000],\n",
       "          [0.0000, 0.0000, 0.0000, 0.0000, 0.0000, 0.0000, 0.0000, 0.0000,\n",
       "           0.0000, 0.0000, 0.0000, 0.0000, 0.0000, 0.0000, 0.0000, 0.0627,\n",
       "           0.3647, 0.9882, 0.9922, 0.7333, 0.0000, 0.0000, 0.0000, 0.0000,\n",
       "           0.0000, 0.0000, 0.0000, 0.0000],\n",
       "          [0.0000, 0.0000, 0.0000, 0.0000, 0.0000, 0.0000, 0.0000, 0.0000,\n",
       "           0.0000, 0.0000, 0.0000, 0.0000, 0.0000, 0.0000, 0.0000, 0.0000,\n",
       "           0.0000, 0.9765, 0.9922, 0.9765, 0.2510, 0.0000, 0.0000, 0.0000,\n",
       "           0.0000, 0.0000, 0.0000, 0.0000],\n",
       "          [0.0000, 0.0000, 0.0000, 0.0000, 0.0000, 0.0000, 0.0000, 0.0000,\n",
       "           0.0000, 0.0000, 0.0000, 0.0000, 0.0000, 0.0000, 0.1804, 0.5098,\n",
       "           0.7176, 0.9922, 0.9922, 0.8118, 0.0078, 0.0000, 0.0000, 0.0000,\n",
       "           0.0000, 0.0000, 0.0000, 0.0000],\n",
       "          [0.0000, 0.0000, 0.0000, 0.0000, 0.0000, 0.0000, 0.0000, 0.0000,\n",
       "           0.0000, 0.0000, 0.0000, 0.0000, 0.1529, 0.5804, 0.8980, 0.9922,\n",
       "           0.9922, 0.9922, 0.9804, 0.7137, 0.0000, 0.0000, 0.0000, 0.0000,\n",
       "           0.0000, 0.0000, 0.0000, 0.0000],\n",
       "          [0.0000, 0.0000, 0.0000, 0.0000, 0.0000, 0.0000, 0.0000, 0.0000,\n",
       "           0.0000, 0.0000, 0.0941, 0.4471, 0.8667, 0.9922, 0.9922, 0.9922,\n",
       "           0.9922, 0.7882, 0.3059, 0.0000, 0.0000, 0.0000, 0.0000, 0.0000,\n",
       "           0.0000, 0.0000, 0.0000, 0.0000],\n",
       "          [0.0000, 0.0000, 0.0000, 0.0000, 0.0000, 0.0000, 0.0000, 0.0000,\n",
       "           0.0902, 0.2588, 0.8353, 0.9922, 0.9922, 0.9922, 0.9922, 0.7765,\n",
       "           0.3176, 0.0078, 0.0000, 0.0000, 0.0000, 0.0000, 0.0000, 0.0000,\n",
       "           0.0000, 0.0000, 0.0000, 0.0000],\n",
       "          [0.0000, 0.0000, 0.0000, 0.0000, 0.0000, 0.0000, 0.0706, 0.6706,\n",
       "           0.8588, 0.9922, 0.9922, 0.9922, 0.9922, 0.7647, 0.3137, 0.0353,\n",
       "           0.0000, 0.0000, 0.0000, 0.0000, 0.0000, 0.0000, 0.0000, 0.0000,\n",
       "           0.0000, 0.0000, 0.0000, 0.0000],\n",
       "          [0.0000, 0.0000, 0.0000, 0.0000, 0.2157, 0.6745, 0.8863, 0.9922,\n",
       "           0.9922, 0.9922, 0.9922, 0.9569, 0.5216, 0.0431, 0.0000, 0.0000,\n",
       "           0.0000, 0.0000, 0.0000, 0.0000, 0.0000, 0.0000, 0.0000, 0.0000,\n",
       "           0.0000, 0.0000, 0.0000, 0.0000],\n",
       "          [0.0000, 0.0000, 0.0000, 0.0000, 0.5333, 0.9922, 0.9922, 0.9922,\n",
       "           0.8314, 0.5294, 0.5176, 0.0627, 0.0000, 0.0000, 0.0000, 0.0000,\n",
       "           0.0000, 0.0000, 0.0000, 0.0000, 0.0000, 0.0000, 0.0000, 0.0000,\n",
       "           0.0000, 0.0000, 0.0000, 0.0000],\n",
       "          [0.0000, 0.0000, 0.0000, 0.0000, 0.0000, 0.0000, 0.0000, 0.0000,\n",
       "           0.0000, 0.0000, 0.0000, 0.0000, 0.0000, 0.0000, 0.0000, 0.0000,\n",
       "           0.0000, 0.0000, 0.0000, 0.0000, 0.0000, 0.0000, 0.0000, 0.0000,\n",
       "           0.0000, 0.0000, 0.0000, 0.0000],\n",
       "          [0.0000, 0.0000, 0.0000, 0.0000, 0.0000, 0.0000, 0.0000, 0.0000,\n",
       "           0.0000, 0.0000, 0.0000, 0.0000, 0.0000, 0.0000, 0.0000, 0.0000,\n",
       "           0.0000, 0.0000, 0.0000, 0.0000, 0.0000, 0.0000, 0.0000, 0.0000,\n",
       "           0.0000, 0.0000, 0.0000, 0.0000],\n",
       "          [0.0000, 0.0000, 0.0000, 0.0000, 0.0000, 0.0000, 0.0000, 0.0000,\n",
       "           0.0000, 0.0000, 0.0000, 0.0000, 0.0000, 0.0000, 0.0000, 0.0000,\n",
       "           0.0000, 0.0000, 0.0000, 0.0000, 0.0000, 0.0000, 0.0000, 0.0000,\n",
       "           0.0000, 0.0000, 0.0000, 0.0000]]]),\n",
       " 5)"
      ]
     },
     "execution_count": 315,
     "metadata": {},
     "output_type": "execute_result"
    }
   ],
   "source": [
    "train_data = datasets.MNIST(\n",
    "    root='data',\n",
    "    train=True,\n",
    "    transform=ToTensor()\n",
    ")\n",
    "img, label = train_data[0]\n",
    "img, label"
   ]
  },
  {
   "cell_type": "code",
   "execution_count": 317,
   "id": "52abf805-1f23-49d2-879d-edb40fbdd8ea",
   "metadata": {},
   "outputs": [
    {
     "data": {
      "text/plain": [
       "torch.Size([60000, 28, 28])"
      ]
     },
     "execution_count": 317,
     "metadata": {},
     "output_type": "execute_result"
    }
   ],
   "source": [
    "train_data.data.shape"
   ]
  },
  {
   "cell_type": "code",
   "execution_count": 319,
   "id": "4365da42-1557-4b42-8b8a-449a5ffe596a",
   "metadata": {},
   "outputs": [
    {
     "data": {
      "text/plain": [
       "torch.Size([60000])"
      ]
     },
     "execution_count": 319,
     "metadata": {},
     "output_type": "execute_result"
    }
   ],
   "source": [
    "train_data.targets.shape"
   ]
  },
  {
   "cell_type": "code",
   "execution_count": 321,
   "id": "82846f1d-ebbe-4109-9fa0-4d77eef367f3",
   "metadata": {},
   "outputs": [
    {
     "data": {
      "text/plain": [
       "tensor([0, 4])"
      ]
     },
     "execution_count": 321,
     "metadata": {},
     "output_type": "execute_result"
    }
   ],
   "source": [
    "x = torch.tensor([0, 1, 2, 3, 4])\n",
    "y = torch.tensor([True, False, False, False, True])\n",
    "x[y]"
   ]
  },
  {
   "cell_type": "code",
   "execution_count": 335,
   "id": "4880bab0-9492-48e4-8c46-8fc2d3e79aa7",
   "metadata": {},
   "outputs": [
    {
     "data": {
      "text/plain": [
       "<matplotlib.image.AxesImage at 0x7784c06e64b0>"
      ]
     },
     "execution_count": 335,
     "metadata": {},
     "output_type": "execute_result"
    },
    {
     "data": {
      "image/png": "[encoded data removed]",
      "text/plain": [
       "<Figure size 640x480 with 1 Axes>"
      ]
     },
     "metadata": {},
     "output_type": "display_data"
    }
   ],
   "source": [
    "sevens = train_data.data[train_data.targets == 7, :, :]\n",
    "sevens.shape\n",
    "plt.imshow(sevens[15], cmap='gray')"
   ]
  },
  {
   "cell_type": "code",
   "execution_count": 325,
   "id": "65430394-7504-4a7a-b697-5383e0fb8d21",
   "metadata": {},
   "outputs": [
    {
     "data": {
      "text/plain": [
       "torch.Size([1, 28, 28])"
      ]
     },
     "execution_count": 325,
     "metadata": {},
     "output_type": "execute_result"
    }
   ],
   "source": [
    "torch.Size([1, 28, 28])"
   ]
  },
  {
   "cell_type": "code",
   "execution_count": 327,
   "id": "17aa0841-8865-4125-8990-97bc9d46084e",
   "metadata": {},
   "outputs": [
    {
     "data": {
      "text/plain": [
       "(tensor(1.), tensor(0.))"
      ]
     },
     "execution_count": 327,
     "metadata": {},
     "output_type": "execute_result"
    }
   ],
   "source": [
    "img.max(), img.min()"
   ]
  },
  {
   "cell_type": "code",
   "execution_count": 329,
   "id": "1920df4b-7b89-41fc-9beb-3057af74eba1",
   "metadata": {},
   "outputs": [
    {
     "data": {
      "image/png": "[encoded data removed]",
      "text/plain": [
       "<Figure size 640x480 with 1 Axes>"
      ]
     },
     "metadata": {},
     "output_type": "display_data"
    }
   ],
   "source": [
    "plt.imshow(img.squeeze(), cmap='gray');"
   ]
  },
  {
   "cell_type": "code",
   "execution_count": 331,
   "id": "c9cce023-4fc5-4084-8781-167fe1aa5707",
   "metadata": {},
   "outputs": [
    {
     "data": {
      "text/plain": [
       "torch.Size([2, 5])"
      ]
     },
     "execution_count": 331,
     "metadata": {},
     "output_type": "execute_result"
    }
   ],
   "source": [
    "x = torch.arange(10).reshape(1, 2, 5, 1)\n",
    "x.squeeze().shape"
   ]
  },
  {
   "cell_type": "code",
   "execution_count": null,
   "id": "c1f3e499-6f1f-4c60-bbc8-4536b6fa5e0c",
   "metadata": {},
   "outputs": [],
   "source": []
  },
  {
   "cell_type": "code",
   "execution_count": null,
   "id": "6c579304-bb52-4898-9bca-045175880aab",
   "metadata": {},
   "outputs": [],
   "source": []
  },
  {
   "cell_type": "markdown",
   "id": "9add4c32-f26d-4cbe-997b-15403c7c1fc2",
   "metadata": {},
   "source": [
    "## Tomorrow's agenda\n",
    "\n",
    "- Dataloaders\n",
    "- Optimizers (ADAM, SGD)\n",
    "- Neural Network (class)\n",
    "- Train a neural network\n",
    "- Accelerate with gpu"
   ]
  },
  {
   "cell_type": "code",
   "execution_count": null,
   "id": "fca0dff6-c27f-455a-9946-461a4cf93ecb",
   "metadata": {},
   "outputs": [],
   "source": []
  }
 ],
 "metadata": {
  "kernelspec": {
   "display_name": "Python [conda env:base] *",
   "language": "python",
   "name": "conda-base-py"
  },
  "language_info": {
   "codemirror_mode": {
    "name": "ipython",
    "version": 3
   },
   "file_extension": ".py",
   "mimetype": "text/x-python",
   "name": "python",
   "nbconvert_exporter": "python",
   "pygments_lexer": "ipython3",
   "version": "3.12.7"
  }
 },
 "nbformat": 4,
 "nbformat_minor": 5
}
